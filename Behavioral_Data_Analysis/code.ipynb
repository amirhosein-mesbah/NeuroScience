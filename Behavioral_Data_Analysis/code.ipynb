{
 "cells": [
  {
   "cell_type": "code",
   "execution_count": 1,
   "metadata": {},
   "outputs": [],
   "source": [
    "import numpy as np\n",
    "import pandas as pd\n",
    "import matplotlib.pyplot as plt\n",
    "import seaborn as sns\n",
    "import statsmodels.api as sm\n",
    "from statsmodels.formula.api import ols\n",
    "import statsmodels.formula.api as smf"
   ]
  },
  {
   "cell_type": "markdown",
   "metadata": {},
   "source": [
    "# 1. Cleaning the Data"
   ]
  },
  {
   "cell_type": "code",
   "execution_count": 2,
   "metadata": {},
   "outputs": [
    {
     "data": {
      "text/html": [
       "<div>\n",
       "<style scoped>\n",
       "    .dataframe tbody tr th:only-of-type {\n",
       "        vertical-align: middle;\n",
       "    }\n",
       "\n",
       "    .dataframe tbody tr th {\n",
       "        vertical-align: top;\n",
       "    }\n",
       "\n",
       "    .dataframe thead th {\n",
       "        text-align: right;\n",
       "    }\n",
       "</style>\n",
       "<table border=\"1\" class=\"dataframe\">\n",
       "  <thead>\n",
       "    <tr style=\"text-align: right;\">\n",
       "      <th></th>\n",
       "      <th>sbj</th>\n",
       "      <th>stm</th>\n",
       "      <th>rt</th>\n",
       "      <th>key</th>\n",
       "      <th>pos</th>\n",
       "      <th>uhnd</th>\n",
       "      <th>hndns</th>\n",
       "      <th>eye</th>\n",
       "      <th>sex</th>\n",
       "      <th>age</th>\n",
       "      <th>edu</th>\n",
       "      <th>size</th>\n",
       "    </tr>\n",
       "  </thead>\n",
       "  <tbody>\n",
       "    <tr>\n",
       "      <th>0</th>\n",
       "      <td>8101004202</td>\n",
       "      <td>50.bmp</td>\n",
       "      <td>3.825690</td>\n",
       "      <td>p</td>\n",
       "      <td>1.0</td>\n",
       "      <td>r</td>\n",
       "      <td>r</td>\n",
       "      <td>r</td>\n",
       "      <td>m</td>\n",
       "      <td>22.0</td>\n",
       "      <td>2.0</td>\n",
       "      <td>NaN</td>\n",
       "    </tr>\n",
       "    <tr>\n",
       "      <th>1</th>\n",
       "      <td>8101004202</td>\n",
       "      <td>60.bmp</td>\n",
       "      <td>2.733858</td>\n",
       "      <td>p</td>\n",
       "      <td>7.0</td>\n",
       "      <td>r</td>\n",
       "      <td>r</td>\n",
       "      <td>r</td>\n",
       "      <td>m</td>\n",
       "      <td>22.0</td>\n",
       "      <td>2.0</td>\n",
       "      <td>NaN</td>\n",
       "    </tr>\n",
       "    <tr>\n",
       "      <th>2</th>\n",
       "      <td>8101004202</td>\n",
       "      <td>60.bmp</td>\n",
       "      <td>1.618684</td>\n",
       "      <td>p</td>\n",
       "      <td>2.0</td>\n",
       "      <td>r</td>\n",
       "      <td>r</td>\n",
       "      <td>r</td>\n",
       "      <td>m</td>\n",
       "      <td>22.0</td>\n",
       "      <td>2.0</td>\n",
       "      <td>NaN</td>\n",
       "    </tr>\n",
       "    <tr>\n",
       "      <th>3</th>\n",
       "      <td>8101004202</td>\n",
       "      <td>50.bmp</td>\n",
       "      <td>0.925664</td>\n",
       "      <td>o</td>\n",
       "      <td>10.0</td>\n",
       "      <td>r</td>\n",
       "      <td>r</td>\n",
       "      <td>r</td>\n",
       "      <td>m</td>\n",
       "      <td>22.0</td>\n",
       "      <td>2.0</td>\n",
       "      <td>NaN</td>\n",
       "    </tr>\n",
       "    <tr>\n",
       "      <th>4</th>\n",
       "      <td>8101004202</td>\n",
       "      <td>30.bmp</td>\n",
       "      <td>3.540292</td>\n",
       "      <td>o</td>\n",
       "      <td>7.0</td>\n",
       "      <td>r</td>\n",
       "      <td>r</td>\n",
       "      <td>r</td>\n",
       "      <td>m</td>\n",
       "      <td>22.0</td>\n",
       "      <td>2.0</td>\n",
       "      <td>NaN</td>\n",
       "    </tr>\n",
       "  </tbody>\n",
       "</table>\n",
       "</div>"
      ],
      "text/plain": [
       "          sbj     stm        rt key   pos uhnd hndns eye sex   age  edu  size\n",
       "0  8101004202  50.bmp  3.825690   p   1.0    r     r   r   m  22.0  2.0   NaN\n",
       "1  8101004202  60.bmp  2.733858   p   7.0    r     r   r   m  22.0  2.0   NaN\n",
       "2  8101004202  60.bmp  1.618684   p   2.0    r     r   r   m  22.0  2.0   NaN\n",
       "3  8101004202  50.bmp  0.925664   o  10.0    r     r   r   m  22.0  2.0   NaN\n",
       "4  8101004202  30.bmp  3.540292   o   7.0    r     r   r   m  22.0  2.0   NaN"
      ]
     },
     "execution_count": 2,
     "metadata": {},
     "output_type": "execute_result"
    }
   ],
   "source": [
    "data = pd.read_csv('DataCognitive_Task2.csv',dtype={'sbj': str})\n",
    "data = data.drop(columns=['Unnamed: 0'])\n",
    "data.head()"
   ]
  },
  {
   "cell_type": "code",
   "execution_count": 3,
   "metadata": {},
   "outputs": [],
   "source": [
    "ml_sec_indexes = data[ (data['sbj'] =='8101003761') | (data['sbj'] =='8101003762')].index\n",
    "data.loc[ml_sec_indexes,'rt'] = data.loc[ml_sec_indexes,'rt'] / 1000"
   ]
  },
  {
   "cell_type": "code",
   "execution_count": 4,
   "metadata": {},
   "outputs": [
    {
     "data": {
      "text/plain": [
       "sbj           4\n",
       "stm          15\n",
       "rt           12\n",
       "key          15\n",
       "pos        1770\n",
       "uhnd         16\n",
       "hndns         4\n",
       "eye           5\n",
       "sex           4\n",
       "age           4\n",
       "edu           7\n",
       "size     116079\n",
       "dtype: int64"
      ]
     },
     "execution_count": 4,
     "metadata": {},
     "output_type": "execute_result"
    }
   ],
   "source": [
    "data.isna().sum()"
   ]
  },
  {
   "cell_type": "code",
   "execution_count": 5,
   "metadata": {},
   "outputs": [
    {
     "data": {
      "text/plain": [
       "sbj      0\n",
       "stm      0\n",
       "rt       0\n",
       "key      0\n",
       "pos      0\n",
       "uhnd     0\n",
       "hndns    0\n",
       "eye      0\n",
       "sex      0\n",
       "age      0\n",
       "edu      0\n",
       "dtype: int64"
      ]
     },
     "execution_count": 5,
     "metadata": {},
     "output_type": "execute_result"
    }
   ],
   "source": [
    "data = data.drop(data[data.sbj.isna()].index)\n",
    "data = data.drop(data[data.stm.isna()].index)\n",
    "data = data.drop(data[~data.sbj.str.contains('810')].index)\n",
    "data.loc[data[data.uhnd.isna()].index, 'uhnd'] = 'r'\n",
    "data.loc[data[data.eye.isna()].index, 'eye'] = 'l'\n",
    "data = data.drop(data[data.pos.isna()].index)\n",
    "data  = data.drop(columns=['size'])\n",
    "data.isna().sum()"
   ]
  },
  {
   "cell_type": "code",
   "execution_count": 6,
   "metadata": {},
   "outputs": [],
   "source": [
    "path_index = data[data.stm.str.contains('Supplementary Material/')].index\n",
    "data.loc[path_index,'stm'] = data.loc[path_index,'stm'].apply(lambda x: x.split('/')[1])"
   ]
  },
  {
   "cell_type": "code",
   "execution_count": 7,
   "metadata": {},
   "outputs": [],
   "source": [
    "pos_index = data[data.sbj.isin(data[data.pos == 0].sbj.unique())].index\n",
    "data.loc[pos_index, 'pos'] += 1"
   ]
  },
  {
   "cell_type": "code",
   "execution_count": 8,
   "metadata": {},
   "outputs": [
    {
     "data": {
      "text/plain": [
       "array(['r', 'l', 'I', '0.bmp', '10.bmp'], dtype=object)"
      ]
     },
     "execution_count": 8,
     "metadata": {},
     "output_type": "execute_result"
    }
   ],
   "source": [
    "data.uhnd.unique()"
   ]
  },
  {
   "cell_type": "code",
   "execution_count": 9,
   "metadata": {},
   "outputs": [],
   "source": [
    "data.loc[data[data.uhnd == 'I'].index, 'uhnd'] = 'l'"
   ]
  },
  {
   "cell_type": "code",
   "execution_count": 10,
   "metadata": {},
   "outputs": [],
   "source": [
    "uhnd_index = data[data.uhnd.isin(['0.bmp','10.bmp'])].index\n",
    "data.loc[uhnd_index,'uhnd'] = data.loc[uhnd_index,'key'].apply(lambda x: 'l' if (x == 'w') or (x == 'q') else 'r')"
   ]
  },
  {
   "cell_type": "code",
   "execution_count": 11,
   "metadata": {},
   "outputs": [
    {
     "data": {
      "text/plain": [
       "array(['r', 'l'], dtype=object)"
      ]
     },
     "execution_count": 11,
     "metadata": {},
     "output_type": "execute_result"
    }
   ],
   "source": [
    "data.uhnd.unique()"
   ]
  },
  {
   "cell_type": "code",
   "execution_count": 12,
   "metadata": {},
   "outputs": [
    {
     "data": {
      "text/plain": [
       "array([2., 4., 3., 1.])"
      ]
     },
     "execution_count": 12,
     "metadata": {},
     "output_type": "execute_result"
    }
   ],
   "source": [
    "data.edu.unique()"
   ]
  },
  {
   "cell_type": "code",
   "execution_count": 13,
   "metadata": {},
   "outputs": [],
   "source": [
    "# Select the first quantile\n",
    "q1 = data['rt'].quantile(.25)\n",
    "\n",
    "# Select the third quantile\n",
    "q3 = data['rt'].quantile(.75)\n",
    "\n",
    "# Create a mask inbeetween q1 & q3\n",
    "mask = data['rt'].between(0.1, q3 + 1.5 * (q3-q1), inclusive='both')\n"
   ]
  },
  {
   "cell_type": "code",
   "execution_count": 14,
   "metadata": {},
   "outputs": [],
   "source": [
    "\n",
    "# Filtering the initial dataframe with a mask\n",
    "clean_data = data.loc[mask, :]"
   ]
  },
  {
   "cell_type": "code",
   "execution_count": 15,
   "metadata": {},
   "outputs": [
    {
     "data": {
      "text/plain": [
       "(110294, 11)"
      ]
     },
     "execution_count": 15,
     "metadata": {},
     "output_type": "execute_result"
    }
   ],
   "source": [
    "clean_data.shape"
   ]
  },
  {
   "cell_type": "markdown",
   "metadata": {},
   "source": [
    "# 2. Exploring the Data"
   ]
  },
  {
   "cell_type": "code",
   "execution_count": 16,
   "metadata": {},
   "outputs": [
    {
     "name": "stderr",
     "output_type": "stream",
     "text": [
      "<ipython-input-16-bb8efcecc9f8>:1: SettingWithCopyWarning: \n",
      "A value is trying to be set on a copy of a slice from a DataFrame.\n",
      "Try using .loc[row_indexer,col_indexer] = value instead\n",
      "\n",
      "See the caveats in the documentation: https://pandas.pydata.org/pandas-docs/stable/user_guide/indexing.html#returning-a-view-versus-a-copy\n",
      "  clean_data['rt'] *= 1000\n",
      "<ipython-input-16-bb8efcecc9f8>:2: SettingWithCopyWarning: \n",
      "A value is trying to be set on a copy of a slice from a DataFrame.\n",
      "Try using .loc[row_indexer,col_indexer] = value instead\n",
      "\n",
      "See the caveats in the documentation: https://pandas.pydata.org/pandas-docs/stable/user_guide/indexing.html#returning-a-view-versus-a-copy\n",
      "  clean_data['lrt'] = np.log(clean_data.rt)\n"
     ]
    }
   ],
   "source": [
    "clean_data['rt'] *= 1000\n",
    "clean_data['lrt'] = np.log(clean_data.rt)"
   ]
  },
  {
   "cell_type": "code",
   "execution_count": 17,
   "metadata": {},
   "outputs": [],
   "source": [
    "data4 = clean_data"
   ]
  },
  {
   "cell_type": "code",
   "execution_count": 18,
   "metadata": {},
   "outputs": [],
   "source": [
    "nutral_index = clean_data[clean_data.stm == '40.bmp'].index\n",
    "clean_data = clean_data.drop(nutral_index)"
   ]
  },
  {
   "cell_type": "code",
   "execution_count": 19,
   "metadata": {},
   "outputs": [],
   "source": [
    "male_stm = ['0.bmp', '10.bmp', '20.bmp', '30.bmp']\n",
    "female_stm = ['50.bmp', '60.bmp', '70.bmp', '80.bmp']\n",
    "\n",
    "condition = lambda x: 1 if ((x.key == 'q' or x.key =='o') and (x.stm in female_stm)) or ((x.key == 'w' or x.key =='p') and (x.stm in male_stm)) else 0\n",
    "clean_data['acc'] = clean_data.loc[:, ['stm','key']].apply( condition, axis=1)"
   ]
  },
  {
   "cell_type": "code",
   "execution_count": 20,
   "metadata": {},
   "outputs": [],
   "source": [
    "clean_data['ecc'] = 0\n",
    "clean_data.loc[((clean_data.pos< 8) & (clean_data.pos >1)), 'ecc'] = 1\n",
    "clean_data.loc[((clean_data.pos< 14) & (clean_data.pos >7)), 'ecc'] = 2"
   ]
  },
  {
   "cell_type": "code",
   "execution_count": 21,
   "metadata": {},
   "outputs": [],
   "source": [
    "clean_data['vf'] = 0\n",
    "clean_data.loc[(clean_data.pos.isin([2, 8, 13])), 'vf'] = 1\n",
    "clean_data.loc[(clean_data.pos.isin([3, 4, 9])), 'vf'] = 2\n",
    "clean_data.loc[(clean_data.pos.isin([5, 10, 11])), 'vf'] = 3\n",
    "clean_data.loc[(clean_data.pos.isin([6, 7, 12])), 'vf'] = 4"
   ]
  },
  {
   "cell_type": "code",
   "execution_count": 22,
   "metadata": {},
   "outputs": [],
   "source": [
    "clean_data['udhnd'] = clean_data[['uhnd','hndns']].apply(lambda x: 1 if x.uhnd == x.hndns else 0, axis=1)"
   ]
  },
  {
   "cell_type": "code",
   "execution_count": 23,
   "metadata": {},
   "outputs": [
    {
     "data": {
      "text/html": [
       "<div>\n",
       "<style scoped>\n",
       "    .dataframe tbody tr th:only-of-type {\n",
       "        vertical-align: middle;\n",
       "    }\n",
       "\n",
       "    .dataframe tbody tr th {\n",
       "        vertical-align: top;\n",
       "    }\n",
       "\n",
       "    .dataframe thead th {\n",
       "        text-align: right;\n",
       "    }\n",
       "</style>\n",
       "<table border=\"1\" class=\"dataframe\">\n",
       "  <thead>\n",
       "    <tr style=\"text-align: right;\">\n",
       "      <th></th>\n",
       "      <th>sbj</th>\n",
       "      <th>stm</th>\n",
       "      <th>rt</th>\n",
       "      <th>key</th>\n",
       "      <th>pos</th>\n",
       "      <th>uhnd</th>\n",
       "      <th>hndns</th>\n",
       "      <th>eye</th>\n",
       "      <th>sex</th>\n",
       "      <th>age</th>\n",
       "      <th>edu</th>\n",
       "      <th>lrt</th>\n",
       "      <th>acc</th>\n",
       "      <th>ecc</th>\n",
       "      <th>vf</th>\n",
       "      <th>udhnd</th>\n",
       "    </tr>\n",
       "  </thead>\n",
       "  <tbody>\n",
       "    <tr>\n",
       "      <th>0</th>\n",
       "      <td>8101004202</td>\n",
       "      <td>50.bmp</td>\n",
       "      <td>925.6644</td>\n",
       "      <td>o</td>\n",
       "      <td>10.0</td>\n",
       "      <td>r</td>\n",
       "      <td>r</td>\n",
       "      <td>r</td>\n",
       "      <td>m</td>\n",
       "      <td>22.0</td>\n",
       "      <td>2.0</td>\n",
       "      <td>6.830512</td>\n",
       "      <td>1</td>\n",
       "      <td>2</td>\n",
       "      <td>3</td>\n",
       "      <td>1</td>\n",
       "    </tr>\n",
       "    <tr>\n",
       "      <th>1</th>\n",
       "      <td>8101004202</td>\n",
       "      <td>70.bmp</td>\n",
       "      <td>1163.9952</td>\n",
       "      <td>o</td>\n",
       "      <td>6.0</td>\n",
       "      <td>r</td>\n",
       "      <td>r</td>\n",
       "      <td>r</td>\n",
       "      <td>m</td>\n",
       "      <td>22.0</td>\n",
       "      <td>2.0</td>\n",
       "      <td>7.059614</td>\n",
       "      <td>1</td>\n",
       "      <td>1</td>\n",
       "      <td>4</td>\n",
       "      <td>1</td>\n",
       "    </tr>\n",
       "    <tr>\n",
       "      <th>2</th>\n",
       "      <td>8101004202</td>\n",
       "      <td>50.bmp</td>\n",
       "      <td>1023.1118</td>\n",
       "      <td>o</td>\n",
       "      <td>9.0</td>\n",
       "      <td>r</td>\n",
       "      <td>r</td>\n",
       "      <td>r</td>\n",
       "      <td>m</td>\n",
       "      <td>22.0</td>\n",
       "      <td>2.0</td>\n",
       "      <td>6.930604</td>\n",
       "      <td>1</td>\n",
       "      <td>2</td>\n",
       "      <td>2</td>\n",
       "      <td>1</td>\n",
       "    </tr>\n",
       "    <tr>\n",
       "      <th>3</th>\n",
       "      <td>8101004202</td>\n",
       "      <td>80.bmp</td>\n",
       "      <td>970.4250</td>\n",
       "      <td>o</td>\n",
       "      <td>10.0</td>\n",
       "      <td>r</td>\n",
       "      <td>r</td>\n",
       "      <td>r</td>\n",
       "      <td>m</td>\n",
       "      <td>22.0</td>\n",
       "      <td>2.0</td>\n",
       "      <td>6.877734</td>\n",
       "      <td>1</td>\n",
       "      <td>2</td>\n",
       "      <td>3</td>\n",
       "      <td>1</td>\n",
       "    </tr>\n",
       "    <tr>\n",
       "      <th>4</th>\n",
       "      <td>8101004202</td>\n",
       "      <td>60.bmp</td>\n",
       "      <td>1175.1443</td>\n",
       "      <td>p</td>\n",
       "      <td>13.0</td>\n",
       "      <td>r</td>\n",
       "      <td>r</td>\n",
       "      <td>r</td>\n",
       "      <td>m</td>\n",
       "      <td>22.0</td>\n",
       "      <td>2.0</td>\n",
       "      <td>7.069146</td>\n",
       "      <td>0</td>\n",
       "      <td>2</td>\n",
       "      <td>1</td>\n",
       "      <td>1</td>\n",
       "    </tr>\n",
       "  </tbody>\n",
       "</table>\n",
       "</div>"
      ],
      "text/plain": [
       "          sbj     stm         rt key   pos uhnd hndns eye sex   age  edu  \\\n",
       "0  8101004202  50.bmp   925.6644   o  10.0    r     r   r   m  22.0  2.0   \n",
       "1  8101004202  70.bmp  1163.9952   o   6.0    r     r   r   m  22.0  2.0   \n",
       "2  8101004202  50.bmp  1023.1118   o   9.0    r     r   r   m  22.0  2.0   \n",
       "3  8101004202  80.bmp   970.4250   o  10.0    r     r   r   m  22.0  2.0   \n",
       "4  8101004202  60.bmp  1175.1443   p  13.0    r     r   r   m  22.0  2.0   \n",
       "\n",
       "        lrt  acc  ecc  vf  udhnd  \n",
       "0  6.830512    1    2   3      1  \n",
       "1  7.059614    1    1   4      1  \n",
       "2  6.930604    1    2   2      1  \n",
       "3  6.877734    1    2   3      1  \n",
       "4  7.069146    0    2   1      1  "
      ]
     },
     "execution_count": 23,
     "metadata": {},
     "output_type": "execute_result"
    }
   ],
   "source": [
    "clean_data = clean_data.reset_index(drop=True)\n",
    "clean_data.head()"
   ]
  },
  {
   "cell_type": "code",
   "execution_count": 24,
   "metadata": {},
   "outputs": [],
   "source": [
    "independent_vars = ['pos', 'ecc', 'vf', 'uhnd','udhnd', 'sex', 'hndns', 'eye']"
   ]
  },
  {
   "cell_type": "code",
   "execution_count": 25,
   "metadata": {},
   "outputs": [
    {
     "data": {
      "image/png": "[encoded data removed]",
      "text/plain": [
       "<Figure size 2016x576 with 3 Axes>"
      ]
     },
     "metadata": {},
     "output_type": "display_data"
    }
   ],
   "source": [
    "sns.set()\n",
    "fig, axes = plt.subplots(1, 3, figsize=(28, 8))\n",
    "counter = 0\n",
    "dep_cols = ['acc', 'rt', 'lrt']\n",
    "indep_cols = [independent_vars[0]]\n",
    "subs = [0, 1, 2]\n",
    "for i in range(len(indep_cols)):\n",
    "    for j in range(len(dep_cols)):\n",
    "        ax = sns.barplot(ax = axes[subs[counter]], x=indep_cols[i], y=dep_cols[j], data=clean_data,  estimator=np.mean, ci = 95)\n",
    "        counter +=1\n",
    "plt.show()"
   ]
  },
  {
   "cell_type": "code",
   "execution_count": 26,
   "metadata": {},
   "outputs": [
    {
     "data": {
      "text/html": [
       "<table class=\"simpletable\">\n",
       "<caption>OLS Regression Results</caption>\n",
       "<tr>\n",
       "  <th>Dep. Variable:</th>           <td>rt</td>        <th>  R-squared:         </th>  <td>   0.000</td>  \n",
       "</tr>\n",
       "<tr>\n",
       "  <th>Model:</th>                   <td>OLS</td>       <th>  Adj. R-squared:    </th>  <td>  -0.000</td>  \n",
       "</tr>\n",
       "<tr>\n",
       "  <th>Method:</th>             <td>Least Squares</td>  <th>  F-statistic:       </th>  <td>  0.8821</td>  \n",
       "</tr>\n",
       "<tr>\n",
       "  <th>Date:</th>             <td>Thu, 07 Apr 2022</td> <th>  Prob (F-statistic):</th>   <td> 0.348</td>   \n",
       "</tr>\n",
       "<tr>\n",
       "  <th>Time:</th>                 <td>17:16:45</td>     <th>  Log-Likelihood:    </th> <td>-6.6795e+05</td>\n",
       "</tr>\n",
       "<tr>\n",
       "  <th>No. Observations:</th>      <td> 98157</td>      <th>  AIC:               </th>  <td>1.336e+06</td> \n",
       "</tr>\n",
       "<tr>\n",
       "  <th>Df Residuals:</th>          <td> 98155</td>      <th>  BIC:               </th>  <td>1.336e+06</td> \n",
       "</tr>\n",
       "<tr>\n",
       "  <th>Df Model:</th>              <td>     1</td>      <th>                     </th>      <td> </td>     \n",
       "</tr>\n",
       "<tr>\n",
       "  <th>Covariance Type:</th>      <td>nonrobust</td>    <th>                     </th>      <td> </td>     \n",
       "</tr>\n",
       "</table>\n",
       "<table class=\"simpletable\">\n",
       "<tr>\n",
       "      <td></td>         <th>coef</th>     <th>std err</th>      <th>t</th>      <th>P>|t|</th>  <th>[0.025</th>    <th>0.975]</th>  \n",
       "</tr>\n",
       "<tr>\n",
       "  <th>Intercept</th> <td>  632.1928</td> <td>    1.480</td> <td>  427.265</td> <td> 0.000</td> <td>  629.293</td> <td>  635.093</td>\n",
       "</tr>\n",
       "<tr>\n",
       "  <th>pos</th>       <td>    0.1751</td> <td>    0.186</td> <td>    0.939</td> <td> 0.348</td> <td>   -0.190</td> <td>    0.540</td>\n",
       "</tr>\n",
       "</table>\n",
       "<table class=\"simpletable\">\n",
       "<tr>\n",
       "  <th>Omnibus:</th>       <td>1190.104</td> <th>  Durbin-Watson:     </th> <td>   0.933</td> \n",
       "</tr>\n",
       "<tr>\n",
       "  <th>Prob(Omnibus):</th>  <td> 0.000</td>  <th>  Jarque-Bera (JB):  </th> <td>1235.868</td> \n",
       "</tr>\n",
       "<tr>\n",
       "  <th>Skew:</th>           <td> 0.269</td>  <th>  Prob(JB):          </th> <td>4.31e-269</td>\n",
       "</tr>\n",
       "<tr>\n",
       "  <th>Kurtosis:</th>       <td> 3.116</td>  <th>  Cond. No.          </th> <td>    17.1</td> \n",
       "</tr>\n",
       "</table><br/><br/>Notes:<br/>[1] Standard Errors assume that the covariance matrix of the errors is correctly specified."
      ],
      "text/plain": [
       "<class 'statsmodels.iolib.summary.Summary'>\n",
       "\"\"\"\n",
       "                            OLS Regression Results                            \n",
       "==============================================================================\n",
       "Dep. Variable:                     rt   R-squared:                       0.000\n",
       "Model:                            OLS   Adj. R-squared:                 -0.000\n",
       "Method:                 Least Squares   F-statistic:                    0.8821\n",
       "Date:                Thu, 07 Apr 2022   Prob (F-statistic):              0.348\n",
       "Time:                        17:16:45   Log-Likelihood:            -6.6795e+05\n",
       "No. Observations:               98157   AIC:                         1.336e+06\n",
       "Df Residuals:                   98155   BIC:                         1.336e+06\n",
       "Df Model:                           1                                         \n",
       "Covariance Type:            nonrobust                                         \n",
       "==============================================================================\n",
       "                 coef    std err          t      P>|t|      [0.025      0.975]\n",
       "------------------------------------------------------------------------------\n",
       "Intercept    632.1928      1.480    427.265      0.000     629.293     635.093\n",
       "pos            0.1751      0.186      0.939      0.348      -0.190       0.540\n",
       "==============================================================================\n",
       "Omnibus:                     1190.104   Durbin-Watson:                   0.933\n",
       "Prob(Omnibus):                  0.000   Jarque-Bera (JB):             1235.868\n",
       "Skew:                           0.269   Prob(JB):                    4.31e-269\n",
       "Kurtosis:                       3.116   Cond. No.                         17.1\n",
       "==============================================================================\n",
       "\n",
       "Notes:\n",
       "[1] Standard Errors assume that the covariance matrix of the errors is correctly specified.\n",
       "\"\"\""
      ]
     },
     "execution_count": 26,
     "metadata": {},
     "output_type": "execute_result"
    }
   ],
   "source": [
    "model1 = ols('rt ~ pos', data=clean_data).fit()\n",
    "model1.summary()"
   ]
  },
  {
   "cell_type": "code",
   "execution_count": 27,
   "metadata": {},
   "outputs": [
    {
     "data": {
      "text/html": [
       "<table class=\"simpletable\">\n",
       "<caption>OLS Regression Results</caption>\n",
       "<tr>\n",
       "  <th>Dep. Variable:</th>           <td>lrt</td>       <th>  R-squared:         </th> <td>   0.000</td> \n",
       "</tr>\n",
       "<tr>\n",
       "  <th>Model:</th>                   <td>OLS</td>       <th>  Adj. R-squared:    </th> <td>  -0.000</td> \n",
       "</tr>\n",
       "<tr>\n",
       "  <th>Method:</th>             <td>Least Squares</td>  <th>  F-statistic:       </th> <td>  0.2608</td> \n",
       "</tr>\n",
       "<tr>\n",
       "  <th>Date:</th>             <td>Thu, 07 Apr 2022</td> <th>  Prob (F-statistic):</th>  <td> 0.610</td>  \n",
       "</tr>\n",
       "<tr>\n",
       "  <th>Time:</th>                 <td>17:16:45</td>     <th>  Log-Likelihood:    </th> <td> -49604.</td> \n",
       "</tr>\n",
       "<tr>\n",
       "  <th>No. Observations:</th>      <td> 98157</td>      <th>  AIC:               </th> <td>9.921e+04</td>\n",
       "</tr>\n",
       "<tr>\n",
       "  <th>Df Residuals:</th>          <td> 98155</td>      <th>  BIC:               </th> <td>9.923e+04</td>\n",
       "</tr>\n",
       "<tr>\n",
       "  <th>Df Model:</th>              <td>     1</td>      <th>                     </th>     <td> </td>    \n",
       "</tr>\n",
       "<tr>\n",
       "  <th>Covariance Type:</th>      <td>nonrobust</td>    <th>                     </th>     <td> </td>    \n",
       "</tr>\n",
       "</table>\n",
       "<table class=\"simpletable\">\n",
       "<tr>\n",
       "      <td></td>         <th>coef</th>     <th>std err</th>      <th>t</th>      <th>P>|t|</th>  <th>[0.025</th>    <th>0.975]</th>  \n",
       "</tr>\n",
       "<tr>\n",
       "  <th>Intercept</th> <td>    6.3799</td> <td>    0.003</td> <td> 2347.099</td> <td> 0.000</td> <td>    6.375</td> <td>    6.385</td>\n",
       "</tr>\n",
       "<tr>\n",
       "  <th>pos</th>       <td>    0.0002</td> <td>    0.000</td> <td>    0.511</td> <td> 0.610</td> <td>   -0.000</td> <td>    0.001</td>\n",
       "</tr>\n",
       "</table>\n",
       "<table class=\"simpletable\">\n",
       "<tr>\n",
       "  <th>Omnibus:</th>       <td>21123.523</td> <th>  Durbin-Watson:     </th> <td>   0.733</td> \n",
       "</tr>\n",
       "<tr>\n",
       "  <th>Prob(Omnibus):</th>  <td> 0.000</td>   <th>  Jarque-Bera (JB):  </th> <td>51624.605</td>\n",
       "</tr>\n",
       "<tr>\n",
       "  <th>Skew:</th>           <td>-1.196</td>   <th>  Prob(JB):          </th> <td>    0.00</td> \n",
       "</tr>\n",
       "<tr>\n",
       "  <th>Kurtosis:</th>       <td> 5.628</td>   <th>  Cond. No.          </th> <td>    17.1</td> \n",
       "</tr>\n",
       "</table><br/><br/>Notes:<br/>[1] Standard Errors assume that the covariance matrix of the errors is correctly specified."
      ],
      "text/plain": [
       "<class 'statsmodels.iolib.summary.Summary'>\n",
       "\"\"\"\n",
       "                            OLS Regression Results                            \n",
       "==============================================================================\n",
       "Dep. Variable:                    lrt   R-squared:                       0.000\n",
       "Model:                            OLS   Adj. R-squared:                 -0.000\n",
       "Method:                 Least Squares   F-statistic:                    0.2608\n",
       "Date:                Thu, 07 Apr 2022   Prob (F-statistic):              0.610\n",
       "Time:                        17:16:45   Log-Likelihood:                -49604.\n",
       "No. Observations:               98157   AIC:                         9.921e+04\n",
       "Df Residuals:                   98155   BIC:                         9.923e+04\n",
       "Df Model:                           1                                         \n",
       "Covariance Type:            nonrobust                                         \n",
       "==============================================================================\n",
       "                 coef    std err          t      P>|t|      [0.025      0.975]\n",
       "------------------------------------------------------------------------------\n",
       "Intercept      6.3799      0.003   2347.099      0.000       6.375       6.385\n",
       "pos            0.0002      0.000      0.511      0.610      -0.000       0.001\n",
       "==============================================================================\n",
       "Omnibus:                    21123.523   Durbin-Watson:                   0.733\n",
       "Prob(Omnibus):                  0.000   Jarque-Bera (JB):            51624.605\n",
       "Skew:                          -1.196   Prob(JB):                         0.00\n",
       "Kurtosis:                       5.628   Cond. No.                         17.1\n",
       "==============================================================================\n",
       "\n",
       "Notes:\n",
       "[1] Standard Errors assume that the covariance matrix of the errors is correctly specified.\n",
       "\"\"\""
      ]
     },
     "execution_count": 27,
     "metadata": {},
     "output_type": "execute_result"
    }
   ],
   "source": [
    "model1 = ols('lrt ~ pos', data=clean_data).fit()\n",
    "model1.summary()"
   ]
  },
  {
   "cell_type": "code",
   "execution_count": 28,
   "metadata": {},
   "outputs": [
    {
     "name": "stdout",
     "output_type": "stream",
     "text": [
      "Optimization terminated successfully.\n",
      "         Current function value: 0.676421\n",
      "         Iterations 4\n"
     ]
    },
    {
     "data": {
      "text/html": [
       "<table class=\"simpletable\">\n",
       "<caption>Logit Regression Results</caption>\n",
       "<tr>\n",
       "  <th>Dep. Variable:</th>          <td>acc</td>       <th>  No. Observations:  </th>  <td> 98157</td>  \n",
       "</tr>\n",
       "<tr>\n",
       "  <th>Model:</th>                 <td>Logit</td>      <th>  Df Residuals:      </th>  <td> 98155</td>  \n",
       "</tr>\n",
       "<tr>\n",
       "  <th>Method:</th>                 <td>MLE</td>       <th>  Df Model:          </th>  <td>     1</td>  \n",
       "</tr>\n",
       "<tr>\n",
       "  <th>Date:</th>            <td>Thu, 07 Apr 2022</td> <th>  Pseudo R-squ.:     </th> <td>8.220e-05</td>\n",
       "</tr>\n",
       "<tr>\n",
       "  <th>Time:</th>                <td>17:16:45</td>     <th>  Log-Likelihood:    </th> <td> -66395.</td> \n",
       "</tr>\n",
       "<tr>\n",
       "  <th>converged:</th>             <td>True</td>       <th>  LL-Null:           </th> <td> -66401.</td> \n",
       "</tr>\n",
       "<tr>\n",
       "  <th>Covariance Type:</th>     <td>nonrobust</td>    <th>  LLR p-value:       </th> <td>0.0009531</td>\n",
       "</tr>\n",
       "</table>\n",
       "<table class=\"simpletable\">\n",
       "<tr>\n",
       "      <td></td>         <th>coef</th>     <th>std err</th>      <th>z</th>      <th>P>|z|</th>  <th>[0.025</th>    <th>0.975]</th>  \n",
       "</tr>\n",
       "<tr>\n",
       "  <th>Intercept</th> <td>    0.4085</td> <td>    0.014</td> <td>   29.584</td> <td> 0.000</td> <td>    0.381</td> <td>    0.436</td>\n",
       "</tr>\n",
       "<tr>\n",
       "  <th>pos</th>       <td>   -0.0057</td> <td>    0.002</td> <td>   -3.304</td> <td> 0.001</td> <td>   -0.009</td> <td>   -0.002</td>\n",
       "</tr>\n",
       "</table>"
      ],
      "text/plain": [
       "<class 'statsmodels.iolib.summary.Summary'>\n",
       "\"\"\"\n",
       "                           Logit Regression Results                           \n",
       "==============================================================================\n",
       "Dep. Variable:                    acc   No. Observations:                98157\n",
       "Model:                          Logit   Df Residuals:                    98155\n",
       "Method:                           MLE   Df Model:                            1\n",
       "Date:                Thu, 07 Apr 2022   Pseudo R-squ.:               8.220e-05\n",
       "Time:                        17:16:45   Log-Likelihood:                -66395.\n",
       "converged:                       True   LL-Null:                       -66401.\n",
       "Covariance Type:            nonrobust   LLR p-value:                 0.0009531\n",
       "==============================================================================\n",
       "                 coef    std err          z      P>|z|      [0.025      0.975]\n",
       "------------------------------------------------------------------------------\n",
       "Intercept      0.4085      0.014     29.584      0.000       0.381       0.436\n",
       "pos           -0.0057      0.002     -3.304      0.001      -0.009      -0.002\n",
       "==============================================================================\n",
       "\"\"\""
      ]
     },
     "execution_count": 28,
     "metadata": {},
     "output_type": "execute_result"
    }
   ],
   "source": [
    "model1 = smf.logit('acc ~ pos', data=clean_data).fit()\n",
    "model1.summary()"
   ]
  },
  {
   "cell_type": "code",
   "execution_count": 29,
   "metadata": {},
   "outputs": [
    {
     "data": {
      "image/png": "[encoded data removed]",
      "text/plain": [
       "<Figure size 2016x576 with 3 Axes>"
      ]
     },
     "metadata": {},
     "output_type": "display_data"
    }
   ],
   "source": [
    "sns.set()\n",
    "fig, axes = plt.subplots(1, 3, figsize=(28, 8))\n",
    "counter = 0\n",
    "dep_cols = ['acc', 'rt', 'lrt']\n",
    "indep_cols = [independent_vars[1]]\n",
    "subs = [0, 1, 2]\n",
    "for i in range(len(indep_cols)):\n",
    "    for j in range(len(dep_cols)):\n",
    "        ax = sns.barplot(ax = axes[subs[counter]], x=indep_cols[i], y=dep_cols[j], data=clean_data,  estimator=np.mean, ci = 95)\n",
    "        counter +=1\n",
    "plt.show()"
   ]
  },
  {
   "cell_type": "code",
   "execution_count": 30,
   "metadata": {},
   "outputs": [
    {
     "data": {
      "text/html": [
       "<table class=\"simpletable\">\n",
       "<caption>OLS Regression Results</caption>\n",
       "<tr>\n",
       "  <th>Dep. Variable:</th>           <td>rt</td>        <th>  R-squared:         </th>  <td>   0.000</td>  \n",
       "</tr>\n",
       "<tr>\n",
       "  <th>Model:</th>                   <td>OLS</td>       <th>  Adj. R-squared:    </th>  <td>  -0.000</td>  \n",
       "</tr>\n",
       "<tr>\n",
       "  <th>Method:</th>             <td>Least Squares</td>  <th>  F-statistic:       </th>  <td>  0.1145</td>  \n",
       "</tr>\n",
       "<tr>\n",
       "  <th>Date:</th>             <td>Thu, 07 Apr 2022</td> <th>  Prob (F-statistic):</th>   <td> 0.735</td>   \n",
       "</tr>\n",
       "<tr>\n",
       "  <th>Time:</th>                 <td>17:16:51</td>     <th>  Log-Likelihood:    </th> <td>-6.6795e+05</td>\n",
       "</tr>\n",
       "<tr>\n",
       "  <th>No. Observations:</th>      <td> 98157</td>      <th>  AIC:               </th>  <td>1.336e+06</td> \n",
       "</tr>\n",
       "<tr>\n",
       "  <th>Df Residuals:</th>          <td> 98155</td>      <th>  BIC:               </th>  <td>1.336e+06</td> \n",
       "</tr>\n",
       "<tr>\n",
       "  <th>Df Model:</th>              <td>     1</td>      <th>                     </th>      <td> </td>     \n",
       "</tr>\n",
       "<tr>\n",
       "  <th>Covariance Type:</th>      <td>nonrobust</td>    <th>                     </th>      <td> </td>     \n",
       "</tr>\n",
       "</table>\n",
       "<table class=\"simpletable\">\n",
       "<tr>\n",
       "      <td></td>         <th>coef</th>     <th>std err</th>      <th>t</th>      <th>P>|t|</th>  <th>[0.025</th>    <th>0.975]</th>  \n",
       "</tr>\n",
       "<tr>\n",
       "  <th>Intercept</th> <td>  633.9419</td> <td>    1.696</td> <td>  373.772</td> <td> 0.000</td> <td>  630.618</td> <td>  637.266</td>\n",
       "</tr>\n",
       "<tr>\n",
       "  <th>ecc</th>       <td>   -0.3777</td> <td>    1.116</td> <td>   -0.338</td> <td> 0.735</td> <td>   -2.565</td> <td>    1.810</td>\n",
       "</tr>\n",
       "</table>\n",
       "<table class=\"simpletable\">\n",
       "<tr>\n",
       "  <th>Omnibus:</th>       <td>1191.102</td> <th>  Durbin-Watson:     </th> <td>   0.933</td> \n",
       "</tr>\n",
       "<tr>\n",
       "  <th>Prob(Omnibus):</th>  <td> 0.000</td>  <th>  Jarque-Bera (JB):  </th> <td>1236.949</td> \n",
       "</tr>\n",
       "<tr>\n",
       "  <th>Skew:</th>           <td> 0.269</td>  <th>  Prob(JB):          </th> <td>2.51e-269</td>\n",
       "</tr>\n",
       "<tr>\n",
       "  <th>Kurtosis:</th>       <td> 3.116</td>  <th>  Cond. No.          </th> <td>    5.10</td> \n",
       "</tr>\n",
       "</table><br/><br/>Notes:<br/>[1] Standard Errors assume that the covariance matrix of the errors is correctly specified."
      ],
      "text/plain": [
       "<class 'statsmodels.iolib.summary.Summary'>\n",
       "\"\"\"\n",
       "                            OLS Regression Results                            \n",
       "==============================================================================\n",
       "Dep. Variable:                     rt   R-squared:                       0.000\n",
       "Model:                            OLS   Adj. R-squared:                 -0.000\n",
       "Method:                 Least Squares   F-statistic:                    0.1145\n",
       "Date:                Thu, 07 Apr 2022   Prob (F-statistic):              0.735\n",
       "Time:                        17:16:51   Log-Likelihood:            -6.6795e+05\n",
       "No. Observations:               98157   AIC:                         1.336e+06\n",
       "Df Residuals:                   98155   BIC:                         1.336e+06\n",
       "Df Model:                           1                                         \n",
       "Covariance Type:            nonrobust                                         \n",
       "==============================================================================\n",
       "                 coef    std err          t      P>|t|      [0.025      0.975]\n",
       "------------------------------------------------------------------------------\n",
       "Intercept    633.9419      1.696    373.772      0.000     630.618     637.266\n",
       "ecc           -0.3777      1.116     -0.338      0.735      -2.565       1.810\n",
       "==============================================================================\n",
       "Omnibus:                     1191.102   Durbin-Watson:                   0.933\n",
       "Prob(Omnibus):                  0.000   Jarque-Bera (JB):             1236.949\n",
       "Skew:                           0.269   Prob(JB):                    2.51e-269\n",
       "Kurtosis:                       3.116   Cond. No.                         5.10\n",
       "==============================================================================\n",
       "\n",
       "Notes:\n",
       "[1] Standard Errors assume that the covariance matrix of the errors is correctly specified.\n",
       "\"\"\""
      ]
     },
     "execution_count": 30,
     "metadata": {},
     "output_type": "execute_result"
    }
   ],
   "source": [
    "model2 = ols('rt ~ ecc', data=clean_data).fit()\n",
    "model2.summary()"
   ]
  },
  {
   "cell_type": "code",
   "execution_count": 31,
   "metadata": {},
   "outputs": [
    {
     "data": {
      "text/html": [
       "<table class=\"simpletable\">\n",
       "<caption>OLS Regression Results</caption>\n",
       "<tr>\n",
       "  <th>Dep. Variable:</th>           <td>lrt</td>       <th>  R-squared:         </th> <td>   0.000</td> \n",
       "</tr>\n",
       "<tr>\n",
       "  <th>Model:</th>                   <td>OLS</td>       <th>  Adj. R-squared:    </th> <td>  -0.000</td> \n",
       "</tr>\n",
       "<tr>\n",
       "  <th>Method:</th>             <td>Least Squares</td>  <th>  F-statistic:       </th> <td>  0.4946</td> \n",
       "</tr>\n",
       "<tr>\n",
       "  <th>Date:</th>             <td>Thu, 07 Apr 2022</td> <th>  Prob (F-statistic):</th>  <td> 0.482</td>  \n",
       "</tr>\n",
       "<tr>\n",
       "  <th>Time:</th>                 <td>17:16:51</td>     <th>  Log-Likelihood:    </th> <td> -49604.</td> \n",
       "</tr>\n",
       "<tr>\n",
       "  <th>No. Observations:</th>      <td> 98157</td>      <th>  AIC:               </th> <td>9.921e+04</td>\n",
       "</tr>\n",
       "<tr>\n",
       "  <th>Df Residuals:</th>          <td> 98155</td>      <th>  BIC:               </th> <td>9.923e+04</td>\n",
       "</tr>\n",
       "<tr>\n",
       "  <th>Df Model:</th>              <td>     1</td>      <th>                     </th>     <td> </td>    \n",
       "</tr>\n",
       "<tr>\n",
       "  <th>Covariance Type:</th>      <td>nonrobust</td>    <th>                     </th>     <td> </td>    \n",
       "</tr>\n",
       "</table>\n",
       "<table class=\"simpletable\">\n",
       "<tr>\n",
       "      <td></td>         <th>coef</th>     <th>std err</th>      <th>t</th>      <th>P>|t|</th>  <th>[0.025</th>    <th>0.975]</th>  \n",
       "</tr>\n",
       "<tr>\n",
       "  <th>Intercept</th> <td>    6.3831</td> <td>    0.003</td> <td> 2048.627</td> <td> 0.000</td> <td>    6.377</td> <td>    6.389</td>\n",
       "</tr>\n",
       "<tr>\n",
       "  <th>ecc</th>       <td>   -0.0014</td> <td>    0.002</td> <td>   -0.703</td> <td> 0.482</td> <td>   -0.005</td> <td>    0.003</td>\n",
       "</tr>\n",
       "</table>\n",
       "<table class=\"simpletable\">\n",
       "<tr>\n",
       "  <th>Omnibus:</th>       <td>21122.774</td> <th>  Durbin-Watson:     </th> <td>   0.733</td> \n",
       "</tr>\n",
       "<tr>\n",
       "  <th>Prob(Omnibus):</th>  <td> 0.000</td>   <th>  Jarque-Bera (JB):  </th> <td>51624.905</td>\n",
       "</tr>\n",
       "<tr>\n",
       "  <th>Skew:</th>           <td>-1.196</td>   <th>  Prob(JB):          </th> <td>    0.00</td> \n",
       "</tr>\n",
       "<tr>\n",
       "  <th>Kurtosis:</th>       <td> 5.628</td>   <th>  Cond. No.          </th> <td>    5.10</td> \n",
       "</tr>\n",
       "</table><br/><br/>Notes:<br/>[1] Standard Errors assume that the covariance matrix of the errors is correctly specified."
      ],
      "text/plain": [
       "<class 'statsmodels.iolib.summary.Summary'>\n",
       "\"\"\"\n",
       "                            OLS Regression Results                            \n",
       "==============================================================================\n",
       "Dep. Variable:                    lrt   R-squared:                       0.000\n",
       "Model:                            OLS   Adj. R-squared:                 -0.000\n",
       "Method:                 Least Squares   F-statistic:                    0.4946\n",
       "Date:                Thu, 07 Apr 2022   Prob (F-statistic):              0.482\n",
       "Time:                        17:16:51   Log-Likelihood:                -49604.\n",
       "No. Observations:               98157   AIC:                         9.921e+04\n",
       "Df Residuals:                   98155   BIC:                         9.923e+04\n",
       "Df Model:                           1                                         \n",
       "Covariance Type:            nonrobust                                         \n",
       "==============================================================================\n",
       "                 coef    std err          t      P>|t|      [0.025      0.975]\n",
       "------------------------------------------------------------------------------\n",
       "Intercept      6.3831      0.003   2048.627      0.000       6.377       6.389\n",
       "ecc           -0.0014      0.002     -0.703      0.482      -0.005       0.003\n",
       "==============================================================================\n",
       "Omnibus:                    21122.774   Durbin-Watson:                   0.733\n",
       "Prob(Omnibus):                  0.000   Jarque-Bera (JB):            51624.905\n",
       "Skew:                          -1.196   Prob(JB):                         0.00\n",
       "Kurtosis:                       5.628   Cond. No.                         5.10\n",
       "==============================================================================\n",
       "\n",
       "Notes:\n",
       "[1] Standard Errors assume that the covariance matrix of the errors is correctly specified.\n",
       "\"\"\""
      ]
     },
     "execution_count": 31,
     "metadata": {},
     "output_type": "execute_result"
    }
   ],
   "source": [
    "model2 = ols('lrt ~ ecc', data=clean_data).fit()\n",
    "model2.summary()"
   ]
  },
  {
   "cell_type": "code",
   "execution_count": 32,
   "metadata": {},
   "outputs": [
    {
     "name": "stdout",
     "output_type": "stream",
     "text": [
      "Optimization terminated successfully.\n",
      "         Current function value: 0.676451\n",
      "         Iterations 4\n"
     ]
    },
    {
     "data": {
      "text/html": [
       "<table class=\"simpletable\">\n",
       "<caption>Logit Regression Results</caption>\n",
       "<tr>\n",
       "  <th>Dep. Variable:</th>          <td>acc</td>       <th>  No. Observations:  </th>  <td> 98157</td>  \n",
       "</tr>\n",
       "<tr>\n",
       "  <th>Model:</th>                 <td>Logit</td>      <th>  Df Residuals:      </th>  <td> 98155</td>  \n",
       "</tr>\n",
       "<tr>\n",
       "  <th>Method:</th>                 <td>MLE</td>       <th>  Df Model:          </th>  <td>     1</td>  \n",
       "</tr>\n",
       "<tr>\n",
       "  <th>Date:</th>            <td>Thu, 07 Apr 2022</td> <th>  Pseudo R-squ.:     </th> <td>3.839e-05</td>\n",
       "</tr>\n",
       "<tr>\n",
       "  <th>Time:</th>                <td>17:16:52</td>     <th>  Log-Likelihood:    </th> <td> -66398.</td> \n",
       "</tr>\n",
       "<tr>\n",
       "  <th>converged:</th>             <td>True</td>       <th>  LL-Null:           </th> <td> -66401.</td> \n",
       "</tr>\n",
       "<tr>\n",
       "  <th>Covariance Type:</th>     <td>nonrobust</td>    <th>  LLR p-value:       </th>  <td>0.02395</td> \n",
       "</tr>\n",
       "</table>\n",
       "<table class=\"simpletable\">\n",
       "<tr>\n",
       "      <td></td>         <th>coef</th>     <th>std err</th>      <th>z</th>      <th>P>|z|</th>  <th>[0.025</th>    <th>0.975]</th>  \n",
       "</tr>\n",
       "<tr>\n",
       "  <th>Intercept</th> <td>    0.4008</td> <td>    0.016</td> <td>   25.327</td> <td> 0.000</td> <td>    0.370</td> <td>    0.432</td>\n",
       "</tr>\n",
       "<tr>\n",
       "  <th>ecc</th>       <td>   -0.0235</td> <td>    0.010</td> <td>   -2.257</td> <td> 0.024</td> <td>   -0.044</td> <td>   -0.003</td>\n",
       "</tr>\n",
       "</table>"
      ],
      "text/plain": [
       "<class 'statsmodels.iolib.summary.Summary'>\n",
       "\"\"\"\n",
       "                           Logit Regression Results                           \n",
       "==============================================================================\n",
       "Dep. Variable:                    acc   No. Observations:                98157\n",
       "Model:                          Logit   Df Residuals:                    98155\n",
       "Method:                           MLE   Df Model:                            1\n",
       "Date:                Thu, 07 Apr 2022   Pseudo R-squ.:               3.839e-05\n",
       "Time:                        17:16:52   Log-Likelihood:                -66398.\n",
       "converged:                       True   LL-Null:                       -66401.\n",
       "Covariance Type:            nonrobust   LLR p-value:                   0.02395\n",
       "==============================================================================\n",
       "                 coef    std err          z      P>|z|      [0.025      0.975]\n",
       "------------------------------------------------------------------------------\n",
       "Intercept      0.4008      0.016     25.327      0.000       0.370       0.432\n",
       "ecc           -0.0235      0.010     -2.257      0.024      -0.044      -0.003\n",
       "==============================================================================\n",
       "\"\"\""
      ]
     },
     "execution_count": 32,
     "metadata": {},
     "output_type": "execute_result"
    }
   ],
   "source": [
    "model2 = smf.logit('acc ~ ecc', data=clean_data).fit()\n",
    "model2.summary()"
   ]
  },
  {
   "cell_type": "code",
   "execution_count": 33,
   "metadata": {},
   "outputs": [
    {
     "data": {
      "image/png": "[encoded data removed]",
      "text/plain": [
       "<Figure size 2016x576 with 3 Axes>"
      ]
     },
     "metadata": {},
     "output_type": "display_data"
    }
   ],
   "source": [
    "sns.set()\n",
    "fig, axes = plt.subplots(1, 3, figsize=(28, 8))\n",
    "counter = 0\n",
    "dep_cols = ['acc', 'rt', 'lrt']\n",
    "indep_cols = [independent_vars[2]]\n",
    "subs = [0, 1, 2]\n",
    "for i in range(len(indep_cols)):\n",
    "    for j in range(len(dep_cols)):\n",
    "        ax = sns.barplot(ax = axes[subs[counter]], x=indep_cols[i], y=dep_cols[j], data=clean_data,  estimator=np.mean, ci = 95)\n",
    "        counter +=1\n",
    "plt.show()"
   ]
  },
  {
   "cell_type": "code",
   "execution_count": 34,
   "metadata": {},
   "outputs": [
    {
     "data": {
      "text/html": [
       "<table class=\"simpletable\">\n",
       "<caption>OLS Regression Results</caption>\n",
       "<tr>\n",
       "  <th>Dep. Variable:</th>           <td>rt</td>        <th>  R-squared:         </th>  <td>   0.000</td>  \n",
       "</tr>\n",
       "<tr>\n",
       "  <th>Model:</th>                   <td>OLS</td>       <th>  Adj. R-squared:    </th>  <td>   0.000</td>  \n",
       "</tr>\n",
       "<tr>\n",
       "  <th>Method:</th>             <td>Least Squares</td>  <th>  F-statistic:       </th>  <td>   1.701</td>  \n",
       "</tr>\n",
       "<tr>\n",
       "  <th>Date:</th>             <td>Thu, 07 Apr 2022</td> <th>  Prob (F-statistic):</th>   <td> 0.192</td>   \n",
       "</tr>\n",
       "<tr>\n",
       "  <th>Time:</th>                 <td>17:16:57</td>     <th>  Log-Likelihood:    </th> <td>-6.6795e+05</td>\n",
       "</tr>\n",
       "<tr>\n",
       "  <th>No. Observations:</th>      <td> 98157</td>      <th>  AIC:               </th>  <td>1.336e+06</td> \n",
       "</tr>\n",
       "<tr>\n",
       "  <th>Df Residuals:</th>          <td> 98155</td>      <th>  BIC:               </th>  <td>1.336e+06</td> \n",
       "</tr>\n",
       "<tr>\n",
       "  <th>Df Model:</th>              <td>     1</td>      <th>                     </th>      <td> </td>     \n",
       "</tr>\n",
       "<tr>\n",
       "  <th>Covariance Type:</th>      <td>nonrobust</td>    <th>                     </th>      <td> </td>     \n",
       "</tr>\n",
       "</table>\n",
       "<table class=\"simpletable\">\n",
       "<tr>\n",
       "      <td></td>         <th>coef</th>     <th>std err</th>      <th>t</th>      <th>P>|t|</th>  <th>[0.025</th>    <th>0.975]</th>  \n",
       "</tr>\n",
       "<tr>\n",
       "  <th>Intercept</th> <td>  631.7555</td> <td>    1.453</td> <td>  434.765</td> <td> 0.000</td> <td>  628.907</td> <td>  634.604</td>\n",
       "</tr>\n",
       "<tr>\n",
       "  <th>vf</th>        <td>    0.7199</td> <td>    0.552</td> <td>    1.304</td> <td> 0.192</td> <td>   -0.362</td> <td>    1.802</td>\n",
       "</tr>\n",
       "</table>\n",
       "<table class=\"simpletable\">\n",
       "<tr>\n",
       "  <th>Omnibus:</th>       <td>1190.062</td> <th>  Durbin-Watson:     </th> <td>   0.933</td> \n",
       "</tr>\n",
       "<tr>\n",
       "  <th>Prob(Omnibus):</th>  <td> 0.000</td>  <th>  Jarque-Bera (JB):  </th> <td>1235.842</td> \n",
       "</tr>\n",
       "<tr>\n",
       "  <th>Skew:</th>           <td> 0.269</td>  <th>  Prob(JB):          </th> <td>4.37e-269</td>\n",
       "</tr>\n",
       "<tr>\n",
       "  <th>Kurtosis:</th>       <td> 3.116</td>  <th>  Cond. No.          </th> <td>    6.12</td> \n",
       "</tr>\n",
       "</table><br/><br/>Notes:<br/>[1] Standard Errors assume that the covariance matrix of the errors is correctly specified."
      ],
      "text/plain": [
       "<class 'statsmodels.iolib.summary.Summary'>\n",
       "\"\"\"\n",
       "                            OLS Regression Results                            \n",
       "==============================================================================\n",
       "Dep. Variable:                     rt   R-squared:                       0.000\n",
       "Model:                            OLS   Adj. R-squared:                  0.000\n",
       "Method:                 Least Squares   F-statistic:                     1.701\n",
       "Date:                Thu, 07 Apr 2022   Prob (F-statistic):              0.192\n",
       "Time:                        17:16:57   Log-Likelihood:            -6.6795e+05\n",
       "No. Observations:               98157   AIC:                         1.336e+06\n",
       "Df Residuals:                   98155   BIC:                         1.336e+06\n",
       "Df Model:                           1                                         \n",
       "Covariance Type:            nonrobust                                         \n",
       "==============================================================================\n",
       "                 coef    std err          t      P>|t|      [0.025      0.975]\n",
       "------------------------------------------------------------------------------\n",
       "Intercept    631.7555      1.453    434.765      0.000     628.907     634.604\n",
       "vf             0.7199      0.552      1.304      0.192      -0.362       1.802\n",
       "==============================================================================\n",
       "Omnibus:                     1190.062   Durbin-Watson:                   0.933\n",
       "Prob(Omnibus):                  0.000   Jarque-Bera (JB):             1235.842\n",
       "Skew:                           0.269   Prob(JB):                    4.37e-269\n",
       "Kurtosis:                       3.116   Cond. No.                         6.12\n",
       "==============================================================================\n",
       "\n",
       "Notes:\n",
       "[1] Standard Errors assume that the covariance matrix of the errors is correctly specified.\n",
       "\"\"\""
      ]
     },
     "execution_count": 34,
     "metadata": {},
     "output_type": "execute_result"
    }
   ],
   "source": [
    "model3 = ols('rt ~ vf', data=clean_data).fit()\n",
    "model3.summary()"
   ]
  },
  {
   "cell_type": "code",
   "execution_count": 35,
   "metadata": {},
   "outputs": [
    {
     "data": {
      "text/html": [
       "<table class=\"simpletable\">\n",
       "<caption>OLS Regression Results</caption>\n",
       "<tr>\n",
       "  <th>Dep. Variable:</th>           <td>lrt</td>       <th>  R-squared:         </th> <td>   0.000</td> \n",
       "</tr>\n",
       "<tr>\n",
       "  <th>Model:</th>                   <td>OLS</td>       <th>  Adj. R-squared:    </th> <td>  -0.000</td> \n",
       "</tr>\n",
       "<tr>\n",
       "  <th>Method:</th>             <td>Least Squares</td>  <th>  F-statistic:       </th> <td>  0.3681</td> \n",
       "</tr>\n",
       "<tr>\n",
       "  <th>Date:</th>             <td>Thu, 07 Apr 2022</td> <th>  Prob (F-statistic):</th>  <td> 0.544</td>  \n",
       "</tr>\n",
       "<tr>\n",
       "  <th>Time:</th>                 <td>17:16:58</td>     <th>  Log-Likelihood:    </th> <td> -49604.</td> \n",
       "</tr>\n",
       "<tr>\n",
       "  <th>No. Observations:</th>      <td> 98157</td>      <th>  AIC:               </th> <td>9.921e+04</td>\n",
       "</tr>\n",
       "<tr>\n",
       "  <th>Df Residuals:</th>          <td> 98155</td>      <th>  BIC:               </th> <td>9.923e+04</td>\n",
       "</tr>\n",
       "<tr>\n",
       "  <th>Df Model:</th>              <td>     1</td>      <th>                     </th>     <td> </td>    \n",
       "</tr>\n",
       "<tr>\n",
       "  <th>Covariance Type:</th>      <td>nonrobust</td>    <th>                     </th>     <td> </td>    \n",
       "</tr>\n",
       "</table>\n",
       "<table class=\"simpletable\">\n",
       "<tr>\n",
       "      <td></td>         <th>coef</th>     <th>std err</th>      <th>t</th>      <th>P>|t|</th>  <th>[0.025</th>    <th>0.975]</th>  \n",
       "</tr>\n",
       "<tr>\n",
       "  <th>Intercept</th> <td>    6.3797</td> <td>    0.003</td> <td> 2389.872</td> <td> 0.000</td> <td>    6.374</td> <td>    6.385</td>\n",
       "</tr>\n",
       "<tr>\n",
       "  <th>vf</th>        <td>    0.0006</td> <td>    0.001</td> <td>    0.607</td> <td> 0.544</td> <td>   -0.001</td> <td>    0.003</td>\n",
       "</tr>\n",
       "</table>\n",
       "<table class=\"simpletable\">\n",
       "<tr>\n",
       "  <th>Omnibus:</th>       <td>21124.884</td> <th>  Durbin-Watson:     </th> <td>   0.733</td> \n",
       "</tr>\n",
       "<tr>\n",
       "  <th>Prob(Omnibus):</th>  <td> 0.000</td>   <th>  Jarque-Bera (JB):  </th> <td>51631.516</td>\n",
       "</tr>\n",
       "<tr>\n",
       "  <th>Skew:</th>           <td>-1.196</td>   <th>  Prob(JB):          </th> <td>    0.00</td> \n",
       "</tr>\n",
       "<tr>\n",
       "  <th>Kurtosis:</th>       <td> 5.628</td>   <th>  Cond. No.          </th> <td>    6.12</td> \n",
       "</tr>\n",
       "</table><br/><br/>Notes:<br/>[1] Standard Errors assume that the covariance matrix of the errors is correctly specified."
      ],
      "text/plain": [
       "<class 'statsmodels.iolib.summary.Summary'>\n",
       "\"\"\"\n",
       "                            OLS Regression Results                            \n",
       "==============================================================================\n",
       "Dep. Variable:                    lrt   R-squared:                       0.000\n",
       "Model:                            OLS   Adj. R-squared:                 -0.000\n",
       "Method:                 Least Squares   F-statistic:                    0.3681\n",
       "Date:                Thu, 07 Apr 2022   Prob (F-statistic):              0.544\n",
       "Time:                        17:16:58   Log-Likelihood:                -49604.\n",
       "No. Observations:               98157   AIC:                         9.921e+04\n",
       "Df Residuals:                   98155   BIC:                         9.923e+04\n",
       "Df Model:                           1                                         \n",
       "Covariance Type:            nonrobust                                         \n",
       "==============================================================================\n",
       "                 coef    std err          t      P>|t|      [0.025      0.975]\n",
       "------------------------------------------------------------------------------\n",
       "Intercept      6.3797      0.003   2389.872      0.000       6.374       6.385\n",
       "vf             0.0006      0.001      0.607      0.544      -0.001       0.003\n",
       "==============================================================================\n",
       "Omnibus:                    21124.884   Durbin-Watson:                   0.733\n",
       "Prob(Omnibus):                  0.000   Jarque-Bera (JB):            51631.516\n",
       "Skew:                          -1.196   Prob(JB):                         0.00\n",
       "Kurtosis:                       5.628   Cond. No.                         6.12\n",
       "==============================================================================\n",
       "\n",
       "Notes:\n",
       "[1] Standard Errors assume that the covariance matrix of the errors is correctly specified.\n",
       "\"\"\""
      ]
     },
     "execution_count": 35,
     "metadata": {},
     "output_type": "execute_result"
    }
   ],
   "source": [
    "model3 = ols('lrt ~ vf', data=clean_data).fit()\n",
    "model3.summary()"
   ]
  },
  {
   "cell_type": "code",
   "execution_count": 36,
   "metadata": {},
   "outputs": [
    {
     "name": "stdout",
     "output_type": "stream",
     "text": [
      "Optimization terminated successfully.\n",
      "         Current function value: 0.676414\n",
      "         Iterations 4\n"
     ]
    },
    {
     "data": {
      "text/html": [
       "<table class=\"simpletable\">\n",
       "<caption>Logit Regression Results</caption>\n",
       "<tr>\n",
       "  <th>Dep. Variable:</th>          <td>acc</td>       <th>  No. Observations:  </th>  <td> 98157</td>  \n",
       "</tr>\n",
       "<tr>\n",
       "  <th>Model:</th>                 <td>Logit</td>      <th>  Df Residuals:      </th>  <td> 98155</td>  \n",
       "</tr>\n",
       "<tr>\n",
       "  <th>Method:</th>                 <td>MLE</td>       <th>  Df Model:          </th>  <td>     1</td>  \n",
       "</tr>\n",
       "<tr>\n",
       "  <th>Date:</th>            <td>Thu, 07 Apr 2022</td> <th>  Pseudo R-squ.:     </th> <td>9.231e-05</td>\n",
       "</tr>\n",
       "<tr>\n",
       "  <th>Time:</th>                <td>17:16:58</td>     <th>  Log-Likelihood:    </th> <td> -66395.</td> \n",
       "</tr>\n",
       "<tr>\n",
       "  <th>converged:</th>             <td>True</td>       <th>  LL-Null:           </th> <td> -66401.</td> \n",
       "</tr>\n",
       "<tr>\n",
       "  <th>Covariance Type:</th>     <td>nonrobust</td>    <th>  LLR p-value:       </th> <td>0.0004630</td>\n",
       "</tr>\n",
       "</table>\n",
       "<table class=\"simpletable\">\n",
       "<tr>\n",
       "      <td></td>         <th>coef</th>     <th>std err</th>      <th>z</th>      <th>P>|z|</th>  <th>[0.025</th>    <th>0.975]</th>  \n",
       "</tr>\n",
       "<tr>\n",
       "  <th>Intercept</th> <td>    0.4099</td> <td>    0.014</td> <td>   30.218</td> <td> 0.000</td> <td>    0.383</td> <td>    0.437</td>\n",
       "</tr>\n",
       "<tr>\n",
       "  <th>vf</th>        <td>   -0.0180</td> <td>    0.005</td> <td>   -3.501</td> <td> 0.000</td> <td>   -0.028</td> <td>   -0.008</td>\n",
       "</tr>\n",
       "</table>"
      ],
      "text/plain": [
       "<class 'statsmodels.iolib.summary.Summary'>\n",
       "\"\"\"\n",
       "                           Logit Regression Results                           \n",
       "==============================================================================\n",
       "Dep. Variable:                    acc   No. Observations:                98157\n",
       "Model:                          Logit   Df Residuals:                    98155\n",
       "Method:                           MLE   Df Model:                            1\n",
       "Date:                Thu, 07 Apr 2022   Pseudo R-squ.:               9.231e-05\n",
       "Time:                        17:16:58   Log-Likelihood:                -66395.\n",
       "converged:                       True   LL-Null:                       -66401.\n",
       "Covariance Type:            nonrobust   LLR p-value:                 0.0004630\n",
       "==============================================================================\n",
       "                 coef    std err          z      P>|z|      [0.025      0.975]\n",
       "------------------------------------------------------------------------------\n",
       "Intercept      0.4099      0.014     30.218      0.000       0.383       0.437\n",
       "vf            -0.0180      0.005     -3.501      0.000      -0.028      -0.008\n",
       "==============================================================================\n",
       "\"\"\""
      ]
     },
     "execution_count": 36,
     "metadata": {},
     "output_type": "execute_result"
    }
   ],
   "source": [
    "model3 = smf.logit('acc ~ vf', data=clean_data).fit()\n",
    "model3.summary()"
   ]
  },
  {
   "cell_type": "code",
   "execution_count": 37,
   "metadata": {},
   "outputs": [
    {
     "data": {
      "image/png": "[encoded data removed]",
      "text/plain": [
       "<Figure size 2016x576 with 3 Axes>"
      ]
     },
     "metadata": {},
     "output_type": "display_data"
    }
   ],
   "source": [
    "sns.set()\n",
    "fig, axes = plt.subplots(1, 3, figsize=(28, 8))\n",
    "counter = 0\n",
    "dep_cols = ['acc', 'rt', 'lrt']\n",
    "indep_cols = [independent_vars[3]]\n",
    "subs = [0, 1, 2]\n",
    "for i in range(len(indep_cols)):\n",
    "    for j in range(len(dep_cols)):\n",
    "        ax = sns.barplot(ax = axes[subs[counter]], x=indep_cols[i], y=dep_cols[j], data=clean_data, order = ['l', 'r'],  estimator=np.mean, ci = 95)\n",
    "        counter +=1\n",
    "plt.show()"
   ]
  },
  {
   "cell_type": "code",
   "execution_count": 38,
   "metadata": {},
   "outputs": [
    {
     "data": {
      "text/html": [
       "<table class=\"simpletable\">\n",
       "<caption>OLS Regression Results</caption>\n",
       "<tr>\n",
       "  <th>Dep. Variable:</th>           <td>rt</td>        <th>  R-squared:         </th>  <td>   0.000</td>  \n",
       "</tr>\n",
       "<tr>\n",
       "  <th>Model:</th>                   <td>OLS</td>       <th>  Adj. R-squared:    </th>  <td>   0.000</td>  \n",
       "</tr>\n",
       "<tr>\n",
       "  <th>Method:</th>             <td>Least Squares</td>  <th>  F-statistic:       </th>  <td>   12.38</td>  \n",
       "</tr>\n",
       "<tr>\n",
       "  <th>Date:</th>             <td>Thu, 07 Apr 2022</td> <th>  Prob (F-statistic):</th>  <td>0.000433</td>  \n",
       "</tr>\n",
       "<tr>\n",
       "  <th>Time:</th>                 <td>17:17:04</td>     <th>  Log-Likelihood:    </th> <td>-6.6795e+05</td>\n",
       "</tr>\n",
       "<tr>\n",
       "  <th>No. Observations:</th>      <td> 98157</td>      <th>  AIC:               </th>  <td>1.336e+06</td> \n",
       "</tr>\n",
       "<tr>\n",
       "  <th>Df Residuals:</th>          <td> 98155</td>      <th>  BIC:               </th>  <td>1.336e+06</td> \n",
       "</tr>\n",
       "<tr>\n",
       "  <th>Df Model:</th>              <td>     1</td>      <th>                     </th>      <td> </td>     \n",
       "</tr>\n",
       "<tr>\n",
       "  <th>Covariance Type:</th>      <td>nonrobust</td>    <th>                     </th>      <td> </td>     \n",
       "</tr>\n",
       "</table>\n",
       "<table class=\"simpletable\">\n",
       "<tr>\n",
       "      <td></td>         <th>coef</th>     <th>std err</th>      <th>t</th>      <th>P>|t|</th>  <th>[0.025</th>    <th>0.975]</th>  \n",
       "</tr>\n",
       "<tr>\n",
       "  <th>Intercept</th> <td>  635.8699</td> <td>    0.985</td> <td>  645.379</td> <td> 0.000</td> <td>  633.939</td> <td>  637.801</td>\n",
       "</tr>\n",
       "<tr>\n",
       "  <th>uhnd[T.r]</th> <td>   -4.9045</td> <td>    1.394</td> <td>   -3.519</td> <td> 0.000</td> <td>   -7.636</td> <td>   -2.173</td>\n",
       "</tr>\n",
       "</table>\n",
       "<table class=\"simpletable\">\n",
       "<tr>\n",
       "  <th>Omnibus:</th>       <td>1193.242</td> <th>  Durbin-Watson:     </th> <td>   0.933</td> \n",
       "</tr>\n",
       "<tr>\n",
       "  <th>Prob(Omnibus):</th>  <td> 0.000</td>  <th>  Jarque-Bera (JB):  </th> <td>1239.276</td> \n",
       "</tr>\n",
       "<tr>\n",
       "  <th>Skew:</th>           <td> 0.269</td>  <th>  Prob(JB):          </th> <td>7.84e-270</td>\n",
       "</tr>\n",
       "<tr>\n",
       "  <th>Kurtosis:</th>       <td> 3.116</td>  <th>  Cond. No.          </th> <td>    2.62</td> \n",
       "</tr>\n",
       "</table><br/><br/>Notes:<br/>[1] Standard Errors assume that the covariance matrix of the errors is correctly specified."
      ],
      "text/plain": [
       "<class 'statsmodels.iolib.summary.Summary'>\n",
       "\"\"\"\n",
       "                            OLS Regression Results                            \n",
       "==============================================================================\n",
       "Dep. Variable:                     rt   R-squared:                       0.000\n",
       "Model:                            OLS   Adj. R-squared:                  0.000\n",
       "Method:                 Least Squares   F-statistic:                     12.38\n",
       "Date:                Thu, 07 Apr 2022   Prob (F-statistic):           0.000433\n",
       "Time:                        17:17:04   Log-Likelihood:            -6.6795e+05\n",
       "No. Observations:               98157   AIC:                         1.336e+06\n",
       "Df Residuals:                   98155   BIC:                         1.336e+06\n",
       "Df Model:                           1                                         \n",
       "Covariance Type:            nonrobust                                         \n",
       "==============================================================================\n",
       "                 coef    std err          t      P>|t|      [0.025      0.975]\n",
       "------------------------------------------------------------------------------\n",
       "Intercept    635.8699      0.985    645.379      0.000     633.939     637.801\n",
       "uhnd[T.r]     -4.9045      1.394     -3.519      0.000      -7.636      -2.173\n",
       "==============================================================================\n",
       "Omnibus:                     1193.242   Durbin-Watson:                   0.933\n",
       "Prob(Omnibus):                  0.000   Jarque-Bera (JB):             1239.276\n",
       "Skew:                           0.269   Prob(JB):                    7.84e-270\n",
       "Kurtosis:                       3.116   Cond. No.                         2.62\n",
       "==============================================================================\n",
       "\n",
       "Notes:\n",
       "[1] Standard Errors assume that the covariance matrix of the errors is correctly specified.\n",
       "\"\"\""
      ]
     },
     "execution_count": 38,
     "metadata": {},
     "output_type": "execute_result"
    }
   ],
   "source": [
    "model4 = ols('rt ~ uhnd ', data=clean_data).fit()\n",
    "model4.summary()"
   ]
  },
  {
   "cell_type": "code",
   "execution_count": 39,
   "metadata": {},
   "outputs": [
    {
     "data": {
      "text/html": [
       "<table class=\"simpletable\">\n",
       "<caption>OLS Regression Results</caption>\n",
       "<tr>\n",
       "  <th>Dep. Variable:</th>           <td>lrt</td>       <th>  R-squared:         </th> <td>   0.000</td> \n",
       "</tr>\n",
       "<tr>\n",
       "  <th>Model:</th>                   <td>OLS</td>       <th>  Adj. R-squared:    </th> <td>   0.000</td> \n",
       "</tr>\n",
       "<tr>\n",
       "  <th>Method:</th>             <td>Least Squares</td>  <th>  F-statistic:       </th> <td>   16.41</td> \n",
       "</tr>\n",
       "<tr>\n",
       "  <th>Date:</th>             <td>Thu, 07 Apr 2022</td> <th>  Prob (F-statistic):</th> <td>5.10e-05</td> \n",
       "</tr>\n",
       "<tr>\n",
       "  <th>Time:</th>                 <td>17:17:05</td>     <th>  Log-Likelihood:    </th> <td> -49596.</td> \n",
       "</tr>\n",
       "<tr>\n",
       "  <th>No. Observations:</th>      <td> 98157</td>      <th>  AIC:               </th> <td>9.920e+04</td>\n",
       "</tr>\n",
       "<tr>\n",
       "  <th>Df Residuals:</th>          <td> 98155</td>      <th>  BIC:               </th> <td>9.922e+04</td>\n",
       "</tr>\n",
       "<tr>\n",
       "  <th>Df Model:</th>              <td>     1</td>      <th>                     </th>     <td> </td>    \n",
       "</tr>\n",
       "<tr>\n",
       "  <th>Covariance Type:</th>      <td>nonrobust</td>    <th>                     </th>     <td> </td>    \n",
       "</tr>\n",
       "</table>\n",
       "<table class=\"simpletable\">\n",
       "<tr>\n",
       "      <td></td>         <th>coef</th>     <th>std err</th>      <th>t</th>      <th>P>|t|</th>  <th>[0.025</th>    <th>0.975]</th>  \n",
       "</tr>\n",
       "<tr>\n",
       "  <th>Intercept</th> <td>    6.3863</td> <td>    0.002</td> <td> 3528.389</td> <td> 0.000</td> <td>    6.383</td> <td>    6.390</td>\n",
       "</tr>\n",
       "<tr>\n",
       "  <th>uhnd[T.r]</th> <td>   -0.0104</td> <td>    0.003</td> <td>   -4.051</td> <td> 0.000</td> <td>   -0.015</td> <td>   -0.005</td>\n",
       "</tr>\n",
       "</table>\n",
       "<table class=\"simpletable\">\n",
       "<tr>\n",
       "  <th>Omnibus:</th>       <td>21104.673</td> <th>  Durbin-Watson:     </th> <td>   0.734</td> \n",
       "</tr>\n",
       "<tr>\n",
       "  <th>Prob(Omnibus):</th>  <td> 0.000</td>   <th>  Jarque-Bera (JB):  </th> <td>51531.932</td>\n",
       "</tr>\n",
       "<tr>\n",
       "  <th>Skew:</th>           <td>-1.195</td>   <th>  Prob(JB):          </th> <td>    0.00</td> \n",
       "</tr>\n",
       "<tr>\n",
       "  <th>Kurtosis:</th>       <td> 5.624</td>   <th>  Cond. No.          </th> <td>    2.62</td> \n",
       "</tr>\n",
       "</table><br/><br/>Notes:<br/>[1] Standard Errors assume that the covariance matrix of the errors is correctly specified."
      ],
      "text/plain": [
       "<class 'statsmodels.iolib.summary.Summary'>\n",
       "\"\"\"\n",
       "                            OLS Regression Results                            \n",
       "==============================================================================\n",
       "Dep. Variable:                    lrt   R-squared:                       0.000\n",
       "Model:                            OLS   Adj. R-squared:                  0.000\n",
       "Method:                 Least Squares   F-statistic:                     16.41\n",
       "Date:                Thu, 07 Apr 2022   Prob (F-statistic):           5.10e-05\n",
       "Time:                        17:17:05   Log-Likelihood:                -49596.\n",
       "No. Observations:               98157   AIC:                         9.920e+04\n",
       "Df Residuals:                   98155   BIC:                         9.922e+04\n",
       "Df Model:                           1                                         \n",
       "Covariance Type:            nonrobust                                         \n",
       "==============================================================================\n",
       "                 coef    std err          t      P>|t|      [0.025      0.975]\n",
       "------------------------------------------------------------------------------\n",
       "Intercept      6.3863      0.002   3528.389      0.000       6.383       6.390\n",
       "uhnd[T.r]     -0.0104      0.003     -4.051      0.000      -0.015      -0.005\n",
       "==============================================================================\n",
       "Omnibus:                    21104.673   Durbin-Watson:                   0.734\n",
       "Prob(Omnibus):                  0.000   Jarque-Bera (JB):            51531.932\n",
       "Skew:                          -1.195   Prob(JB):                         0.00\n",
       "Kurtosis:                       5.624   Cond. No.                         2.62\n",
       "==============================================================================\n",
       "\n",
       "Notes:\n",
       "[1] Standard Errors assume that the covariance matrix of the errors is correctly specified.\n",
       "\"\"\""
      ]
     },
     "execution_count": 39,
     "metadata": {},
     "output_type": "execute_result"
    }
   ],
   "source": [
    "model4 = ols('lrt ~ uhnd', data=clean_data).fit()\n",
    "model4.summary()"
   ]
  },
  {
   "cell_type": "code",
   "execution_count": 40,
   "metadata": {},
   "outputs": [
    {
     "name": "stdout",
     "output_type": "stream",
     "text": [
      "Optimization terminated successfully.\n",
      "         Current function value: 0.676474\n",
      "         Iterations 4\n"
     ]
    },
    {
     "data": {
      "text/html": [
       "<table class=\"simpletable\">\n",
       "<caption>Logit Regression Results</caption>\n",
       "<tr>\n",
       "  <th>Dep. Variable:</th>          <td>acc</td>       <th>  No. Observations:  </th>  <td> 98157</td>  \n",
       "</tr>\n",
       "<tr>\n",
       "  <th>Model:</th>                 <td>Logit</td>      <th>  Df Residuals:      </th>  <td> 98155</td>  \n",
       "</tr>\n",
       "<tr>\n",
       "  <th>Method:</th>                 <td>MLE</td>       <th>  Df Model:          </th>  <td>     1</td>  \n",
       "</tr>\n",
       "<tr>\n",
       "  <th>Date:</th>            <td>Thu, 07 Apr 2022</td> <th>  Pseudo R-squ.:     </th> <td>4.728e-06</td>\n",
       "</tr>\n",
       "<tr>\n",
       "  <th>Time:</th>                <td>17:17:06</td>     <th>  Log-Likelihood:    </th> <td> -66401.</td> \n",
       "</tr>\n",
       "<tr>\n",
       "  <th>converged:</th>             <td>True</td>       <th>  LL-Null:           </th> <td> -66401.</td> \n",
       "</tr>\n",
       "<tr>\n",
       "  <th>Covariance Type:</th>     <td>nonrobust</td>    <th>  LLR p-value:       </th>  <td>0.4281</td>  \n",
       "</tr>\n",
       "</table>\n",
       "<table class=\"simpletable\">\n",
       "<tr>\n",
       "      <td></td>         <th>coef</th>     <th>std err</th>      <th>z</th>      <th>P>|z|</th>  <th>[0.025</th>    <th>0.975]</th>  \n",
       "</tr>\n",
       "<tr>\n",
       "  <th>Intercept</th> <td>    0.3631</td> <td>    0.009</td> <td>   39.578</td> <td> 0.000</td> <td>    0.345</td> <td>    0.381</td>\n",
       "</tr>\n",
       "<tr>\n",
       "  <th>uhnd[T.r]</th> <td>    0.0103</td> <td>    0.013</td> <td>    0.792</td> <td> 0.428</td> <td>   -0.015</td> <td>    0.036</td>\n",
       "</tr>\n",
       "</table>"
      ],
      "text/plain": [
       "<class 'statsmodels.iolib.summary.Summary'>\n",
       "\"\"\"\n",
       "                           Logit Regression Results                           \n",
       "==============================================================================\n",
       "Dep. Variable:                    acc   No. Observations:                98157\n",
       "Model:                          Logit   Df Residuals:                    98155\n",
       "Method:                           MLE   Df Model:                            1\n",
       "Date:                Thu, 07 Apr 2022   Pseudo R-squ.:               4.728e-06\n",
       "Time:                        17:17:06   Log-Likelihood:                -66401.\n",
       "converged:                       True   LL-Null:                       -66401.\n",
       "Covariance Type:            nonrobust   LLR p-value:                    0.4281\n",
       "==============================================================================\n",
       "                 coef    std err          z      P>|z|      [0.025      0.975]\n",
       "------------------------------------------------------------------------------\n",
       "Intercept      0.3631      0.009     39.578      0.000       0.345       0.381\n",
       "uhnd[T.r]      0.0103      0.013      0.792      0.428      -0.015       0.036\n",
       "==============================================================================\n",
       "\"\"\""
      ]
     },
     "execution_count": 40,
     "metadata": {},
     "output_type": "execute_result"
    }
   ],
   "source": [
    "model4 = smf.logit('acc ~ uhnd', data=clean_data).fit()\n",
    "model4.summary()"
   ]
  },
  {
   "cell_type": "code",
   "execution_count": 41,
   "metadata": {},
   "outputs": [
    {
     "data": {
      "image/png": "[encoded data removed]",
      "text/plain": [
       "<Figure size 2016x576 with 3 Axes>"
      ]
     },
     "metadata": {},
     "output_type": "display_data"
    }
   ],
   "source": [
    "sns.set()\n",
    "fig, axes = plt.subplots(1, 3, figsize=(28, 8))\n",
    "counter = 0\n",
    "dep_cols = ['acc', 'rt', 'lrt']\n",
    "indep_cols = [independent_vars[4]]\n",
    "subs = [0, 1, 2]\n",
    "for i in range(len(indep_cols)):\n",
    "    for j in range(len(dep_cols)):\n",
    "        ax = sns.barplot(ax = axes[subs[counter]], x=indep_cols[i], y=dep_cols[j], data=clean_data,  estimator=np.mean, ci = 95)\n",
    "        counter +=1\n",
    "plt.show()"
   ]
  },
  {
   "cell_type": "code",
   "execution_count": 42,
   "metadata": {},
   "outputs": [
    {
     "data": {
      "text/html": [
       "<table class=\"simpletable\">\n",
       "<caption>OLS Regression Results</caption>\n",
       "<tr>\n",
       "  <th>Dep. Variable:</th>           <td>rt</td>        <th>  R-squared:         </th>  <td>   0.000</td>  \n",
       "</tr>\n",
       "<tr>\n",
       "  <th>Model:</th>                   <td>OLS</td>       <th>  Adj. R-squared:    </th>  <td>  -0.000</td>  \n",
       "</tr>\n",
       "<tr>\n",
       "  <th>Method:</th>             <td>Least Squares</td>  <th>  F-statistic:       </th>  <td> 0.01663</td>  \n",
       "</tr>\n",
       "<tr>\n",
       "  <th>Date:</th>             <td>Thu, 07 Apr 2022</td> <th>  Prob (F-statistic):</th>   <td> 0.897</td>   \n",
       "</tr>\n",
       "<tr>\n",
       "  <th>Time:</th>                 <td>17:17:11</td>     <th>  Log-Likelihood:    </th> <td>-6.6795e+05</td>\n",
       "</tr>\n",
       "<tr>\n",
       "  <th>No. Observations:</th>      <td> 98157</td>      <th>  AIC:               </th>  <td>1.336e+06</td> \n",
       "</tr>\n",
       "<tr>\n",
       "  <th>Df Residuals:</th>          <td> 98155</td>      <th>  BIC:               </th>  <td>1.336e+06</td> \n",
       "</tr>\n",
       "<tr>\n",
       "  <th>Df Model:</th>              <td>     1</td>      <th>                     </th>      <td> </td>     \n",
       "</tr>\n",
       "<tr>\n",
       "  <th>Covariance Type:</th>      <td>nonrobust</td>    <th>                     </th>      <td> </td>     \n",
       "</tr>\n",
       "</table>\n",
       "<table class=\"simpletable\">\n",
       "<tr>\n",
       "      <td></td>         <th>coef</th>     <th>std err</th>      <th>t</th>      <th>P>|t|</th>  <th>[0.025</th>    <th>0.975]</th>  \n",
       "</tr>\n",
       "<tr>\n",
       "  <th>Intercept</th> <td>  633.3288</td> <td>    0.985</td> <td>  642.713</td> <td> 0.000</td> <td>  631.397</td> <td>  635.260</td>\n",
       "</tr>\n",
       "<tr>\n",
       "  <th>udhnd</th>     <td>    0.1797</td> <td>    1.394</td> <td>    0.129</td> <td> 0.897</td> <td>   -2.552</td> <td>    2.911</td>\n",
       "</tr>\n",
       "</table>\n",
       "<table class=\"simpletable\">\n",
       "<tr>\n",
       "  <th>Omnibus:</th>       <td>1190.792</td> <th>  Durbin-Watson:     </th> <td>   0.933</td> \n",
       "</tr>\n",
       "<tr>\n",
       "  <th>Prob(Omnibus):</th>  <td> 0.000</td>  <th>  Jarque-Bera (JB):  </th> <td>1236.615</td> \n",
       "</tr>\n",
       "<tr>\n",
       "  <th>Skew:</th>           <td> 0.269</td>  <th>  Prob(JB):          </th> <td>2.97e-269</td>\n",
       "</tr>\n",
       "<tr>\n",
       "  <th>Kurtosis:</th>       <td> 3.116</td>  <th>  Cond. No.          </th> <td>    2.62</td> \n",
       "</tr>\n",
       "</table><br/><br/>Notes:<br/>[1] Standard Errors assume that the covariance matrix of the errors is correctly specified."
      ],
      "text/plain": [
       "<class 'statsmodels.iolib.summary.Summary'>\n",
       "\"\"\"\n",
       "                            OLS Regression Results                            \n",
       "==============================================================================\n",
       "Dep. Variable:                     rt   R-squared:                       0.000\n",
       "Model:                            OLS   Adj. R-squared:                 -0.000\n",
       "Method:                 Least Squares   F-statistic:                   0.01663\n",
       "Date:                Thu, 07 Apr 2022   Prob (F-statistic):              0.897\n",
       "Time:                        17:17:11   Log-Likelihood:            -6.6795e+05\n",
       "No. Observations:               98157   AIC:                         1.336e+06\n",
       "Df Residuals:                   98155   BIC:                         1.336e+06\n",
       "Df Model:                           1                                         \n",
       "Covariance Type:            nonrobust                                         \n",
       "==============================================================================\n",
       "                 coef    std err          t      P>|t|      [0.025      0.975]\n",
       "------------------------------------------------------------------------------\n",
       "Intercept    633.3288      0.985    642.713      0.000     631.397     635.260\n",
       "udhnd          0.1797      1.394      0.129      0.897      -2.552       2.911\n",
       "==============================================================================\n",
       "Omnibus:                     1190.792   Durbin-Watson:                   0.933\n",
       "Prob(Omnibus):                  0.000   Jarque-Bera (JB):             1236.615\n",
       "Skew:                           0.269   Prob(JB):                    2.97e-269\n",
       "Kurtosis:                       3.116   Cond. No.                         2.62\n",
       "==============================================================================\n",
       "\n",
       "Notes:\n",
       "[1] Standard Errors assume that the covariance matrix of the errors is correctly specified.\n",
       "\"\"\""
      ]
     },
     "execution_count": 42,
     "metadata": {},
     "output_type": "execute_result"
    }
   ],
   "source": [
    "model5 = ols('rt ~ udhnd', data=clean_data).fit()\n",
    "model5.summary()"
   ]
  },
  {
   "cell_type": "code",
   "execution_count": 43,
   "metadata": {},
   "outputs": [
    {
     "data": {
      "text/html": [
       "<table class=\"simpletable\">\n",
       "<caption>OLS Regression Results</caption>\n",
       "<tr>\n",
       "  <th>Dep. Variable:</th>           <td>lrt</td>       <th>  R-squared:         </th> <td>   0.000</td> \n",
       "</tr>\n",
       "<tr>\n",
       "  <th>Model:</th>                   <td>OLS</td>       <th>  Adj. R-squared:    </th> <td>  -0.000</td> \n",
       "</tr>\n",
       "<tr>\n",
       "  <th>Method:</th>             <td>Least Squares</td>  <th>  F-statistic:       </th> <td>  0.5021</td> \n",
       "</tr>\n",
       "<tr>\n",
       "  <th>Date:</th>             <td>Thu, 07 Apr 2022</td> <th>  Prob (F-statistic):</th>  <td> 0.479</td>  \n",
       "</tr>\n",
       "<tr>\n",
       "  <th>Time:</th>                 <td>17:17:11</td>     <th>  Log-Likelihood:    </th> <td> -49604.</td> \n",
       "</tr>\n",
       "<tr>\n",
       "  <th>No. Observations:</th>      <td> 98157</td>      <th>  AIC:               </th> <td>9.921e+04</td>\n",
       "</tr>\n",
       "<tr>\n",
       "  <th>Df Residuals:</th>          <td> 98155</td>      <th>  BIC:               </th> <td>9.923e+04</td>\n",
       "</tr>\n",
       "<tr>\n",
       "  <th>Df Model:</th>              <td>     1</td>      <th>                     </th>     <td> </td>    \n",
       "</tr>\n",
       "<tr>\n",
       "  <th>Covariance Type:</th>      <td>nonrobust</td>    <th>                     </th>     <td> </td>    \n",
       "</tr>\n",
       "</table>\n",
       "<table class=\"simpletable\">\n",
       "<tr>\n",
       "      <td></td>         <th>coef</th>     <th>std err</th>      <th>t</th>      <th>P>|t|</th>  <th>[0.025</th>    <th>0.975]</th>  \n",
       "</tr>\n",
       "<tr>\n",
       "  <th>Intercept</th> <td>    6.3820</td> <td>    0.002</td> <td> 3525.489</td> <td> 0.000</td> <td>    6.378</td> <td>    6.386</td>\n",
       "</tr>\n",
       "<tr>\n",
       "  <th>udhnd</th>     <td>   -0.0018</td> <td>    0.003</td> <td>   -0.709</td> <td> 0.479</td> <td>   -0.007</td> <td>    0.003</td>\n",
       "</tr>\n",
       "</table>\n",
       "<table class=\"simpletable\">\n",
       "<tr>\n",
       "  <th>Omnibus:</th>       <td>21118.709</td> <th>  Durbin-Watson:     </th> <td>   0.733</td> \n",
       "</tr>\n",
       "<tr>\n",
       "  <th>Prob(Omnibus):</th>  <td> 0.000</td>   <th>  Jarque-Bera (JB):  </th> <td>51601.011</td>\n",
       "</tr>\n",
       "<tr>\n",
       "  <th>Skew:</th>           <td>-1.195</td>   <th>  Prob(JB):          </th> <td>    0.00</td> \n",
       "</tr>\n",
       "<tr>\n",
       "  <th>Kurtosis:</th>       <td> 5.627</td>   <th>  Cond. No.          </th> <td>    2.62</td> \n",
       "</tr>\n",
       "</table><br/><br/>Notes:<br/>[1] Standard Errors assume that the covariance matrix of the errors is correctly specified."
      ],
      "text/plain": [
       "<class 'statsmodels.iolib.summary.Summary'>\n",
       "\"\"\"\n",
       "                            OLS Regression Results                            \n",
       "==============================================================================\n",
       "Dep. Variable:                    lrt   R-squared:                       0.000\n",
       "Model:                            OLS   Adj. R-squared:                 -0.000\n",
       "Method:                 Least Squares   F-statistic:                    0.5021\n",
       "Date:                Thu, 07 Apr 2022   Prob (F-statistic):              0.479\n",
       "Time:                        17:17:11   Log-Likelihood:                -49604.\n",
       "No. Observations:               98157   AIC:                         9.921e+04\n",
       "Df Residuals:                   98155   BIC:                         9.923e+04\n",
       "Df Model:                           1                                         \n",
       "Covariance Type:            nonrobust                                         \n",
       "==============================================================================\n",
       "                 coef    std err          t      P>|t|      [0.025      0.975]\n",
       "------------------------------------------------------------------------------\n",
       "Intercept      6.3820      0.002   3525.489      0.000       6.378       6.386\n",
       "udhnd         -0.0018      0.003     -0.709      0.479      -0.007       0.003\n",
       "==============================================================================\n",
       "Omnibus:                    21118.709   Durbin-Watson:                   0.733\n",
       "Prob(Omnibus):                  0.000   Jarque-Bera (JB):            51601.011\n",
       "Skew:                          -1.195   Prob(JB):                         0.00\n",
       "Kurtosis:                       5.627   Cond. No.                         2.62\n",
       "==============================================================================\n",
       "\n",
       "Notes:\n",
       "[1] Standard Errors assume that the covariance matrix of the errors is correctly specified.\n",
       "\"\"\""
      ]
     },
     "execution_count": 43,
     "metadata": {},
     "output_type": "execute_result"
    }
   ],
   "source": [
    "model5 = ols('lrt ~ udhnd', data=clean_data).fit()\n",
    "model5.summary()"
   ]
  },
  {
   "cell_type": "code",
   "execution_count": 44,
   "metadata": {},
   "outputs": [
    {
     "name": "stdout",
     "output_type": "stream",
     "text": [
      "Optimization terminated successfully.\n",
      "         Current function value: 0.676471\n",
      "         Iterations 4\n"
     ]
    },
    {
     "data": {
      "text/html": [
       "<table class=\"simpletable\">\n",
       "<caption>Logit Regression Results</caption>\n",
       "<tr>\n",
       "  <th>Dep. Variable:</th>          <td>acc</td>       <th>  No. Observations:  </th>  <td> 98157</td>  \n",
       "</tr>\n",
       "<tr>\n",
       "  <th>Model:</th>                 <td>Logit</td>      <th>  Df Residuals:      </th>  <td> 98155</td>  \n",
       "</tr>\n",
       "<tr>\n",
       "  <th>Method:</th>                 <td>MLE</td>       <th>  Df Model:          </th>  <td>     1</td>  \n",
       "</tr>\n",
       "<tr>\n",
       "  <th>Date:</th>            <td>Thu, 07 Apr 2022</td> <th>  Pseudo R-squ.:     </th> <td>9.148e-06</td>\n",
       "</tr>\n",
       "<tr>\n",
       "  <th>Time:</th>                <td>17:17:11</td>     <th>  Log-Likelihood:    </th> <td> -66400.</td> \n",
       "</tr>\n",
       "<tr>\n",
       "  <th>converged:</th>             <td>True</td>       <th>  LL-Null:           </th> <td> -66401.</td> \n",
       "</tr>\n",
       "<tr>\n",
       "  <th>Covariance Type:</th>     <td>nonrobust</td>    <th>  LLR p-value:       </th>  <td>0.2704</td>  \n",
       "</tr>\n",
       "</table>\n",
       "<table class=\"simpletable\">\n",
       "<tr>\n",
       "      <td></td>         <th>coef</th>     <th>std err</th>      <th>z</th>      <th>P>|z|</th>  <th>[0.025</th>    <th>0.975]</th>  \n",
       "</tr>\n",
       "<tr>\n",
       "  <th>Intercept</th> <td>    0.3611</td> <td>    0.009</td> <td>   39.363</td> <td> 0.000</td> <td>    0.343</td> <td>    0.379</td>\n",
       "</tr>\n",
       "<tr>\n",
       "  <th>udhnd</th>     <td>    0.0143</td> <td>    0.013</td> <td>    1.102</td> <td> 0.270</td> <td>   -0.011</td> <td>    0.040</td>\n",
       "</tr>\n",
       "</table>"
      ],
      "text/plain": [
       "<class 'statsmodels.iolib.summary.Summary'>\n",
       "\"\"\"\n",
       "                           Logit Regression Results                           \n",
       "==============================================================================\n",
       "Dep. Variable:                    acc   No. Observations:                98157\n",
       "Model:                          Logit   Df Residuals:                    98155\n",
       "Method:                           MLE   Df Model:                            1\n",
       "Date:                Thu, 07 Apr 2022   Pseudo R-squ.:               9.148e-06\n",
       "Time:                        17:17:11   Log-Likelihood:                -66400.\n",
       "converged:                       True   LL-Null:                       -66401.\n",
       "Covariance Type:            nonrobust   LLR p-value:                    0.2704\n",
       "==============================================================================\n",
       "                 coef    std err          z      P>|z|      [0.025      0.975]\n",
       "------------------------------------------------------------------------------\n",
       "Intercept      0.3611      0.009     39.363      0.000       0.343       0.379\n",
       "udhnd          0.0143      0.013      1.102      0.270      -0.011       0.040\n",
       "==============================================================================\n",
       "\"\"\""
      ]
     },
     "execution_count": 44,
     "metadata": {},
     "output_type": "execute_result"
    }
   ],
   "source": [
    "model5 = smf.logit('acc ~ udhnd', data=clean_data).fit()\n",
    "model5.summary()"
   ]
  },
  {
   "cell_type": "code",
   "execution_count": 45,
   "metadata": {},
   "outputs": [
    {
     "data": {
      "image/png": "[encoded data removed]",
      "text/plain": [
       "<Figure size 2016x576 with 3 Axes>"
      ]
     },
     "metadata": {},
     "output_type": "display_data"
    }
   ],
   "source": [
    "sns.set()\n",
    "fig, axes = plt.subplots(1, 3, figsize=(28, 8))\n",
    "counter = 0\n",
    "dep_cols = ['acc', 'rt', 'lrt']\n",
    "indep_cols = [independent_vars[5]]\n",
    "subs = [0, 1, 2]\n",
    "for i in range(len(indep_cols)):\n",
    "    for j in range(len(dep_cols)):\n",
    "        ax = sns.barplot(ax = axes[subs[counter]], x=indep_cols[i], y=dep_cols[j], data=clean_data,  estimator=np.mean, ci = 95)\n",
    "        counter +=1\n",
    "plt.show()"
   ]
  },
  {
   "cell_type": "code",
   "execution_count": 46,
   "metadata": {},
   "outputs": [
    {
     "data": {
      "text/html": [
       "<table class=\"simpletable\">\n",
       "<caption>OLS Regression Results</caption>\n",
       "<tr>\n",
       "  <th>Dep. Variable:</th>           <td>rt</td>        <th>  R-squared:         </th>  <td>   0.006</td>  \n",
       "</tr>\n",
       "<tr>\n",
       "  <th>Model:</th>                   <td>OLS</td>       <th>  Adj. R-squared:    </th>  <td>   0.006</td>  \n",
       "</tr>\n",
       "<tr>\n",
       "  <th>Method:</th>             <td>Least Squares</td>  <th>  F-statistic:       </th>  <td>   605.9</td>  \n",
       "</tr>\n",
       "<tr>\n",
       "  <th>Date:</th>             <td>Thu, 07 Apr 2022</td> <th>  Prob (F-statistic):</th>  <td>2.26e-133</td> \n",
       "</tr>\n",
       "<tr>\n",
       "  <th>Time:</th>                 <td>17:17:18</td>     <th>  Log-Likelihood:    </th> <td>-6.6765e+05</td>\n",
       "</tr>\n",
       "<tr>\n",
       "  <th>No. Observations:</th>      <td> 98157</td>      <th>  AIC:               </th>  <td>1.335e+06</td> \n",
       "</tr>\n",
       "<tr>\n",
       "  <th>Df Residuals:</th>          <td> 98155</td>      <th>  BIC:               </th>  <td>1.335e+06</td> \n",
       "</tr>\n",
       "<tr>\n",
       "  <th>Df Model:</th>              <td>     1</td>      <th>                     </th>      <td> </td>     \n",
       "</tr>\n",
       "<tr>\n",
       "  <th>Covariance Type:</th>      <td>nonrobust</td>    <th>                     </th>      <td> </td>     \n",
       "</tr>\n",
       "</table>\n",
       "<table class=\"simpletable\">\n",
       "<tr>\n",
       "      <td></td>         <th>coef</th>     <th>std err</th>      <th>t</th>      <th>P>|t|</th>  <th>[0.025</th>    <th>0.975]</th>  \n",
       "</tr>\n",
       "<tr>\n",
       "  <th>Intercept</th> <td>  657.6270</td> <td>    1.204</td> <td>  546.140</td> <td> 0.000</td> <td>  655.267</td> <td>  659.987</td>\n",
       "</tr>\n",
       "<tr>\n",
       "  <th>sex[T.m]</th>  <td>  -36.2876</td> <td>    1.474</td> <td>  -24.614</td> <td> 0.000</td> <td>  -39.177</td> <td>  -33.398</td>\n",
       "</tr>\n",
       "</table>\n",
       "<table class=\"simpletable\">\n",
       "<tr>\n",
       "  <th>Omnibus:</th>       <td>1338.760</td> <th>  Durbin-Watson:     </th> <td>   0.939</td> \n",
       "</tr>\n",
       "<tr>\n",
       "  <th>Prob(Omnibus):</th>  <td> 0.000</td>  <th>  Jarque-Bera (JB):  </th> <td>1395.948</td> \n",
       "</tr>\n",
       "<tr>\n",
       "  <th>Skew:</th>           <td> 0.286</td>  <th>  Prob(JB):          </th> <td>7.48e-304</td>\n",
       "</tr>\n",
       "<tr>\n",
       "  <th>Kurtosis:</th>       <td> 3.118</td>  <th>  Cond. No.          </th> <td>    3.23</td> \n",
       "</tr>\n",
       "</table><br/><br/>Notes:<br/>[1] Standard Errors assume that the covariance matrix of the errors is correctly specified."
      ],
      "text/plain": [
       "<class 'statsmodels.iolib.summary.Summary'>\n",
       "\"\"\"\n",
       "                            OLS Regression Results                            \n",
       "==============================================================================\n",
       "Dep. Variable:                     rt   R-squared:                       0.006\n",
       "Model:                            OLS   Adj. R-squared:                  0.006\n",
       "Method:                 Least Squares   F-statistic:                     605.9\n",
       "Date:                Thu, 07 Apr 2022   Prob (F-statistic):          2.26e-133\n",
       "Time:                        17:17:18   Log-Likelihood:            -6.6765e+05\n",
       "No. Observations:               98157   AIC:                         1.335e+06\n",
       "Df Residuals:                   98155   BIC:                         1.335e+06\n",
       "Df Model:                           1                                         \n",
       "Covariance Type:            nonrobust                                         \n",
       "==============================================================================\n",
       "                 coef    std err          t      P>|t|      [0.025      0.975]\n",
       "------------------------------------------------------------------------------\n",
       "Intercept    657.6270      1.204    546.140      0.000     655.267     659.987\n",
       "sex[T.m]     -36.2876      1.474    -24.614      0.000     -39.177     -33.398\n",
       "==============================================================================\n",
       "Omnibus:                     1338.760   Durbin-Watson:                   0.939\n",
       "Prob(Omnibus):                  0.000   Jarque-Bera (JB):             1395.948\n",
       "Skew:                           0.286   Prob(JB):                    7.48e-304\n",
       "Kurtosis:                       3.118   Cond. No.                         3.23\n",
       "==============================================================================\n",
       "\n",
       "Notes:\n",
       "[1] Standard Errors assume that the covariance matrix of the errors is correctly specified.\n",
       "\"\"\""
      ]
     },
     "execution_count": 46,
     "metadata": {},
     "output_type": "execute_result"
    }
   ],
   "source": [
    "model6 = ols('rt ~ sex', data=clean_data).fit()\n",
    "model6.summary()"
   ]
  },
  {
   "cell_type": "code",
   "execution_count": 47,
   "metadata": {},
   "outputs": [
    {
     "data": {
      "text/html": [
       "<table class=\"simpletable\">\n",
       "<caption>OLS Regression Results</caption>\n",
       "<tr>\n",
       "  <th>Dep. Variable:</th>           <td>lrt</td>       <th>  R-squared:         </th> <td>   0.008</td> \n",
       "</tr>\n",
       "<tr>\n",
       "  <th>Model:</th>                   <td>OLS</td>       <th>  Adj. R-squared:    </th> <td>   0.008</td> \n",
       "</tr>\n",
       "<tr>\n",
       "  <th>Method:</th>             <td>Least Squares</td>  <th>  F-statistic:       </th> <td>   828.8</td> \n",
       "</tr>\n",
       "<tr>\n",
       "  <th>Date:</th>             <td>Thu, 07 Apr 2022</td> <th>  Prob (F-statistic):</th> <td>1.72e-181</td>\n",
       "</tr>\n",
       "<tr>\n",
       "  <th>Time:</th>                 <td>17:17:19</td>     <th>  Log-Likelihood:    </th> <td> -49192.</td> \n",
       "</tr>\n",
       "<tr>\n",
       "  <th>No. Observations:</th>      <td> 98157</td>      <th>  AIC:               </th> <td>9.839e+04</td>\n",
       "</tr>\n",
       "<tr>\n",
       "  <th>Df Residuals:</th>          <td> 98155</td>      <th>  BIC:               </th> <td>9.841e+04</td>\n",
       "</tr>\n",
       "<tr>\n",
       "  <th>Df Model:</th>              <td>     1</td>      <th>                     </th>     <td> </td>    \n",
       "</tr>\n",
       "<tr>\n",
       "  <th>Covariance Type:</th>      <td>nonrobust</td>    <th>                     </th>     <td> </td>    \n",
       "</tr>\n",
       "</table>\n",
       "<table class=\"simpletable\">\n",
       "<tr>\n",
       "      <td></td>         <th>coef</th>     <th>std err</th>      <th>t</th>      <th>P>|t|</th>  <th>[0.025</th>    <th>0.975]</th>  \n",
       "</tr>\n",
       "<tr>\n",
       "  <th>Intercept</th> <td>    6.4331</td> <td>    0.002</td> <td> 2911.416</td> <td> 0.000</td> <td>    6.429</td> <td>    6.437</td>\n",
       "</tr>\n",
       "<tr>\n",
       "  <th>sex[T.m]</th>  <td>   -0.0779</td> <td>    0.003</td> <td>  -28.788</td> <td> 0.000</td> <td>   -0.083</td> <td>   -0.073</td>\n",
       "</tr>\n",
       "</table>\n",
       "<table class=\"simpletable\">\n",
       "<tr>\n",
       "  <th>Omnibus:</th>       <td>20430.922</td> <th>  Durbin-Watson:     </th> <td>   0.740</td> \n",
       "</tr>\n",
       "<tr>\n",
       "  <th>Prob(Omnibus):</th>  <td> 0.000</td>   <th>  Jarque-Bera (JB):  </th> <td>48886.796</td>\n",
       "</tr>\n",
       "<tr>\n",
       "  <th>Skew:</th>           <td>-1.167</td>   <th>  Prob(JB):          </th> <td>    0.00</td> \n",
       "</tr>\n",
       "<tr>\n",
       "  <th>Kurtosis:</th>       <td> 5.551</td>   <th>  Cond. No.          </th> <td>    3.23</td> \n",
       "</tr>\n",
       "</table><br/><br/>Notes:<br/>[1] Standard Errors assume that the covariance matrix of the errors is correctly specified."
      ],
      "text/plain": [
       "<class 'statsmodels.iolib.summary.Summary'>\n",
       "\"\"\"\n",
       "                            OLS Regression Results                            \n",
       "==============================================================================\n",
       "Dep. Variable:                    lrt   R-squared:                       0.008\n",
       "Model:                            OLS   Adj. R-squared:                  0.008\n",
       "Method:                 Least Squares   F-statistic:                     828.8\n",
       "Date:                Thu, 07 Apr 2022   Prob (F-statistic):          1.72e-181\n",
       "Time:                        17:17:19   Log-Likelihood:                -49192.\n",
       "No. Observations:               98157   AIC:                         9.839e+04\n",
       "Df Residuals:                   98155   BIC:                         9.841e+04\n",
       "Df Model:                           1                                         \n",
       "Covariance Type:            nonrobust                                         \n",
       "==============================================================================\n",
       "                 coef    std err          t      P>|t|      [0.025      0.975]\n",
       "------------------------------------------------------------------------------\n",
       "Intercept      6.4331      0.002   2911.416      0.000       6.429       6.437\n",
       "sex[T.m]      -0.0779      0.003    -28.788      0.000      -0.083      -0.073\n",
       "==============================================================================\n",
       "Omnibus:                    20430.922   Durbin-Watson:                   0.740\n",
       "Prob(Omnibus):                  0.000   Jarque-Bera (JB):            48886.796\n",
       "Skew:                          -1.167   Prob(JB):                         0.00\n",
       "Kurtosis:                       5.551   Cond. No.                         3.23\n",
       "==============================================================================\n",
       "\n",
       "Notes:\n",
       "[1] Standard Errors assume that the covariance matrix of the errors is correctly specified.\n",
       "\"\"\""
      ]
     },
     "execution_count": 47,
     "metadata": {},
     "output_type": "execute_result"
    }
   ],
   "source": [
    "model6 = ols('lrt ~ sex', data=clean_data).fit()\n",
    "model6.summary()"
   ]
  },
  {
   "cell_type": "code",
   "execution_count": 48,
   "metadata": {},
   "outputs": [
    {
     "name": "stdout",
     "output_type": "stream",
     "text": [
      "Optimization terminated successfully.\n",
      "         Current function value: 0.676132\n",
      "         Iterations 4\n"
     ]
    },
    {
     "data": {
      "text/html": [
       "<table class=\"simpletable\">\n",
       "<caption>Logit Regression Results</caption>\n",
       "<tr>\n",
       "  <th>Dep. Variable:</th>          <td>acc</td>       <th>  No. Observations:  </th>  <td> 98157</td>  \n",
       "</tr>\n",
       "<tr>\n",
       "  <th>Model:</th>                 <td>Logit</td>      <th>  Df Residuals:      </th>  <td> 98155</td>  \n",
       "</tr>\n",
       "<tr>\n",
       "  <th>Method:</th>                 <td>MLE</td>       <th>  Df Model:          </th>  <td>     1</td>  \n",
       "</tr>\n",
       "<tr>\n",
       "  <th>Date:</th>            <td>Thu, 07 Apr 2022</td> <th>  Pseudo R-squ.:     </th> <td>0.0005094</td>\n",
       "</tr>\n",
       "<tr>\n",
       "  <th>Time:</th>                <td>17:17:19</td>     <th>  Log-Likelihood:    </th> <td> -66367.</td> \n",
       "</tr>\n",
       "<tr>\n",
       "  <th>converged:</th>             <td>True</td>       <th>  LL-Null:           </th> <td> -66401.</td> \n",
       "</tr>\n",
       "<tr>\n",
       "  <th>Covariance Type:</th>     <td>nonrobust</td>    <th>  LLR p-value:       </th> <td>1.955e-16</td>\n",
       "</tr>\n",
       "</table>\n",
       "<table class=\"simpletable\">\n",
       "<tr>\n",
       "      <td></td>         <th>coef</th>     <th>std err</th>      <th>z</th>      <th>P>|z|</th>  <th>[0.025</th>    <th>0.975]</th>  \n",
       "</tr>\n",
       "<tr>\n",
       "  <th>Intercept</th> <td>    0.4443</td> <td>    0.011</td> <td>   39.188</td> <td> 0.000</td> <td>    0.422</td> <td>    0.467</td>\n",
       "</tr>\n",
       "<tr>\n",
       "  <th>sex[T.m]</th>  <td>   -0.1136</td> <td>    0.014</td> <td>   -8.213</td> <td> 0.000</td> <td>   -0.141</td> <td>   -0.086</td>\n",
       "</tr>\n",
       "</table>"
      ],
      "text/plain": [
       "<class 'statsmodels.iolib.summary.Summary'>\n",
       "\"\"\"\n",
       "                           Logit Regression Results                           \n",
       "==============================================================================\n",
       "Dep. Variable:                    acc   No. Observations:                98157\n",
       "Model:                          Logit   Df Residuals:                    98155\n",
       "Method:                           MLE   Df Model:                            1\n",
       "Date:                Thu, 07 Apr 2022   Pseudo R-squ.:               0.0005094\n",
       "Time:                        17:17:19   Log-Likelihood:                -66367.\n",
       "converged:                       True   LL-Null:                       -66401.\n",
       "Covariance Type:            nonrobust   LLR p-value:                 1.955e-16\n",
       "==============================================================================\n",
       "                 coef    std err          z      P>|z|      [0.025      0.975]\n",
       "------------------------------------------------------------------------------\n",
       "Intercept      0.4443      0.011     39.188      0.000       0.422       0.467\n",
       "sex[T.m]      -0.1136      0.014     -8.213      0.000      -0.141      -0.086\n",
       "==============================================================================\n",
       "\"\"\""
      ]
     },
     "execution_count": 48,
     "metadata": {},
     "output_type": "execute_result"
    }
   ],
   "source": [
    "model6 = smf.logit('acc ~ sex', data=clean_data).fit()\n",
    "model6.summary()"
   ]
  },
  {
   "cell_type": "code",
   "execution_count": 49,
   "metadata": {},
   "outputs": [
    {
     "data": {
      "image/png": "[encoded data removed]",
      "text/plain": [
       "<Figure size 2016x576 with 3 Axes>"
      ]
     },
     "metadata": {},
     "output_type": "display_data"
    }
   ],
   "source": [
    "sns.set()\n",
    "fig, axes = plt.subplots(1, 3, figsize=(28, 8))\n",
    "counter = 0\n",
    "dep_cols = ['acc', 'rt', 'lrt']\n",
    "indep_cols = [independent_vars[6]]\n",
    "subs = [0, 1, 2]\n",
    "for i in range(len(indep_cols)):\n",
    "    for j in range(len(dep_cols)):\n",
    "        ax = sns.barplot(ax = axes[subs[counter]], x=indep_cols[i], y=dep_cols[j], data=clean_data, order = ['l', 'r'],  estimator=np.mean, ci = 95)\n",
    "        counter +=1\n",
    "plt.show()"
   ]
  },
  {
   "cell_type": "code",
   "execution_count": 50,
   "metadata": {},
   "outputs": [
    {
     "data": {
      "text/html": [
       "<table class=\"simpletable\">\n",
       "<caption>OLS Regression Results</caption>\n",
       "<tr>\n",
       "  <th>Dep. Variable:</th>           <td>rt</td>        <th>  R-squared:         </th>  <td>   0.000</td>  \n",
       "</tr>\n",
       "<tr>\n",
       "  <th>Model:</th>                   <td>OLS</td>       <th>  Adj. R-squared:    </th>  <td>   0.000</td>  \n",
       "</tr>\n",
       "<tr>\n",
       "  <th>Method:</th>             <td>Least Squares</td>  <th>  F-statistic:       </th>  <td>   6.265</td>  \n",
       "</tr>\n",
       "<tr>\n",
       "  <th>Date:</th>             <td>Thu, 07 Apr 2022</td> <th>  Prob (F-statistic):</th>   <td>0.0123</td>   \n",
       "</tr>\n",
       "<tr>\n",
       "  <th>Time:</th>                 <td>17:17:27</td>     <th>  Log-Likelihood:    </th> <td>-6.6795e+05</td>\n",
       "</tr>\n",
       "<tr>\n",
       "  <th>No. Observations:</th>      <td> 98157</td>      <th>  AIC:               </th>  <td>1.336e+06</td> \n",
       "</tr>\n",
       "<tr>\n",
       "  <th>Df Residuals:</th>          <td> 98155</td>      <th>  BIC:               </th>  <td>1.336e+06</td> \n",
       "</tr>\n",
       "<tr>\n",
       "  <th>Df Model:</th>              <td>     1</td>      <th>                     </th>      <td> </td>     \n",
       "</tr>\n",
       "<tr>\n",
       "  <th>Covariance Type:</th>      <td>nonrobust</td>    <th>                     </th>      <td> </td>     \n",
       "</tr>\n",
       "</table>\n",
       "<table class=\"simpletable\">\n",
       "<tr>\n",
       "       <td></td>         <th>coef</th>     <th>std err</th>      <th>t</th>      <th>P>|t|</th>  <th>[0.025</th>    <th>0.975]</th>  \n",
       "</tr>\n",
       "<tr>\n",
       "  <th>Intercept</th>  <td>  637.9296</td> <td>    1.932</td> <td>  330.155</td> <td> 0.000</td> <td>  634.142</td> <td>  641.717</td>\n",
       "</tr>\n",
       "<tr>\n",
       "  <th>hndns[T.r]</th> <td>   -5.1854</td> <td>    2.072</td> <td>   -2.503</td> <td> 0.012</td> <td>   -9.246</td> <td>   -1.125</td>\n",
       "</tr>\n",
       "</table>\n",
       "<table class=\"simpletable\">\n",
       "<tr>\n",
       "  <th>Omnibus:</th>       <td>1209.549</td> <th>  Durbin-Watson:     </th> <td>   0.933</td> \n",
       "</tr>\n",
       "<tr>\n",
       "  <th>Prob(Omnibus):</th>  <td> 0.000</td>  <th>  Jarque-Bera (JB):  </th> <td>1256.583</td> \n",
       "</tr>\n",
       "<tr>\n",
       "  <th>Skew:</th>           <td> 0.271</td>  <th>  Prob(JB):          </th> <td>1.37e-273</td>\n",
       "</tr>\n",
       "<tr>\n",
       "  <th>Kurtosis:</th>       <td> 3.114</td>  <th>  Cond. No.          </th> <td>    5.37</td> \n",
       "</tr>\n",
       "</table><br/><br/>Notes:<br/>[1] Standard Errors assume that the covariance matrix of the errors is correctly specified."
      ],
      "text/plain": [
       "<class 'statsmodels.iolib.summary.Summary'>\n",
       "\"\"\"\n",
       "                            OLS Regression Results                            \n",
       "==============================================================================\n",
       "Dep. Variable:                     rt   R-squared:                       0.000\n",
       "Model:                            OLS   Adj. R-squared:                  0.000\n",
       "Method:                 Least Squares   F-statistic:                     6.265\n",
       "Date:                Thu, 07 Apr 2022   Prob (F-statistic):             0.0123\n",
       "Time:                        17:17:27   Log-Likelihood:            -6.6795e+05\n",
       "No. Observations:               98157   AIC:                         1.336e+06\n",
       "Df Residuals:                   98155   BIC:                         1.336e+06\n",
       "Df Model:                           1                                         \n",
       "Covariance Type:            nonrobust                                         \n",
       "==============================================================================\n",
       "                 coef    std err          t      P>|t|      [0.025      0.975]\n",
       "------------------------------------------------------------------------------\n",
       "Intercept    637.9296      1.932    330.155      0.000     634.142     641.717\n",
       "hndns[T.r]    -5.1854      2.072     -2.503      0.012      -9.246      -1.125\n",
       "==============================================================================\n",
       "Omnibus:                     1209.549   Durbin-Watson:                   0.933\n",
       "Prob(Omnibus):                  0.000   Jarque-Bera (JB):             1256.583\n",
       "Skew:                           0.271   Prob(JB):                    1.37e-273\n",
       "Kurtosis:                       3.114   Cond. No.                         5.37\n",
       "==============================================================================\n",
       "\n",
       "Notes:\n",
       "[1] Standard Errors assume that the covariance matrix of the errors is correctly specified.\n",
       "\"\"\""
      ]
     },
     "execution_count": 50,
     "metadata": {},
     "output_type": "execute_result"
    }
   ],
   "source": [
    "model7 = ols('rt ~ hndns', data=clean_data).fit()\n",
    "model7.summary()"
   ]
  },
  {
   "cell_type": "code",
   "execution_count": 51,
   "metadata": {},
   "outputs": [
    {
     "data": {
      "text/html": [
       "<table class=\"simpletable\">\n",
       "<caption>OLS Regression Results</caption>\n",
       "<tr>\n",
       "  <th>Dep. Variable:</th>           <td>lrt</td>       <th>  R-squared:         </th> <td>   0.001</td> \n",
       "</tr>\n",
       "<tr>\n",
       "  <th>Model:</th>                   <td>OLS</td>       <th>  Adj. R-squared:    </th> <td>   0.001</td> \n",
       "</tr>\n",
       "<tr>\n",
       "  <th>Method:</th>             <td>Least Squares</td>  <th>  F-statistic:       </th> <td>   105.1</td> \n",
       "</tr>\n",
       "<tr>\n",
       "  <th>Date:</th>             <td>Thu, 07 Apr 2022</td> <th>  Prob (F-statistic):</th> <td>1.21e-24</td> \n",
       "</tr>\n",
       "<tr>\n",
       "  <th>Time:</th>                 <td>17:17:28</td>     <th>  Log-Likelihood:    </th> <td> -49552.</td> \n",
       "</tr>\n",
       "<tr>\n",
       "  <th>No. Observations:</th>      <td> 98157</td>      <th>  AIC:               </th> <td>9.911e+04</td>\n",
       "</tr>\n",
       "<tr>\n",
       "  <th>Df Residuals:</th>          <td> 98155</td>      <th>  BIC:               </th> <td>9.913e+04</td>\n",
       "</tr>\n",
       "<tr>\n",
       "  <th>Df Model:</th>              <td>     1</td>      <th>                     </th>     <td> </td>    \n",
       "</tr>\n",
       "<tr>\n",
       "  <th>Covariance Type:</th>      <td>nonrobust</td>    <th>                     </th>     <td> </td>    \n",
       "</tr>\n",
       "</table>\n",
       "<table class=\"simpletable\">\n",
       "<tr>\n",
       "       <td></td>         <th>coef</th>     <th>std err</th>      <th>t</th>      <th>P>|t|</th>  <th>[0.025</th>    <th>0.975]</th>  \n",
       "</tr>\n",
       "<tr>\n",
       "  <th>Intercept</th>  <td>    6.4150</td> <td>    0.004</td> <td> 1808.151</td> <td> 0.000</td> <td>    6.408</td> <td>    6.422</td>\n",
       "</tr>\n",
       "<tr>\n",
       "  <th>hndns[T.r]</th> <td>   -0.0390</td> <td>    0.004</td> <td>  -10.251</td> <td> 0.000</td> <td>   -0.046</td> <td>   -0.032</td>\n",
       "</tr>\n",
       "</table>\n",
       "<table class=\"simpletable\">\n",
       "<tr>\n",
       "  <th>Omnibus:</th>       <td>20741.358</td> <th>  Durbin-Watson:     </th> <td>   0.734</td> \n",
       "</tr>\n",
       "<tr>\n",
       "  <th>Prob(Omnibus):</th>  <td> 0.000</td>   <th>  Jarque-Bera (JB):  </th> <td>50009.222</td>\n",
       "</tr>\n",
       "<tr>\n",
       "  <th>Skew:</th>           <td>-1.180</td>   <th>  Prob(JB):          </th> <td>    0.00</td> \n",
       "</tr>\n",
       "<tr>\n",
       "  <th>Kurtosis:</th>       <td> 5.580</td>   <th>  Cond. No.          </th> <td>    5.37</td> \n",
       "</tr>\n",
       "</table><br/><br/>Notes:<br/>[1] Standard Errors assume that the covariance matrix of the errors is correctly specified."
      ],
      "text/plain": [
       "<class 'statsmodels.iolib.summary.Summary'>\n",
       "\"\"\"\n",
       "                            OLS Regression Results                            \n",
       "==============================================================================\n",
       "Dep. Variable:                    lrt   R-squared:                       0.001\n",
       "Model:                            OLS   Adj. R-squared:                  0.001\n",
       "Method:                 Least Squares   F-statistic:                     105.1\n",
       "Date:                Thu, 07 Apr 2022   Prob (F-statistic):           1.21e-24\n",
       "Time:                        17:17:28   Log-Likelihood:                -49552.\n",
       "No. Observations:               98157   AIC:                         9.911e+04\n",
       "Df Residuals:                   98155   BIC:                         9.913e+04\n",
       "Df Model:                           1                                         \n",
       "Covariance Type:            nonrobust                                         \n",
       "==============================================================================\n",
       "                 coef    std err          t      P>|t|      [0.025      0.975]\n",
       "------------------------------------------------------------------------------\n",
       "Intercept      6.4150      0.004   1808.151      0.000       6.408       6.422\n",
       "hndns[T.r]    -0.0390      0.004    -10.251      0.000      -0.046      -0.032\n",
       "==============================================================================\n",
       "Omnibus:                    20741.358   Durbin-Watson:                   0.734\n",
       "Prob(Omnibus):                  0.000   Jarque-Bera (JB):            50009.222\n",
       "Skew:                          -1.180   Prob(JB):                         0.00\n",
       "Kurtosis:                       5.580   Cond. No.                         5.37\n",
       "==============================================================================\n",
       "\n",
       "Notes:\n",
       "[1] Standard Errors assume that the covariance matrix of the errors is correctly specified.\n",
       "\"\"\""
      ]
     },
     "execution_count": 51,
     "metadata": {},
     "output_type": "execute_result"
    }
   ],
   "source": [
    "model7 = ols('lrt ~ hndns', data=clean_data).fit()\n",
    "model7.summary()"
   ]
  },
  {
   "cell_type": "code",
   "execution_count": 52,
   "metadata": {},
   "outputs": [
    {
     "name": "stdout",
     "output_type": "stream",
     "text": [
      "Optimization terminated successfully.\n",
      "         Current function value: 0.676385\n",
      "         Iterations 4\n"
     ]
    },
    {
     "data": {
      "text/html": [
       "<table class=\"simpletable\">\n",
       "<caption>Logit Regression Results</caption>\n",
       "<tr>\n",
       "  <th>Dep. Variable:</th>          <td>acc</td>       <th>  No. Observations:  </th>  <td> 98157</td>  \n",
       "</tr>\n",
       "<tr>\n",
       "  <th>Model:</th>                 <td>Logit</td>      <th>  Df Residuals:      </th>  <td> 98155</td>  \n",
       "</tr>\n",
       "<tr>\n",
       "  <th>Method:</th>                 <td>MLE</td>       <th>  Df Model:          </th>  <td>     1</td>  \n",
       "</tr>\n",
       "<tr>\n",
       "  <th>Date:</th>            <td>Thu, 07 Apr 2022</td> <th>  Pseudo R-squ.:     </th> <td>0.0001351</td>\n",
       "</tr>\n",
       "<tr>\n",
       "  <th>Time:</th>                <td>17:17:29</td>     <th>  Log-Likelihood:    </th> <td> -66392.</td> \n",
       "</tr>\n",
       "<tr>\n",
       "  <th>converged:</th>             <td>True</td>       <th>  LL-Null:           </th> <td> -66401.</td> \n",
       "</tr>\n",
       "<tr>\n",
       "  <th>Covariance Type:</th>     <td>nonrobust</td>    <th>  LLR p-value:       </th> <td>2.278e-05</td>\n",
       "</tr>\n",
       "</table>\n",
       "<table class=\"simpletable\">\n",
       "<tr>\n",
       "       <td></td>         <th>coef</th>     <th>std err</th>      <th>z</th>      <th>P>|z|</th>  <th>[0.025</th>    <th>0.975]</th>  \n",
       "</tr>\n",
       "<tr>\n",
       "  <th>Intercept</th>  <td>    0.2975</td> <td>    0.018</td> <td>   16.621</td> <td> 0.000</td> <td>    0.262</td> <td>    0.333</td>\n",
       "</tr>\n",
       "<tr>\n",
       "  <th>hndns[T.r]</th> <td>    0.0815</td> <td>    0.019</td> <td>    4.242</td> <td> 0.000</td> <td>    0.044</td> <td>    0.119</td>\n",
       "</tr>\n",
       "</table>"
      ],
      "text/plain": [
       "<class 'statsmodels.iolib.summary.Summary'>\n",
       "\"\"\"\n",
       "                           Logit Regression Results                           \n",
       "==============================================================================\n",
       "Dep. Variable:                    acc   No. Observations:                98157\n",
       "Model:                          Logit   Df Residuals:                    98155\n",
       "Method:                           MLE   Df Model:                            1\n",
       "Date:                Thu, 07 Apr 2022   Pseudo R-squ.:               0.0001351\n",
       "Time:                        17:17:29   Log-Likelihood:                -66392.\n",
       "converged:                       True   LL-Null:                       -66401.\n",
       "Covariance Type:            nonrobust   LLR p-value:                 2.278e-05\n",
       "==============================================================================\n",
       "                 coef    std err          z      P>|z|      [0.025      0.975]\n",
       "------------------------------------------------------------------------------\n",
       "Intercept      0.2975      0.018     16.621      0.000       0.262       0.333\n",
       "hndns[T.r]     0.0815      0.019      4.242      0.000       0.044       0.119\n",
       "==============================================================================\n",
       "\"\"\""
      ]
     },
     "execution_count": 52,
     "metadata": {},
     "output_type": "execute_result"
    }
   ],
   "source": [
    "model7 = smf.logit('acc ~ hndns', data=clean_data).fit()\n",
    "model7.summary()"
   ]
  },
  {
   "cell_type": "code",
   "execution_count": 53,
   "metadata": {},
   "outputs": [
    {
     "data": {
      "image/png": "[encoded data removed]",
      "text/plain": [
       "<Figure size 2016x576 with 3 Axes>"
      ]
     },
     "metadata": {},
     "output_type": "display_data"
    }
   ],
   "source": [
    "sns.set()\n",
    "fig, axes = plt.subplots(1, 3, figsize=(28, 8))\n",
    "counter = 0\n",
    "dep_cols = ['acc', 'rt', 'lrt']\n",
    "indep_cols = [independent_vars[7]]\n",
    "subs = [0, 1, 2]\n",
    "for i in range(len(indep_cols)):\n",
    "    for j in range(len(dep_cols)):\n",
    "        ax = sns.barplot(ax = axes[subs[counter]], x=indep_cols[i], y=dep_cols[j], data=clean_data, order = ['l', 'r'], estimator=np.mean, ci = 95)\n",
    "        counter +=1\n",
    "plt.show()"
   ]
  },
  {
   "cell_type": "code",
   "execution_count": 54,
   "metadata": {},
   "outputs": [
    {
     "data": {
      "text/html": [
       "<table class=\"simpletable\">\n",
       "<caption>OLS Regression Results</caption>\n",
       "<tr>\n",
       "  <th>Dep. Variable:</th>           <td>rt</td>        <th>  R-squared:         </th>  <td>   0.001</td>  \n",
       "</tr>\n",
       "<tr>\n",
       "  <th>Model:</th>                   <td>OLS</td>       <th>  Adj. R-squared:    </th>  <td>   0.001</td>  \n",
       "</tr>\n",
       "<tr>\n",
       "  <th>Method:</th>             <td>Least Squares</td>  <th>  F-statistic:       </th>  <td>   111.8</td>  \n",
       "</tr>\n",
       "<tr>\n",
       "  <th>Date:</th>             <td>Thu, 07 Apr 2022</td> <th>  Prob (F-statistic):</th>  <td>4.01e-26</td>  \n",
       "</tr>\n",
       "<tr>\n",
       "  <th>Time:</th>                 <td>17:17:36</td>     <th>  Log-Likelihood:    </th> <td>-6.6790e+05</td>\n",
       "</tr>\n",
       "<tr>\n",
       "  <th>No. Observations:</th>      <td> 98157</td>      <th>  AIC:               </th>  <td>1.336e+06</td> \n",
       "</tr>\n",
       "<tr>\n",
       "  <th>Df Residuals:</th>          <td> 98155</td>      <th>  BIC:               </th>  <td>1.336e+06</td> \n",
       "</tr>\n",
       "<tr>\n",
       "  <th>Df Model:</th>              <td>     1</td>      <th>                     </th>      <td> </td>     \n",
       "</tr>\n",
       "<tr>\n",
       "  <th>Covariance Type:</th>      <td>nonrobust</td>    <th>                     </th>      <td> </td>     \n",
       "</tr>\n",
       "</table>\n",
       "<table class=\"simpletable\">\n",
       "<tr>\n",
       "      <td></td>         <th>coef</th>     <th>std err</th>      <th>t</th>      <th>P>|t|</th>  <th>[0.025</th>    <th>0.975]</th>  \n",
       "</tr>\n",
       "<tr>\n",
       "  <th>Intercept</th> <td>  624.3436</td> <td>    1.105</td> <td>  564.910</td> <td> 0.000</td> <td>  622.177</td> <td>  626.510</td>\n",
       "</tr>\n",
       "<tr>\n",
       "  <th>eye[T.r]</th>  <td>   15.0527</td> <td>    1.423</td> <td>   10.575</td> <td> 0.000</td> <td>   12.263</td> <td>   17.843</td>\n",
       "</tr>\n",
       "</table>\n",
       "<table class=\"simpletable\">\n",
       "<tr>\n",
       "  <th>Omnibus:</th>       <td>1198.355</td> <th>  Durbin-Watson:     </th> <td>   0.934</td> \n",
       "</tr>\n",
       "<tr>\n",
       "  <th>Prob(Omnibus):</th>  <td> 0.000</td>  <th>  Jarque-Bera (JB):  </th> <td>1246.517</td> \n",
       "</tr>\n",
       "<tr>\n",
       "  <th>Skew:</th>           <td> 0.268</td>  <th>  Prob(JB):          </th> <td>2.10e-271</td>\n",
       "</tr>\n",
       "<tr>\n",
       "  <th>Kurtosis:</th>       <td> 3.133</td>  <th>  Cond. No.          </th> <td>    2.94</td> \n",
       "</tr>\n",
       "</table><br/><br/>Notes:<br/>[1] Standard Errors assume that the covariance matrix of the errors is correctly specified."
      ],
      "text/plain": [
       "<class 'statsmodels.iolib.summary.Summary'>\n",
       "\"\"\"\n",
       "                            OLS Regression Results                            \n",
       "==============================================================================\n",
       "Dep. Variable:                     rt   R-squared:                       0.001\n",
       "Model:                            OLS   Adj. R-squared:                  0.001\n",
       "Method:                 Least Squares   F-statistic:                     111.8\n",
       "Date:                Thu, 07 Apr 2022   Prob (F-statistic):           4.01e-26\n",
       "Time:                        17:17:36   Log-Likelihood:            -6.6790e+05\n",
       "No. Observations:               98157   AIC:                         1.336e+06\n",
       "Df Residuals:                   98155   BIC:                         1.336e+06\n",
       "Df Model:                           1                                         \n",
       "Covariance Type:            nonrobust                                         \n",
       "==============================================================================\n",
       "                 coef    std err          t      P>|t|      [0.025      0.975]\n",
       "------------------------------------------------------------------------------\n",
       "Intercept    624.3436      1.105    564.910      0.000     622.177     626.510\n",
       "eye[T.r]      15.0527      1.423     10.575      0.000      12.263      17.843\n",
       "==============================================================================\n",
       "Omnibus:                     1198.355   Durbin-Watson:                   0.934\n",
       "Prob(Omnibus):                  0.000   Jarque-Bera (JB):             1246.517\n",
       "Skew:                           0.268   Prob(JB):                    2.10e-271\n",
       "Kurtosis:                       3.133   Cond. No.                         2.94\n",
       "==============================================================================\n",
       "\n",
       "Notes:\n",
       "[1] Standard Errors assume that the covariance matrix of the errors is correctly specified.\n",
       "\"\"\""
      ]
     },
     "execution_count": 54,
     "metadata": {},
     "output_type": "execute_result"
    }
   ],
   "source": [
    "model8 = ols('rt ~ eye', data=clean_data).fit()\n",
    "model8.summary()"
   ]
  },
  {
   "cell_type": "code",
   "execution_count": 55,
   "metadata": {},
   "outputs": [
    {
     "data": {
      "text/html": [
       "<table class=\"simpletable\">\n",
       "<caption>OLS Regression Results</caption>\n",
       "<tr>\n",
       "  <th>Dep. Variable:</th>           <td>lrt</td>       <th>  R-squared:         </th> <td>   0.000</td> \n",
       "</tr>\n",
       "<tr>\n",
       "  <th>Model:</th>                   <td>OLS</td>       <th>  Adj. R-squared:    </th> <td>   0.000</td> \n",
       "</tr>\n",
       "<tr>\n",
       "  <th>Method:</th>             <td>Least Squares</td>  <th>  F-statistic:       </th> <td>   40.84</td> \n",
       "</tr>\n",
       "<tr>\n",
       "  <th>Date:</th>             <td>Thu, 07 Apr 2022</td> <th>  Prob (F-statistic):</th> <td>1.66e-10</td> \n",
       "</tr>\n",
       "<tr>\n",
       "  <th>Time:</th>                 <td>17:17:37</td>     <th>  Log-Likelihood:    </th> <td> -49584.</td> \n",
       "</tr>\n",
       "<tr>\n",
       "  <th>No. Observations:</th>      <td> 98157</td>      <th>  AIC:               </th> <td>9.917e+04</td>\n",
       "</tr>\n",
       "<tr>\n",
       "  <th>Df Residuals:</th>          <td> 98155</td>      <th>  BIC:               </th> <td>9.919e+04</td>\n",
       "</tr>\n",
       "<tr>\n",
       "  <th>Df Model:</th>              <td>     1</td>      <th>                     </th>     <td> </td>    \n",
       "</tr>\n",
       "<tr>\n",
       "  <th>Covariance Type:</th>      <td>nonrobust</td>    <th>                     </th>     <td> </td>    \n",
       "</tr>\n",
       "</table>\n",
       "<table class=\"simpletable\">\n",
       "<tr>\n",
       "      <td></td>         <th>coef</th>     <th>std err</th>      <th>t</th>      <th>P>|t|</th>  <th>[0.025</th>    <th>0.975]</th>  \n",
       "</tr>\n",
       "<tr>\n",
       "  <th>Intercept</th> <td>    6.3710</td> <td>    0.002</td> <td> 3136.754</td> <td> 0.000</td> <td>    6.367</td> <td>    6.375</td>\n",
       "</tr>\n",
       "<tr>\n",
       "  <th>eye[T.r]</th>  <td>    0.0167</td> <td>    0.003</td> <td>    6.390</td> <td> 0.000</td> <td>    0.012</td> <td>    0.022</td>\n",
       "</tr>\n",
       "</table>\n",
       "<table class=\"simpletable\">\n",
       "<tr>\n",
       "  <th>Omnibus:</th>       <td>21325.571</td> <th>  Durbin-Watson:     </th> <td>   0.734</td> \n",
       "</tr>\n",
       "<tr>\n",
       "  <th>Prob(Omnibus):</th>  <td> 0.000</td>   <th>  Jarque-Bera (JB):  </th> <td>52726.875</td>\n",
       "</tr>\n",
       "<tr>\n",
       "  <th>Skew:</th>           <td>-1.202</td>   <th>  Prob(JB):          </th> <td>    0.00</td> \n",
       "</tr>\n",
       "<tr>\n",
       "  <th>Kurtosis:</th>       <td> 5.667</td>   <th>  Cond. No.          </th> <td>    2.94</td> \n",
       "</tr>\n",
       "</table><br/><br/>Notes:<br/>[1] Standard Errors assume that the covariance matrix of the errors is correctly specified."
      ],
      "text/plain": [
       "<class 'statsmodels.iolib.summary.Summary'>\n",
       "\"\"\"\n",
       "                            OLS Regression Results                            \n",
       "==============================================================================\n",
       "Dep. Variable:                    lrt   R-squared:                       0.000\n",
       "Model:                            OLS   Adj. R-squared:                  0.000\n",
       "Method:                 Least Squares   F-statistic:                     40.84\n",
       "Date:                Thu, 07 Apr 2022   Prob (F-statistic):           1.66e-10\n",
       "Time:                        17:17:37   Log-Likelihood:                -49584.\n",
       "No. Observations:               98157   AIC:                         9.917e+04\n",
       "Df Residuals:                   98155   BIC:                         9.919e+04\n",
       "Df Model:                           1                                         \n",
       "Covariance Type:            nonrobust                                         \n",
       "==============================================================================\n",
       "                 coef    std err          t      P>|t|      [0.025      0.975]\n",
       "------------------------------------------------------------------------------\n",
       "Intercept      6.3710      0.002   3136.754      0.000       6.367       6.375\n",
       "eye[T.r]       0.0167      0.003      6.390      0.000       0.012       0.022\n",
       "==============================================================================\n",
       "Omnibus:                    21325.571   Durbin-Watson:                   0.734\n",
       "Prob(Omnibus):                  0.000   Jarque-Bera (JB):            52726.875\n",
       "Skew:                          -1.202   Prob(JB):                         0.00\n",
       "Kurtosis:                       5.667   Cond. No.                         2.94\n",
       "==============================================================================\n",
       "\n",
       "Notes:\n",
       "[1] Standard Errors assume that the covariance matrix of the errors is correctly specified.\n",
       "\"\"\""
      ]
     },
     "execution_count": 55,
     "metadata": {},
     "output_type": "execute_result"
    }
   ],
   "source": [
    "model8 = ols('lrt ~ eye', data=clean_data).fit()\n",
    "model8.summary()"
   ]
  },
  {
   "cell_type": "code",
   "execution_count": 56,
   "metadata": {},
   "outputs": [
    {
     "name": "stdout",
     "output_type": "stream",
     "text": [
      "Optimization terminated successfully.\n",
      "         Current function value: 0.675777\n",
      "         Iterations 4\n"
     ]
    },
    {
     "data": {
      "text/html": [
       "<table class=\"simpletable\">\n",
       "<caption>Logit Regression Results</caption>\n",
       "<tr>\n",
       "  <th>Dep. Variable:</th>          <td>acc</td>       <th>  No. Observations:  </th>  <td> 98157</td>  \n",
       "</tr>\n",
       "<tr>\n",
       "  <th>Model:</th>                 <td>Logit</td>      <th>  Df Residuals:      </th>  <td> 98155</td>  \n",
       "</tr>\n",
       "<tr>\n",
       "  <th>Method:</th>                 <td>MLE</td>       <th>  Df Model:          </th>  <td>     1</td>  \n",
       "</tr>\n",
       "<tr>\n",
       "  <th>Date:</th>            <td>Thu, 07 Apr 2022</td> <th>  Pseudo R-squ.:     </th> <td>0.001034</td> \n",
       "</tr>\n",
       "<tr>\n",
       "  <th>Time:</th>                <td>17:17:38</td>     <th>  Log-Likelihood:    </th> <td> -66332.</td> \n",
       "</tr>\n",
       "<tr>\n",
       "  <th>converged:</th>             <td>True</td>       <th>  LL-Null:           </th> <td> -66401.</td> \n",
       "</tr>\n",
       "<tr>\n",
       "  <th>Covariance Type:</th>     <td>nonrobust</td>    <th>  LLR p-value:       </th> <td>1.035e-31</td>\n",
       "</tr>\n",
       "</table>\n",
       "<table class=\"simpletable\">\n",
       "<tr>\n",
       "      <td></td>         <th>coef</th>     <th>std err</th>      <th>z</th>      <th>P>|z|</th>  <th>[0.025</th>    <th>0.975]</th>  \n",
       "</tr>\n",
       "<tr>\n",
       "  <th>Intercept</th> <td>    0.2752</td> <td>    0.010</td> <td>   26.911</td> <td> 0.000</td> <td>    0.255</td> <td>    0.295</td>\n",
       "</tr>\n",
       "<tr>\n",
       "  <th>eye[T.r]</th>  <td>    0.1552</td> <td>    0.013</td> <td>   11.724</td> <td> 0.000</td> <td>    0.129</td> <td>    0.181</td>\n",
       "</tr>\n",
       "</table>"
      ],
      "text/plain": [
       "<class 'statsmodels.iolib.summary.Summary'>\n",
       "\"\"\"\n",
       "                           Logit Regression Results                           \n",
       "==============================================================================\n",
       "Dep. Variable:                    acc   No. Observations:                98157\n",
       "Model:                          Logit   Df Residuals:                    98155\n",
       "Method:                           MLE   Df Model:                            1\n",
       "Date:                Thu, 07 Apr 2022   Pseudo R-squ.:                0.001034\n",
       "Time:                        17:17:38   Log-Likelihood:                -66332.\n",
       "converged:                       True   LL-Null:                       -66401.\n",
       "Covariance Type:            nonrobust   LLR p-value:                 1.035e-31\n",
       "==============================================================================\n",
       "                 coef    std err          z      P>|z|      [0.025      0.975]\n",
       "------------------------------------------------------------------------------\n",
       "Intercept      0.2752      0.010     26.911      0.000       0.255       0.295\n",
       "eye[T.r]       0.1552      0.013     11.724      0.000       0.129       0.181\n",
       "==============================================================================\n",
       "\"\"\""
      ]
     },
     "execution_count": 56,
     "metadata": {},
     "output_type": "execute_result"
    }
   ],
   "source": [
    "model8 = smf.logit('acc ~ eye', data=clean_data).fit()\n",
    "model8.summary()"
   ]
  },
  {
   "cell_type": "markdown",
   "metadata": {},
   "source": [
    "# 3. Prediction of Behavioral Characteristics"
   ]
  },
  {
   "cell_type": "code",
   "execution_count": 57,
   "metadata": {},
   "outputs": [
    {
     "data": {
      "text/html": [
       "<div>\n",
       "<style scoped>\n",
       "    .dataframe tbody tr th:only-of-type {\n",
       "        vertical-align: middle;\n",
       "    }\n",
       "\n",
       "    .dataframe tbody tr th {\n",
       "        vertical-align: top;\n",
       "    }\n",
       "\n",
       "    .dataframe thead th {\n",
       "        text-align: right;\n",
       "    }\n",
       "</style>\n",
       "<table border=\"1\" class=\"dataframe\">\n",
       "  <thead>\n",
       "    <tr style=\"text-align: right;\">\n",
       "      <th></th>\n",
       "      <th>sbj</th>\n",
       "      <th>stm</th>\n",
       "      <th>rt</th>\n",
       "      <th>key</th>\n",
       "      <th>pos</th>\n",
       "      <th>uhnd</th>\n",
       "      <th>hndns</th>\n",
       "      <th>eye</th>\n",
       "      <th>sex</th>\n",
       "      <th>age</th>\n",
       "      <th>edu</th>\n",
       "      <th>lrt</th>\n",
       "      <th>acc</th>\n",
       "      <th>ecc</th>\n",
       "      <th>vf</th>\n",
       "      <th>udhnd</th>\n",
       "    </tr>\n",
       "  </thead>\n",
       "  <tbody>\n",
       "    <tr>\n",
       "      <th>0</th>\n",
       "      <td>8101004202</td>\n",
       "      <td>50.bmp</td>\n",
       "      <td>925.6644</td>\n",
       "      <td>o</td>\n",
       "      <td>10.0</td>\n",
       "      <td>r</td>\n",
       "      <td>r</td>\n",
       "      <td>r</td>\n",
       "      <td>m</td>\n",
       "      <td>22.0</td>\n",
       "      <td>2.0</td>\n",
       "      <td>6.830512</td>\n",
       "      <td>1</td>\n",
       "      <td>2</td>\n",
       "      <td>3</td>\n",
       "      <td>1</td>\n",
       "    </tr>\n",
       "    <tr>\n",
       "      <th>1</th>\n",
       "      <td>8101004202</td>\n",
       "      <td>70.bmp</td>\n",
       "      <td>1163.9952</td>\n",
       "      <td>o</td>\n",
       "      <td>6.0</td>\n",
       "      <td>r</td>\n",
       "      <td>r</td>\n",
       "      <td>r</td>\n",
       "      <td>m</td>\n",
       "      <td>22.0</td>\n",
       "      <td>2.0</td>\n",
       "      <td>7.059614</td>\n",
       "      <td>1</td>\n",
       "      <td>1</td>\n",
       "      <td>4</td>\n",
       "      <td>1</td>\n",
       "    </tr>\n",
       "    <tr>\n",
       "      <th>2</th>\n",
       "      <td>8101004202</td>\n",
       "      <td>50.bmp</td>\n",
       "      <td>1023.1118</td>\n",
       "      <td>o</td>\n",
       "      <td>9.0</td>\n",
       "      <td>r</td>\n",
       "      <td>r</td>\n",
       "      <td>r</td>\n",
       "      <td>m</td>\n",
       "      <td>22.0</td>\n",
       "      <td>2.0</td>\n",
       "      <td>6.930604</td>\n",
       "      <td>1</td>\n",
       "      <td>2</td>\n",
       "      <td>2</td>\n",
       "      <td>1</td>\n",
       "    </tr>\n",
       "    <tr>\n",
       "      <th>3</th>\n",
       "      <td>8101004202</td>\n",
       "      <td>80.bmp</td>\n",
       "      <td>970.4250</td>\n",
       "      <td>o</td>\n",
       "      <td>10.0</td>\n",
       "      <td>r</td>\n",
       "      <td>r</td>\n",
       "      <td>r</td>\n",
       "      <td>m</td>\n",
       "      <td>22.0</td>\n",
       "      <td>2.0</td>\n",
       "      <td>6.877734</td>\n",
       "      <td>1</td>\n",
       "      <td>2</td>\n",
       "      <td>3</td>\n",
       "      <td>1</td>\n",
       "    </tr>\n",
       "    <tr>\n",
       "      <th>4</th>\n",
       "      <td>8101004202</td>\n",
       "      <td>60.bmp</td>\n",
       "      <td>1175.1443</td>\n",
       "      <td>p</td>\n",
       "      <td>13.0</td>\n",
       "      <td>r</td>\n",
       "      <td>r</td>\n",
       "      <td>r</td>\n",
       "      <td>m</td>\n",
       "      <td>22.0</td>\n",
       "      <td>2.0</td>\n",
       "      <td>7.069146</td>\n",
       "      <td>0</td>\n",
       "      <td>2</td>\n",
       "      <td>1</td>\n",
       "      <td>1</td>\n",
       "    </tr>\n",
       "  </tbody>\n",
       "</table>\n",
       "</div>"
      ],
      "text/plain": [
       "          sbj     stm         rt key   pos uhnd hndns eye sex   age  edu  \\\n",
       "0  8101004202  50.bmp   925.6644   o  10.0    r     r   r   m  22.0  2.0   \n",
       "1  8101004202  70.bmp  1163.9952   o   6.0    r     r   r   m  22.0  2.0   \n",
       "2  8101004202  50.bmp  1023.1118   o   9.0    r     r   r   m  22.0  2.0   \n",
       "3  8101004202  80.bmp   970.4250   o  10.0    r     r   r   m  22.0  2.0   \n",
       "4  8101004202  60.bmp  1175.1443   p  13.0    r     r   r   m  22.0  2.0   \n",
       "\n",
       "        lrt  acc  ecc  vf  udhnd  \n",
       "0  6.830512    1    2   3      1  \n",
       "1  7.059614    1    1   4      1  \n",
       "2  6.930604    1    2   2      1  \n",
       "3  6.877734    1    2   3      1  \n",
       "4  7.069146    0    2   1      1  "
      ]
     },
     "execution_count": 57,
     "metadata": {},
     "output_type": "execute_result"
    }
   ],
   "source": [
    "clean_data.head()"
   ]
  },
  {
   "cell_type": "code",
   "execution_count": 58,
   "metadata": {},
   "outputs": [
    {
     "data": {
      "text/html": [
       "<div>\n",
       "<style scoped>\n",
       "    .dataframe tbody tr th:only-of-type {\n",
       "        vertical-align: middle;\n",
       "    }\n",
       "\n",
       "    .dataframe tbody tr th {\n",
       "        vertical-align: top;\n",
       "    }\n",
       "\n",
       "    .dataframe thead th {\n",
       "        text-align: right;\n",
       "    }\n",
       "</style>\n",
       "<table border=\"1\" class=\"dataframe\">\n",
       "  <thead>\n",
       "    <tr style=\"text-align: right;\">\n",
       "      <th></th>\n",
       "      <th>sbj</th>\n",
       "      <th>stm</th>\n",
       "      <th>rt</th>\n",
       "      <th>key</th>\n",
       "      <th>pos</th>\n",
       "      <th>uhnd</th>\n",
       "      <th>hndns</th>\n",
       "      <th>eye</th>\n",
       "      <th>sex</th>\n",
       "      <th>age</th>\n",
       "      <th>edu</th>\n",
       "      <th>lrt</th>\n",
       "      <th>acc</th>\n",
       "      <th>ecc</th>\n",
       "      <th>vf</th>\n",
       "      <th>udhnd</th>\n",
       "    </tr>\n",
       "  </thead>\n",
       "  <tbody>\n",
       "    <tr>\n",
       "      <th>0</th>\n",
       "      <td>8101004202</td>\n",
       "      <td>50.bmp</td>\n",
       "      <td>925.6644</td>\n",
       "      <td>o</td>\n",
       "      <td>10.0</td>\n",
       "      <td>0</td>\n",
       "      <td>0</td>\n",
       "      <td>0</td>\n",
       "      <td>0</td>\n",
       "      <td>22.0</td>\n",
       "      <td>2.0</td>\n",
       "      <td>6.830512</td>\n",
       "      <td>1</td>\n",
       "      <td>2</td>\n",
       "      <td>3</td>\n",
       "      <td>1</td>\n",
       "    </tr>\n",
       "    <tr>\n",
       "      <th>1</th>\n",
       "      <td>8101004202</td>\n",
       "      <td>70.bmp</td>\n",
       "      <td>1163.9952</td>\n",
       "      <td>o</td>\n",
       "      <td>6.0</td>\n",
       "      <td>0</td>\n",
       "      <td>0</td>\n",
       "      <td>0</td>\n",
       "      <td>0</td>\n",
       "      <td>22.0</td>\n",
       "      <td>2.0</td>\n",
       "      <td>7.059614</td>\n",
       "      <td>1</td>\n",
       "      <td>1</td>\n",
       "      <td>4</td>\n",
       "      <td>1</td>\n",
       "    </tr>\n",
       "    <tr>\n",
       "      <th>2</th>\n",
       "      <td>8101004202</td>\n",
       "      <td>50.bmp</td>\n",
       "      <td>1023.1118</td>\n",
       "      <td>o</td>\n",
       "      <td>9.0</td>\n",
       "      <td>0</td>\n",
       "      <td>0</td>\n",
       "      <td>0</td>\n",
       "      <td>0</td>\n",
       "      <td>22.0</td>\n",
       "      <td>2.0</td>\n",
       "      <td>6.930604</td>\n",
       "      <td>1</td>\n",
       "      <td>2</td>\n",
       "      <td>2</td>\n",
       "      <td>1</td>\n",
       "    </tr>\n",
       "    <tr>\n",
       "      <th>3</th>\n",
       "      <td>8101004202</td>\n",
       "      <td>80.bmp</td>\n",
       "      <td>970.4250</td>\n",
       "      <td>o</td>\n",
       "      <td>10.0</td>\n",
       "      <td>0</td>\n",
       "      <td>0</td>\n",
       "      <td>0</td>\n",
       "      <td>0</td>\n",
       "      <td>22.0</td>\n",
       "      <td>2.0</td>\n",
       "      <td>6.877734</td>\n",
       "      <td>1</td>\n",
       "      <td>2</td>\n",
       "      <td>3</td>\n",
       "      <td>1</td>\n",
       "    </tr>\n",
       "    <tr>\n",
       "      <th>4</th>\n",
       "      <td>8101004202</td>\n",
       "      <td>60.bmp</td>\n",
       "      <td>1175.1443</td>\n",
       "      <td>p</td>\n",
       "      <td>13.0</td>\n",
       "      <td>0</td>\n",
       "      <td>0</td>\n",
       "      <td>0</td>\n",
       "      <td>0</td>\n",
       "      <td>22.0</td>\n",
       "      <td>2.0</td>\n",
       "      <td>7.069146</td>\n",
       "      <td>0</td>\n",
       "      <td>2</td>\n",
       "      <td>1</td>\n",
       "      <td>1</td>\n",
       "    </tr>\n",
       "  </tbody>\n",
       "</table>\n",
       "</div>"
      ],
      "text/plain": [
       "          sbj     stm         rt key   pos  uhnd  hndns  eye  sex   age  edu  \\\n",
       "0  8101004202  50.bmp   925.6644   o  10.0     0      0    0    0  22.0  2.0   \n",
       "1  8101004202  70.bmp  1163.9952   o   6.0     0      0    0    0  22.0  2.0   \n",
       "2  8101004202  50.bmp  1023.1118   o   9.0     0      0    0    0  22.0  2.0   \n",
       "3  8101004202  80.bmp   970.4250   o  10.0     0      0    0    0  22.0  2.0   \n",
       "4  8101004202  60.bmp  1175.1443   p  13.0     0      0    0    0  22.0  2.0   \n",
       "\n",
       "        lrt  acc  ecc  vf  udhnd  \n",
       "0  6.830512    1    2   3      1  \n",
       "1  7.059614    1    1   4      1  \n",
       "2  6.930604    1    2   2      1  \n",
       "3  6.877734    1    2   3      1  \n",
       "4  7.069146    0    2   1      1  "
      ]
     },
     "execution_count": 58,
     "metadata": {},
     "output_type": "execute_result"
    }
   ],
   "source": [
    "clean_data2 = clean_data.replace({'uhnd':{'r':0, 'l':1}, 'hndns':{'r':0, 'l':1}, 'eye':{'r':0, 'l':1}, 'sex':{'m':0, 'f':1} })\n",
    "clean_data2.head()"
   ]
  },
  {
   "cell_type": "code",
   "execution_count": 59,
   "metadata": {},
   "outputs": [
    {
     "data": {
      "text/html": [
       "<table class=\"simpletable\">\n",
       "<caption>OLS Regression Results</caption>\n",
       "<tr>\n",
       "  <th>Dep. Variable:</th>           <td>rt</td>        <th>  R-squared:         </th>  <td>   0.010</td>  \n",
       "</tr>\n",
       "<tr>\n",
       "  <th>Model:</th>                   <td>OLS</td>       <th>  Adj. R-squared:    </th>  <td>   0.010</td>  \n",
       "</tr>\n",
       "<tr>\n",
       "  <th>Method:</th>             <td>Least Squares</td>  <th>  F-statistic:       </th>  <td>   109.3</td>  \n",
       "</tr>\n",
       "<tr>\n",
       "  <th>Date:</th>             <td>Thu, 07 Apr 2022</td> <th>  Prob (F-statistic):</th>  <td>5.83e-205</td> \n",
       "</tr>\n",
       "<tr>\n",
       "  <th>Time:</th>                 <td>17:17:39</td>     <th>  Log-Likelihood:    </th> <td>-6.6746e+05</td>\n",
       "</tr>\n",
       "<tr>\n",
       "  <th>No. Observations:</th>      <td> 98157</td>      <th>  AIC:               </th>  <td>1.335e+06</td> \n",
       "</tr>\n",
       "<tr>\n",
       "  <th>Df Residuals:</th>          <td> 98147</td>      <th>  BIC:               </th>  <td>1.335e+06</td> \n",
       "</tr>\n",
       "<tr>\n",
       "  <th>Df Model:</th>              <td>     9</td>      <th>                     </th>      <td> </td>     \n",
       "</tr>\n",
       "<tr>\n",
       "  <th>Covariance Type:</th>      <td>nonrobust</td>    <th>                     </th>      <td> </td>     \n",
       "</tr>\n",
       "</table>\n",
       "<table class=\"simpletable\">\n",
       "<tr>\n",
       "       <td></td>         <th>coef</th>     <th>std err</th>      <th>t</th>      <th>P>|t|</th>  <th>[0.025</th>    <th>0.975]</th>  \n",
       "</tr>\n",
       "<tr>\n",
       "  <th>Intercept</th>  <td>  621.1195</td> <td>    1.555</td> <td>  399.507</td> <td> 0.000</td> <td>  618.072</td> <td>  624.167</td>\n",
       "</tr>\n",
       "<tr>\n",
       "  <th>uhnd</th>       <td>    7.4097</td> <td>    2.110</td> <td>    3.512</td> <td> 0.000</td> <td>    3.275</td> <td>   11.545</td>\n",
       "</tr>\n",
       "<tr>\n",
       "  <th>sex</th>        <td>   51.3779</td> <td>    2.500</td> <td>   20.548</td> <td> 0.000</td> <td>   46.477</td> <td>   56.279</td>\n",
       "</tr>\n",
       "<tr>\n",
       "  <th>hndns</th>      <td>    9.2128</td> <td>    3.964</td> <td>    2.324</td> <td> 0.020</td> <td>    1.443</td> <td>   16.983</td>\n",
       "</tr>\n",
       "<tr>\n",
       "  <th>eye</th>        <td>  -25.4180</td> <td>    2.488</td> <td>  -10.216</td> <td> 0.000</td> <td>  -30.295</td> <td>  -20.542</td>\n",
       "</tr>\n",
       "<tr>\n",
       "  <th>uhnd:sex</th>   <td>  -16.9594</td> <td>    3.076</td> <td>   -5.514</td> <td> 0.000</td> <td>  -22.988</td> <td>  -10.931</td>\n",
       "</tr>\n",
       "<tr>\n",
       "  <th>uhnd:hndns</th> <td>    9.4463</td> <td>    4.371</td> <td>    2.161</td> <td> 0.031</td> <td>    0.880</td> <td>   18.013</td>\n",
       "</tr>\n",
       "<tr>\n",
       "  <th>uhnd:eye</th>   <td>    4.3529</td> <td>    2.894</td> <td>    1.504</td> <td> 0.133</td> <td>   -1.320</td> <td>   10.025</td>\n",
       "</tr>\n",
       "<tr>\n",
       "  <th>sex:hndns</th>  <td>-9.855e-14</td> <td> 1.45e-14</td> <td>   -6.808</td> <td> 0.000</td> <td>-1.27e-13</td> <td>-7.02e-14</td>\n",
       "</tr>\n",
       "<tr>\n",
       "  <th>sex:eye</th>    <td>   -0.0679</td> <td>    3.160</td> <td>   -0.021</td> <td> 0.983</td> <td>   -6.262</td> <td>    6.127</td>\n",
       "</tr>\n",
       "<tr>\n",
       "  <th>hndns:eye</th>  <td>   21.8798</td> <td>    4.446</td> <td>    4.922</td> <td> 0.000</td> <td>   13.166</td> <td>   30.593</td>\n",
       "</tr>\n",
       "</table>\n",
       "<table class=\"simpletable\">\n",
       "<tr>\n",
       "  <th>Omnibus:</th>       <td>1476.235</td> <th>  Durbin-Watson:     </th> <td>   0.942</td>\n",
       "</tr>\n",
       "<tr>\n",
       "  <th>Prob(Omnibus):</th>  <td> 0.000</td>  <th>  Jarque-Bera (JB):  </th> <td>1546.610</td>\n",
       "</tr>\n",
       "<tr>\n",
       "  <th>Skew:</th>           <td> 0.300</td>  <th>  Prob(JB):          </th> <td>    0.00</td>\n",
       "</tr>\n",
       "<tr>\n",
       "  <th>Kurtosis:</th>       <td> 3.134</td>  <th>  Cond. No.          </th> <td>1.25e+19</td>\n",
       "</tr>\n",
       "</table><br/><br/>Notes:<br/>[1] Standard Errors assume that the covariance matrix of the errors is correctly specified.<br/>[2] The smallest eigenvalue is 1.14e-33. This might indicate that there are<br/>strong multicollinearity problems or that the design matrix is singular."
      ],
      "text/plain": [
       "<class 'statsmodels.iolib.summary.Summary'>\n",
       "\"\"\"\n",
       "                            OLS Regression Results                            \n",
       "==============================================================================\n",
       "Dep. Variable:                     rt   R-squared:                       0.010\n",
       "Model:                            OLS   Adj. R-squared:                  0.010\n",
       "Method:                 Least Squares   F-statistic:                     109.3\n",
       "Date:                Thu, 07 Apr 2022   Prob (F-statistic):          5.83e-205\n",
       "Time:                        17:17:39   Log-Likelihood:            -6.6746e+05\n",
       "No. Observations:               98157   AIC:                         1.335e+06\n",
       "Df Residuals:                   98147   BIC:                         1.335e+06\n",
       "Df Model:                           9                                         \n",
       "Covariance Type:            nonrobust                                         \n",
       "==============================================================================\n",
       "                 coef    std err          t      P>|t|      [0.025      0.975]\n",
       "------------------------------------------------------------------------------\n",
       "Intercept    621.1195      1.555    399.507      0.000     618.072     624.167\n",
       "uhnd           7.4097      2.110      3.512      0.000       3.275      11.545\n",
       "sex           51.3779      2.500     20.548      0.000      46.477      56.279\n",
       "hndns          9.2128      3.964      2.324      0.020       1.443      16.983\n",
       "eye          -25.4180      2.488    -10.216      0.000     -30.295     -20.542\n",
       "uhnd:sex     -16.9594      3.076     -5.514      0.000     -22.988     -10.931\n",
       "uhnd:hndns     9.4463      4.371      2.161      0.031       0.880      18.013\n",
       "uhnd:eye       4.3529      2.894      1.504      0.133      -1.320      10.025\n",
       "sex:hndns  -9.855e-14   1.45e-14     -6.808      0.000   -1.27e-13   -7.02e-14\n",
       "sex:eye       -0.0679      3.160     -0.021      0.983      -6.262       6.127\n",
       "hndns:eye     21.8798      4.446      4.922      0.000      13.166      30.593\n",
       "==============================================================================\n",
       "Omnibus:                     1476.235   Durbin-Watson:                   0.942\n",
       "Prob(Omnibus):                  0.000   Jarque-Bera (JB):             1546.610\n",
       "Skew:                           0.300   Prob(JB):                         0.00\n",
       "Kurtosis:                       3.134   Cond. No.                     1.25e+19\n",
       "==============================================================================\n",
       "\n",
       "Notes:\n",
       "[1] Standard Errors assume that the covariance matrix of the errors is correctly specified.\n",
       "[2] The smallest eigenvalue is 1.14e-33. This might indicate that there are\n",
       "strong multicollinearity problems or that the design matrix is singular.\n",
       "\"\"\""
      ]
     },
     "execution_count": 59,
     "metadata": {},
     "output_type": "execute_result"
    }
   ],
   "source": [
    "model_rt = ols('''rt ~ uhnd + sex + hndns + eye \n",
    "                + uhnd * sex + uhnd*hndns + uhnd*eye\n",
    "                + sex * hndns + sex * eye\n",
    "                + hndns*eye''', data=clean_data2).fit()\n",
    "model_rt.summary()"
   ]
  },
  {
   "cell_type": "code",
   "execution_count": 60,
   "metadata": {},
   "outputs": [
    {
     "data": {
      "text/html": [
       "<table class=\"simpletable\">\n",
       "<caption>OLS Regression Results</caption>\n",
       "<tr>\n",
       "  <th>Dep. Variable:</th>           <td>rt</td>        <th>  R-squared (uncentered):</th>       <td>   0.701</td>  \n",
       "</tr>\n",
       "<tr>\n",
       "  <th>Model:</th>                   <td>OLS</td>       <th>  Adj. R-squared (uncentered):</th>  <td>   0.701</td>  \n",
       "</tr>\n",
       "<tr>\n",
       "  <th>Method:</th>             <td>Least Squares</td>  <th>  F-statistic:       </th>           <td>3.285e+04</td> \n",
       "</tr>\n",
       "<tr>\n",
       "  <th>Date:</th>             <td>Thu, 07 Apr 2022</td> <th>  Prob (F-statistic):</th>            <td>  0.00</td>   \n",
       "</tr>\n",
       "<tr>\n",
       "  <th>Time:</th>                 <td>17:17:40</td>     <th>  Log-Likelihood:    </th>          <td>-7.1878e+05</td>\n",
       "</tr>\n",
       "<tr>\n",
       "  <th>No. Observations:</th>      <td> 98157</td>      <th>  AIC:               </th>           <td>1.438e+06</td> \n",
       "</tr>\n",
       "<tr>\n",
       "  <th>Df Residuals:</th>          <td> 98150</td>      <th>  BIC:               </th>           <td>1.438e+06</td> \n",
       "</tr>\n",
       "<tr>\n",
       "  <th>Df Model:</th>              <td>     7</td>      <th>                     </th>               <td> </td>     \n",
       "</tr>\n",
       "<tr>\n",
       "  <th>Covariance Type:</th>      <td>nonrobust</td>    <th>                     </th>               <td> </td>     \n",
       "</tr>\n",
       "</table>\n",
       "<table class=\"simpletable\">\n",
       "<tr>\n",
       "       <td></td>         <th>coef</th>     <th>std err</th>      <th>t</th>      <th>P>|t|</th>  <th>[0.025</th>    <th>0.975]</th>  \n",
       "</tr>\n",
       "<tr>\n",
       "  <th>uhnd</th>       <td>  529.0818</td> <td>    2.436</td> <td>  217.152</td> <td> 0.000</td> <td>  524.306</td> <td>  533.857</td>\n",
       "</tr>\n",
       "<tr>\n",
       "  <th>sex</th>        <td>  671.5469</td> <td>    3.382</td> <td>  198.567</td> <td> 0.000</td> <td>  664.918</td> <td>  678.176</td>\n",
       "</tr>\n",
       "<tr>\n",
       "  <th>hndns</th>      <td>  452.3944</td> <td>    4.899</td> <td>   92.346</td> <td> 0.000</td> <td>  442.793</td> <td>  461.996</td>\n",
       "</tr>\n",
       "<tr>\n",
       "  <th>eye</th>        <td>  285.5485</td> <td>    2.791</td> <td>  102.306</td> <td> 0.000</td> <td>  280.078</td> <td>  291.019</td>\n",
       "</tr>\n",
       "<tr>\n",
       "  <th>uhnd:sex</th>   <td> -536.7527</td> <td>    4.730</td> <td> -113.468</td> <td> 0.000</td> <td> -546.024</td> <td> -527.481</td>\n",
       "</tr>\n",
       "<tr>\n",
       "  <th>uhnd:hndns</th> <td> -511.0932</td> <td>    6.927</td> <td>  -73.784</td> <td> 0.000</td> <td> -524.670</td> <td> -497.517</td>\n",
       "</tr>\n",
       "<tr>\n",
       "  <th>sex:eye</th>    <td> -308.8432</td> <td>    4.954</td> <td>  -62.340</td> <td> 0.000</td> <td> -318.553</td> <td> -299.133</td>\n",
       "</tr>\n",
       "</table>\n",
       "<table class=\"simpletable\">\n",
       "<tr>\n",
       "  <th>Omnibus:</th>       <td>4355.488</td> <th>  Durbin-Watson:     </th> <td>   0.336</td>\n",
       "</tr>\n",
       "<tr>\n",
       "  <th>Prob(Omnibus):</th>  <td> 0.000</td>  <th>  Jarque-Bera (JB):  </th> <td>4963.212</td>\n",
       "</tr>\n",
       "<tr>\n",
       "  <th>Skew:</th>           <td> 0.550</td>  <th>  Prob(JB):          </th> <td>    0.00</td>\n",
       "</tr>\n",
       "<tr>\n",
       "  <th>Kurtosis:</th>       <td> 2.955</td>  <th>  Cond. No.          </th> <td>    6.59</td>\n",
       "</tr>\n",
       "</table><br/><br/>Notes:<br/>[1] R² is computed without centering (uncentered) since the model does not contain a constant.<br/>[2] Standard Errors assume that the covariance matrix of the errors is correctly specified."
      ],
      "text/plain": [
       "<class 'statsmodels.iolib.summary.Summary'>\n",
       "\"\"\"\n",
       "                                 OLS Regression Results                                \n",
       "=======================================================================================\n",
       "Dep. Variable:                     rt   R-squared (uncentered):                   0.701\n",
       "Model:                            OLS   Adj. R-squared (uncentered):              0.701\n",
       "Method:                 Least Squares   F-statistic:                          3.285e+04\n",
       "Date:                Thu, 07 Apr 2022   Prob (F-statistic):                        0.00\n",
       "Time:                        17:17:40   Log-Likelihood:                     -7.1878e+05\n",
       "No. Observations:               98157   AIC:                                  1.438e+06\n",
       "Df Residuals:                   98150   BIC:                                  1.438e+06\n",
       "Df Model:                           7                                                  \n",
       "Covariance Type:            nonrobust                                                  \n",
       "==============================================================================\n",
       "                 coef    std err          t      P>|t|      [0.025      0.975]\n",
       "------------------------------------------------------------------------------\n",
       "uhnd         529.0818      2.436    217.152      0.000     524.306     533.857\n",
       "sex          671.5469      3.382    198.567      0.000     664.918     678.176\n",
       "hndns        452.3944      4.899     92.346      0.000     442.793     461.996\n",
       "eye          285.5485      2.791    102.306      0.000     280.078     291.019\n",
       "uhnd:sex    -536.7527      4.730   -113.468      0.000    -546.024    -527.481\n",
       "uhnd:hndns  -511.0932      6.927    -73.784      0.000    -524.670    -497.517\n",
       "sex:eye     -308.8432      4.954    -62.340      0.000    -318.553    -299.133\n",
       "==============================================================================\n",
       "Omnibus:                     4355.488   Durbin-Watson:                   0.336\n",
       "Prob(Omnibus):                  0.000   Jarque-Bera (JB):             4963.212\n",
       "Skew:                           0.550   Prob(JB):                         0.00\n",
       "Kurtosis:                       2.955   Cond. No.                         6.59\n",
       "==============================================================================\n",
       "\n",
       "Notes:\n",
       "[1] R² is computed without centering (uncentered) since the model does not contain a constant.\n",
       "[2] Standard Errors assume that the covariance matrix of the errors is correctly specified.\n",
       "\"\"\""
      ]
     },
     "execution_count": 60,
     "metadata": {},
     "output_type": "execute_result"
    }
   ],
   "source": [
    "model_rt = ols('''rt ~ uhnd + sex + hndns + eye \n",
    "                + uhnd * sex + uhnd*hndns\n",
    "                + sex * eye -1''', data=clean_data2).fit()\n",
    "model_rt.summary()"
   ]
  },
  {
   "cell_type": "code",
   "execution_count": 61,
   "metadata": {},
   "outputs": [
    {
     "data": {
      "text/plain": [
       "<seaborn.axisgrid.FacetGrid at 0x2aabfcdc220>"
      ]
     },
     "execution_count": 61,
     "metadata": {},
     "output_type": "execute_result"
    },
    {
     "data": {
      "image/png": "[encoded data removed]",
      "text/plain": [
       "<Figure size 403.35x360 with 1 Axes>"
      ]
     },
     "metadata": {},
     "output_type": "display_data"
    }
   ],
   "source": [
    "sns.catplot(x=\"uhnd\", y=\"rt\", hue=\"eye\", data=clean_data, kind=\"bar\")\n"
   ]
  },
  {
   "cell_type": "code",
   "execution_count": 62,
   "metadata": {},
   "outputs": [
    {
     "data": {
      "text/plain": [
       "<seaborn.axisgrid.FacetGrid at 0x2aabe188400>"
      ]
     },
     "execution_count": 62,
     "metadata": {},
     "output_type": "execute_result"
    },
    {
     "data": {
      "image/png": "[encoded data removed]",
      "text/plain": [
       "<Figure size 403.35x360 with 1 Axes>"
      ]
     },
     "metadata": {},
     "output_type": "display_data"
    }
   ],
   "source": [
    "sns.catplot(x=\"sex\", y=\"rt\", hue=\"eye\", data=clean_data, kind=\"bar\")"
   ]
  },
  {
   "cell_type": "code",
   "execution_count": 63,
   "metadata": {},
   "outputs": [
    {
     "data": {
      "text/plain": [
       "<seaborn.axisgrid.FacetGrid at 0x2aabe0e1730>"
      ]
     },
     "execution_count": 63,
     "metadata": {},
     "output_type": "execute_result"
    },
    {
     "data": {
      "image/png": "[encoded data removed]",
      "text/plain": [
       "<Figure size 403.35x360 with 1 Axes>"
      ]
     },
     "metadata": {},
     "output_type": "display_data"
    }
   ],
   "source": [
    "sns.catplot(x=\"uhnd\", y=\"rt\", hue=\"hndns\", data=clean_data, kind=\"bar\")"
   ]
  },
  {
   "cell_type": "code",
   "execution_count": 64,
   "metadata": {},
   "outputs": [
    {
     "data": {
      "text/plain": [
       "<seaborn.axisgrid.FacetGrid at 0x2aabe1089d0>"
      ]
     },
     "execution_count": 64,
     "metadata": {},
     "output_type": "execute_result"
    },
    {
     "data": {
      "image/png": "[encoded data removed]",
      "text/plain": [
       "<Figure size 408.85x360 with 1 Axes>"
      ]
     },
     "metadata": {},
     "output_type": "display_data"
    }
   ],
   "source": [
    "sns.catplot(x=\"uhnd\", y=\"rt\", hue=\"sex\", data=clean_data, kind=\"bar\")"
   ]
  },
  {
   "cell_type": "code",
   "execution_count": 65,
   "metadata": {},
   "outputs": [
    {
     "data": {
      "text/html": [
       "<table class=\"simpletable\">\n",
       "<caption>OLS Regression Results</caption>\n",
       "<tr>\n",
       "  <th>Dep. Variable:</th>           <td>lrt</td>       <th>  R-squared:         </th> <td>   0.014</td> \n",
       "</tr>\n",
       "<tr>\n",
       "  <th>Model:</th>                   <td>OLS</td>       <th>  Adj. R-squared:    </th> <td>   0.014</td> \n",
       "</tr>\n",
       "<tr>\n",
       "  <th>Method:</th>             <td>Least Squares</td>  <th>  F-statistic:       </th> <td>   159.1</td> \n",
       "</tr>\n",
       "<tr>\n",
       "  <th>Date:</th>             <td>Thu, 07 Apr 2022</td> <th>  Prob (F-statistic):</th> <td>1.86e-300</td>\n",
       "</tr>\n",
       "<tr>\n",
       "  <th>Time:</th>                 <td>17:17:51</td>     <th>  Log-Likelihood:    </th> <td> -48894.</td> \n",
       "</tr>\n",
       "<tr>\n",
       "  <th>No. Observations:</th>      <td> 98157</td>      <th>  AIC:               </th> <td>9.781e+04</td>\n",
       "</tr>\n",
       "<tr>\n",
       "  <th>Df Residuals:</th>          <td> 98147</td>      <th>  BIC:               </th> <td>9.790e+04</td>\n",
       "</tr>\n",
       "<tr>\n",
       "  <th>Df Model:</th>              <td>     9</td>      <th>                     </th>     <td> </td>    \n",
       "</tr>\n",
       "<tr>\n",
       "  <th>Covariance Type:</th>      <td>nonrobust</td>    <th>                     </th>     <td> </td>    \n",
       "</tr>\n",
       "</table>\n",
       "<table class=\"simpletable\">\n",
       "<tr>\n",
       "       <td></td>         <th>coef</th>     <th>std err</th>      <th>t</th>      <th>P>|t|</th>  <th>[0.025</th>    <th>0.975]</th>  \n",
       "</tr>\n",
       "<tr>\n",
       "  <th>Intercept</th>  <td>    6.3389</td> <td>    0.003</td> <td> 2224.404</td> <td> 0.000</td> <td>    6.333</td> <td>    6.344</td>\n",
       "</tr>\n",
       "<tr>\n",
       "  <th>uhnd</th>       <td>    0.0192</td> <td>    0.004</td> <td>    4.964</td> <td> 0.000</td> <td>    0.012</td> <td>    0.027</td>\n",
       "</tr>\n",
       "<tr>\n",
       "  <th>sex</th>        <td>    0.1248</td> <td>    0.005</td> <td>   27.237</td> <td> 0.000</td> <td>    0.116</td> <td>    0.134</td>\n",
       "</tr>\n",
       "<tr>\n",
       "  <th>hndns</th>      <td>    0.0682</td> <td>    0.007</td> <td>    9.390</td> <td> 0.000</td> <td>    0.054</td> <td>    0.082</td>\n",
       "</tr>\n",
       "<tr>\n",
       "  <th>eye</th>        <td>   -0.0264</td> <td>    0.005</td> <td>   -5.782</td> <td> 0.000</td> <td>   -0.035</td> <td>   -0.017</td>\n",
       "</tr>\n",
       "<tr>\n",
       "  <th>uhnd:sex</th>   <td>   -0.0376</td> <td>    0.006</td> <td>   -6.676</td> <td> 0.000</td> <td>   -0.049</td> <td>   -0.027</td>\n",
       "</tr>\n",
       "<tr>\n",
       "  <th>uhnd:hndns</th> <td>    0.0109</td> <td>    0.008</td> <td>    1.362</td> <td> 0.173</td> <td>   -0.005</td> <td>    0.027</td>\n",
       "</tr>\n",
       "<tr>\n",
       "  <th>uhnd:eye</th>   <td>    0.0046</td> <td>    0.005</td> <td>    0.858</td> <td> 0.391</td> <td>   -0.006</td> <td>    0.015</td>\n",
       "</tr>\n",
       "<tr>\n",
       "  <th>sex:hndns</th>  <td>-1.609e-16</td> <td> 2.65e-17</td> <td>   -6.065</td> <td> 0.000</td> <td>-2.13e-16</td> <td>-1.09e-16</td>\n",
       "</tr>\n",
       "<tr>\n",
       "  <th>sex:eye</th>    <td>   -0.0254</td> <td>    0.006</td> <td>   -4.388</td> <td> 0.000</td> <td>   -0.037</td> <td>   -0.014</td>\n",
       "</tr>\n",
       "<tr>\n",
       "  <th>hndns:eye</th>  <td>    0.0125</td> <td>    0.008</td> <td>    1.534</td> <td> 0.125</td> <td>   -0.003</td> <td>    0.028</td>\n",
       "</tr>\n",
       "</table>\n",
       "<table class=\"simpletable\">\n",
       "<tr>\n",
       "  <th>Omnibus:</th>       <td>19748.791</td> <th>  Durbin-Watson:     </th> <td>   0.744</td> \n",
       "</tr>\n",
       "<tr>\n",
       "  <th>Prob(Omnibus):</th>  <td> 0.000</td>   <th>  Jarque-Bera (JB):  </th> <td>46645.648</td>\n",
       "</tr>\n",
       "<tr>\n",
       "  <th>Skew:</th>           <td>-1.135</td>   <th>  Prob(JB):          </th> <td>    0.00</td> \n",
       "</tr>\n",
       "<tr>\n",
       "  <th>Kurtosis:</th>       <td> 5.501</td>   <th>  Cond. No.          </th> <td>1.25e+19</td> \n",
       "</tr>\n",
       "</table><br/><br/>Notes:<br/>[1] Standard Errors assume that the covariance matrix of the errors is correctly specified.<br/>[2] The smallest eigenvalue is 1.14e-33. This might indicate that there are<br/>strong multicollinearity problems or that the design matrix is singular."
      ],
      "text/plain": [
       "<class 'statsmodels.iolib.summary.Summary'>\n",
       "\"\"\"\n",
       "                            OLS Regression Results                            \n",
       "==============================================================================\n",
       "Dep. Variable:                    lrt   R-squared:                       0.014\n",
       "Model:                            OLS   Adj. R-squared:                  0.014\n",
       "Method:                 Least Squares   F-statistic:                     159.1\n",
       "Date:                Thu, 07 Apr 2022   Prob (F-statistic):          1.86e-300\n",
       "Time:                        17:17:51   Log-Likelihood:                -48894.\n",
       "No. Observations:               98157   AIC:                         9.781e+04\n",
       "Df Residuals:                   98147   BIC:                         9.790e+04\n",
       "Df Model:                           9                                         \n",
       "Covariance Type:            nonrobust                                         \n",
       "==============================================================================\n",
       "                 coef    std err          t      P>|t|      [0.025      0.975]\n",
       "------------------------------------------------------------------------------\n",
       "Intercept      6.3389      0.003   2224.404      0.000       6.333       6.344\n",
       "uhnd           0.0192      0.004      4.964      0.000       0.012       0.027\n",
       "sex            0.1248      0.005     27.237      0.000       0.116       0.134\n",
       "hndns          0.0682      0.007      9.390      0.000       0.054       0.082\n",
       "eye           -0.0264      0.005     -5.782      0.000      -0.035      -0.017\n",
       "uhnd:sex      -0.0376      0.006     -6.676      0.000      -0.049      -0.027\n",
       "uhnd:hndns     0.0109      0.008      1.362      0.173      -0.005       0.027\n",
       "uhnd:eye       0.0046      0.005      0.858      0.391      -0.006       0.015\n",
       "sex:hndns  -1.609e-16   2.65e-17     -6.065      0.000   -2.13e-16   -1.09e-16\n",
       "sex:eye       -0.0254      0.006     -4.388      0.000      -0.037      -0.014\n",
       "hndns:eye      0.0125      0.008      1.534      0.125      -0.003       0.028\n",
       "==============================================================================\n",
       "Omnibus:                    19748.791   Durbin-Watson:                   0.744\n",
       "Prob(Omnibus):                  0.000   Jarque-Bera (JB):            46645.648\n",
       "Skew:                          -1.135   Prob(JB):                         0.00\n",
       "Kurtosis:                       5.501   Cond. No.                     1.25e+19\n",
       "==============================================================================\n",
       "\n",
       "Notes:\n",
       "[1] Standard Errors assume that the covariance matrix of the errors is correctly specified.\n",
       "[2] The smallest eigenvalue is 1.14e-33. This might indicate that there are\n",
       "strong multicollinearity problems or that the design matrix is singular.\n",
       "\"\"\""
      ]
     },
     "execution_count": 65,
     "metadata": {},
     "output_type": "execute_result"
    }
   ],
   "source": [
    "model_lrt = ols('''lrt ~ uhnd + sex + hndns + eye \n",
    "                + uhnd * sex + uhnd*hndns + uhnd*eye\n",
    "                + sex * hndns + sex * eye\n",
    "                + hndns*eye''', data=clean_data2).fit()\n",
    "model_lrt.summary()"
   ]
  },
  {
   "cell_type": "code",
   "execution_count": 66,
   "metadata": {},
   "outputs": [
    {
     "data": {
      "text/html": [
       "<table class=\"simpletable\">\n",
       "<caption>OLS Regression Results</caption>\n",
       "<tr>\n",
       "  <th>Dep. Variable:</th>           <td>lrt</td>       <th>  R-squared (uncentered):</th>       <td>   0.764</td>  \n",
       "</tr>\n",
       "<tr>\n",
       "  <th>Model:</th>                   <td>OLS</td>       <th>  Adj. R-squared (uncentered):</th>  <td>   0.764</td>  \n",
       "</tr>\n",
       "<tr>\n",
       "  <th>Method:</th>             <td>Least Squares</td>  <th>  F-statistic:       </th>           <td>4.528e+04</td> \n",
       "</tr>\n",
       "<tr>\n",
       "  <th>Date:</th>             <td>Thu, 07 Apr 2022</td> <th>  Prob (F-statistic):</th>            <td>  0.00</td>   \n",
       "</tr>\n",
       "<tr>\n",
       "  <th>Time:</th>                 <td>17:17:52</td>     <th>  Log-Likelihood:    </th>          <td>-2.5062e+05</td>\n",
       "</tr>\n",
       "<tr>\n",
       "  <th>No. Observations:</th>      <td> 98157</td>      <th>  AIC:               </th>           <td>5.013e+05</td> \n",
       "</tr>\n",
       "<tr>\n",
       "  <th>Df Residuals:</th>          <td> 98150</td>      <th>  BIC:               </th>           <td>5.013e+05</td> \n",
       "</tr>\n",
       "<tr>\n",
       "  <th>Df Model:</th>              <td>     7</td>      <th>                     </th>               <td> </td>     \n",
       "</tr>\n",
       "<tr>\n",
       "  <th>Covariance Type:</th>      <td>nonrobust</td>    <th>                     </th>               <td> </td>     \n",
       "</tr>\n",
       "</table>\n",
       "<table class=\"simpletable\">\n",
       "<tr>\n",
       "      <td></td>         <th>coef</th>     <th>std err</th>      <th>t</th>      <th>P>|t|</th>  <th>[0.025</th>    <th>0.975]</th>  \n",
       "</tr>\n",
       "<tr>\n",
       "  <th>uhnd</th>      <td>    4.4874</td> <td>    0.020</td> <td>  228.981</td> <td> 0.000</td> <td>    4.449</td> <td>    4.526</td>\n",
       "</tr>\n",
       "<tr>\n",
       "  <th>sex</th>       <td>    6.4627</td> <td>    0.029</td> <td>  225.228</td> <td> 0.000</td> <td>    6.406</td> <td>    6.519</td>\n",
       "</tr>\n",
       "<tr>\n",
       "  <th>hndns</th>     <td>    4.1931</td> <td>    0.046</td> <td>   91.983</td> <td> 0.000</td> <td>    4.104</td> <td>    4.282</td>\n",
       "</tr>\n",
       "<tr>\n",
       "  <th>eye</th>       <td>    4.0756</td> <td>    0.026</td> <td>  157.975</td> <td> 0.000</td> <td>    4.025</td> <td>    4.126</td>\n",
       "</tr>\n",
       "<tr>\n",
       "  <th>uhnd:sex</th>  <td>   -4.5039</td> <td>    0.040</td> <td> -113.757</td> <td> 0.000</td> <td>   -4.581</td> <td>   -4.426</td>\n",
       "</tr>\n",
       "<tr>\n",
       "  <th>sex:hndns</th> <td> -7.55e-15</td> <td>  5.7e-17</td> <td> -132.511</td> <td> 0.000</td> <td>-7.66e-15</td> <td>-7.44e-15</td>\n",
       "</tr>\n",
       "<tr>\n",
       "  <th>sex:eye</th>   <td>   -4.1251</td> <td>    0.043</td> <td>  -95.351</td> <td> 0.000</td> <td>   -4.210</td> <td>   -4.040</td>\n",
       "</tr>\n",
       "<tr>\n",
       "  <th>hndns:eye</th> <td>   -4.1128</td> <td>    0.062</td> <td>  -66.100</td> <td> 0.000</td> <td>   -4.235</td> <td>   -3.991</td>\n",
       "</tr>\n",
       "</table>\n",
       "<table class=\"simpletable\">\n",
       "<tr>\n",
       "  <th>Omnibus:</th>       <td>6610.650</td> <th>  Durbin-Watson:     </th> <td>   0.017</td>\n",
       "</tr>\n",
       "<tr>\n",
       "  <th>Prob(Omnibus):</th>  <td> 0.000</td>  <th>  Jarque-Bera (JB):  </th> <td>6781.638</td>\n",
       "</tr>\n",
       "<tr>\n",
       "  <th>Skew:</th>           <td> 0.600</td>  <th>  Prob(JB):          </th> <td>    0.00</td>\n",
       "</tr>\n",
       "<tr>\n",
       "  <th>Kurtosis:</th>       <td> 2.535</td>  <th>  Cond. No.          </th> <td>2.05e+19</td>\n",
       "</tr>\n",
       "</table><br/><br/>Notes:<br/>[1] R² is computed without centering (uncentered) since the model does not contain a constant.<br/>[2] Standard Errors assume that the covariance matrix of the errors is correctly specified.<br/>[3] The smallest eigenvalue is 2.14e-34. This might indicate that there are<br/>strong multicollinearity problems or that the design matrix is singular."
      ],
      "text/plain": [
       "<class 'statsmodels.iolib.summary.Summary'>\n",
       "\"\"\"\n",
       "                                 OLS Regression Results                                \n",
       "=======================================================================================\n",
       "Dep. Variable:                    lrt   R-squared (uncentered):                   0.764\n",
       "Model:                            OLS   Adj. R-squared (uncentered):              0.764\n",
       "Method:                 Least Squares   F-statistic:                          4.528e+04\n",
       "Date:                Thu, 07 Apr 2022   Prob (F-statistic):                        0.00\n",
       "Time:                        17:17:52   Log-Likelihood:                     -2.5062e+05\n",
       "No. Observations:               98157   AIC:                                  5.013e+05\n",
       "Df Residuals:                   98150   BIC:                                  5.013e+05\n",
       "Df Model:                           7                                                  \n",
       "Covariance Type:            nonrobust                                                  \n",
       "==============================================================================\n",
       "                 coef    std err          t      P>|t|      [0.025      0.975]\n",
       "------------------------------------------------------------------------------\n",
       "uhnd           4.4874      0.020    228.981      0.000       4.449       4.526\n",
       "sex            6.4627      0.029    225.228      0.000       6.406       6.519\n",
       "hndns          4.1931      0.046     91.983      0.000       4.104       4.282\n",
       "eye            4.0756      0.026    157.975      0.000       4.025       4.126\n",
       "uhnd:sex      -4.5039      0.040   -113.757      0.000      -4.581      -4.426\n",
       "sex:hndns   -7.55e-15    5.7e-17   -132.511      0.000   -7.66e-15   -7.44e-15\n",
       "sex:eye       -4.1251      0.043    -95.351      0.000      -4.210      -4.040\n",
       "hndns:eye     -4.1128      0.062    -66.100      0.000      -4.235      -3.991\n",
       "==============================================================================\n",
       "Omnibus:                     6610.650   Durbin-Watson:                   0.017\n",
       "Prob(Omnibus):                  0.000   Jarque-Bera (JB):             6781.638\n",
       "Skew:                           0.600   Prob(JB):                         0.00\n",
       "Kurtosis:                       2.535   Cond. No.                     2.05e+19\n",
       "==============================================================================\n",
       "\n",
       "Notes:\n",
       "[1] R² is computed without centering (uncentered) since the model does not contain a constant.\n",
       "[2] Standard Errors assume that the covariance matrix of the errors is correctly specified.\n",
       "[3] The smallest eigenvalue is 2.14e-34. This might indicate that there are\n",
       "strong multicollinearity problems or that the design matrix is singular.\n",
       "\"\"\""
      ]
     },
     "execution_count": 66,
     "metadata": {},
     "output_type": "execute_result"
    }
   ],
   "source": [
    "model_lrt = ols('''lrt ~ uhnd + sex + hndns + eye \n",
    "                + uhnd * sex \n",
    "                + sex * hndns + sex * eye\n",
    "                + hndns*eye -1''', data=clean_data2).fit()\n",
    "model_lrt.summary()"
   ]
  },
  {
   "cell_type": "code",
   "execution_count": 67,
   "metadata": {},
   "outputs": [
    {
     "data": {
      "text/plain": [
       "<seaborn.axisgrid.FacetGrid at 0x2aac26d7e80>"
      ]
     },
     "execution_count": 67,
     "metadata": {},
     "output_type": "execute_result"
    },
    {
     "data": {
      "image/png": "[encoded data removed]",
      "text/plain": [
       "<Figure size 403.35x360 with 1 Axes>"
      ]
     },
     "metadata": {},
     "output_type": "display_data"
    }
   ],
   "source": [
    "sns.catplot(x=\"sex\", y=\"lrt\", hue=\"hndns\", data=clean_data, kind=\"bar\")"
   ]
  },
  {
   "cell_type": "code",
   "execution_count": 68,
   "metadata": {},
   "outputs": [
    {
     "data": {
      "text/plain": [
       "<seaborn.axisgrid.FacetGrid at 0x2aac2482850>"
      ]
     },
     "execution_count": 68,
     "metadata": {},
     "output_type": "execute_result"
    },
    {
     "data": {
      "image/png": "[encoded data removed]",
      "text/plain": [
       "<Figure size 403.35x360 with 1 Axes>"
      ]
     },
     "metadata": {},
     "output_type": "display_data"
    }
   ],
   "source": [
    "sns.catplot(x=\"sex\", y=\"lrt\", hue=\"uhnd\", data=clean_data, kind=\"bar\")"
   ]
  },
  {
   "cell_type": "code",
   "execution_count": 69,
   "metadata": {},
   "outputs": [
    {
     "data": {
      "text/plain": [
       "<seaborn.axisgrid.FacetGrid at 0x2aabfdff670>"
      ]
     },
     "execution_count": 69,
     "metadata": {},
     "output_type": "execute_result"
    },
    {
     "data": {
      "image/png": "[encoded data removed]",
      "text/plain": [
       "<Figure size 403.35x360 with 1 Axes>"
      ]
     },
     "metadata": {},
     "output_type": "display_data"
    }
   ],
   "source": [
    "sns.catplot(x=\"hndns\", y=\"lrt\", hue=\"eye\", data=clean_data, kind=\"bar\")"
   ]
  },
  {
   "cell_type": "code",
   "execution_count": 70,
   "metadata": {},
   "outputs": [
    {
     "data": {
      "text/plain": [
       "<seaborn.axisgrid.FacetGrid at 0x2aabfc757f0>"
      ]
     },
     "execution_count": 70,
     "metadata": {},
     "output_type": "execute_result"
    },
    {
     "data": {
      "image/png": "[encoded data removed]",
      "text/plain": [
       "<Figure size 403.35x360 with 1 Axes>"
      ]
     },
     "metadata": {},
     "output_type": "display_data"
    }
   ],
   "source": [
    "sns.catplot(x=\"sex\", y=\"lrt\", hue=\"eye\", data=clean_data, kind=\"bar\")"
   ]
  },
  {
   "cell_type": "code",
   "execution_count": 71,
   "metadata": {},
   "outputs": [
    {
     "name": "stdout",
     "output_type": "stream",
     "text": [
      "Optimization terminated successfully.\n",
      "         Current function value: 0.677437\n",
      "         Iterations 4\n"
     ]
    },
    {
     "data": {
      "text/html": [
       "<table class=\"simpletable\">\n",
       "<caption>Logit Regression Results</caption>\n",
       "<tr>\n",
       "  <th>Dep. Variable:</th>          <td>acc</td>       <th>  No. Observations:  </th>  <td> 98157</td>  \n",
       "</tr>\n",
       "<tr>\n",
       "  <th>Model:</th>                 <td>Logit</td>      <th>  Df Residuals:      </th>  <td> 98150</td>  \n",
       "</tr>\n",
       "<tr>\n",
       "  <th>Method:</th>                 <td>MLE</td>       <th>  Df Model:          </th>  <td>     6</td>  \n",
       "</tr>\n",
       "<tr>\n",
       "  <th>Date:</th>            <td>Thu, 07 Apr 2022</td> <th>  Pseudo R-squ.:     </th> <td>-0.001420</td>\n",
       "</tr>\n",
       "<tr>\n",
       "  <th>Time:</th>                <td>17:18:02</td>     <th>  Log-Likelihood:    </th> <td> -66495.</td> \n",
       "</tr>\n",
       "<tr>\n",
       "  <th>converged:</th>             <td>True</td>       <th>  LL-Null:           </th> <td> -66401.</td> \n",
       "</tr>\n",
       "<tr>\n",
       "  <th>Covariance Type:</th>     <td>nonrobust</td>    <th>  LLR p-value:       </th>  <td> 1.000</td>  \n",
       "</tr>\n",
       "</table>\n",
       "<table class=\"simpletable\">\n",
       "<tr>\n",
       "      <td></td>         <th>coef</th>     <th>std err</th>      <th>z</th>      <th>P>|z|</th>  <th>[0.025</th>    <th>0.975]</th>  \n",
       "</tr>\n",
       "<tr>\n",
       "  <th>pos</th>       <td>    0.0168</td> <td>    0.002</td> <td>   10.100</td> <td> 0.000</td> <td>    0.014</td> <td>    0.020</td>\n",
       "</tr>\n",
       "<tr>\n",
       "  <th>vf</th>        <td>    0.0449</td> <td>    0.005</td> <td>    9.000</td> <td> 0.000</td> <td>    0.035</td> <td>    0.055</td>\n",
       "</tr>\n",
       "<tr>\n",
       "  <th>sex</th>       <td>    0.3843</td> <td>    0.018</td> <td>   21.891</td> <td> 0.000</td> <td>    0.350</td> <td>    0.419</td>\n",
       "</tr>\n",
       "<tr>\n",
       "  <th>eye</th>       <td>    0.0445</td> <td>    0.018</td> <td>    2.512</td> <td> 0.012</td> <td>    0.010</td> <td>    0.079</td>\n",
       "</tr>\n",
       "<tr>\n",
       "  <th>sex:eye</th>   <td>   -0.4076</td> <td>    0.029</td> <td>  -14.091</td> <td> 0.000</td> <td>   -0.464</td> <td>   -0.351</td>\n",
       "</tr>\n",
       "<tr>\n",
       "  <th>hndns</th>     <td>   -0.0186</td> <td>    0.030</td> <td>   -0.619</td> <td> 0.536</td> <td>   -0.078</td> <td>    0.040</td>\n",
       "</tr>\n",
       "<tr>\n",
       "  <th>hndns:eye</th> <td>    0.1111</td> <td>    0.041</td> <td>    2.721</td> <td> 0.007</td> <td>    0.031</td> <td>    0.191</td>\n",
       "</tr>\n",
       "</table>"
      ],
      "text/plain": [
       "<class 'statsmodels.iolib.summary.Summary'>\n",
       "\"\"\"\n",
       "                           Logit Regression Results                           \n",
       "==============================================================================\n",
       "Dep. Variable:                    acc   No. Observations:                98157\n",
       "Model:                          Logit   Df Residuals:                    98150\n",
       "Method:                           MLE   Df Model:                            6\n",
       "Date:                Thu, 07 Apr 2022   Pseudo R-squ.:               -0.001420\n",
       "Time:                        17:18:02   Log-Likelihood:                -66495.\n",
       "converged:                       True   LL-Null:                       -66401.\n",
       "Covariance Type:            nonrobust   LLR p-value:                     1.000\n",
       "==============================================================================\n",
       "                 coef    std err          z      P>|z|      [0.025      0.975]\n",
       "------------------------------------------------------------------------------\n",
       "pos            0.0168      0.002     10.100      0.000       0.014       0.020\n",
       "vf             0.0449      0.005      9.000      0.000       0.035       0.055\n",
       "sex            0.3843      0.018     21.891      0.000       0.350       0.419\n",
       "eye            0.0445      0.018      2.512      0.012       0.010       0.079\n",
       "sex:eye       -0.4076      0.029    -14.091      0.000      -0.464      -0.351\n",
       "hndns         -0.0186      0.030     -0.619      0.536      -0.078       0.040\n",
       "hndns:eye      0.1111      0.041      2.721      0.007       0.031       0.191\n",
       "==============================================================================\n",
       "\"\"\""
      ]
     },
     "execution_count": 71,
     "metadata": {},
     "output_type": "execute_result"
    }
   ],
   "source": [
    "model_acc = smf.logit('''acc ~ pos + vf + sex  + eye      \n",
    "                + sex * eye\n",
    "                + hndns*eye -1''', data=clean_data2).fit()\n",
    "model_acc.summary()"
   ]
  },
  {
   "cell_type": "code",
   "execution_count": 72,
   "metadata": {},
   "outputs": [
    {
     "data": {
      "text/plain": [
       "<seaborn.axisgrid.FacetGrid at 0x2aabddee040>"
      ]
     },
     "execution_count": 72,
     "metadata": {},
     "output_type": "execute_result"
    },
    {
     "data": {
      "image/png": "[encoded data removed]",
      "text/plain": [
       "<Figure size 408.85x360 with 1 Axes>"
      ]
     },
     "metadata": {},
     "output_type": "display_data"
    }
   ],
   "source": [
    "sns.catplot(x=\"eye\", y=\"acc\", hue=\"sex\", data=clean_data, kind=\"bar\")"
   ]
  },
  {
   "cell_type": "code",
   "execution_count": 73,
   "metadata": {},
   "outputs": [
    {
     "data": {
      "text/plain": [
       "<seaborn.axisgrid.FacetGrid at 0x2aabfdae8e0>"
      ]
     },
     "execution_count": 73,
     "metadata": {},
     "output_type": "execute_result"
    },
    {
     "data": {
      "image/png": "[encoded data removed]",
      "text/plain": [
       "<Figure size 403.35x360 with 1 Axes>"
      ]
     },
     "metadata": {},
     "output_type": "display_data"
    }
   ],
   "source": [
    "sns.catplot(x=\"eye\", y=\"acc\", hue=\"hndns\", data=clean_data, kind=\"bar\")"
   ]
  },
  {
   "cell_type": "code",
   "execution_count": 74,
   "metadata": {},
   "outputs": [
    {
     "data": {
      "text/plain": [
       "<seaborn.axisgrid.FacetGrid at 0x2aacf6b0fa0>"
      ]
     },
     "execution_count": 74,
     "metadata": {},
     "output_type": "execute_result"
    },
    {
     "data": {
      "image/png": "[encoded data removed]",
      "text/plain": [
       "<Figure size 403.35x360 with 1 Axes>"
      ]
     },
     "metadata": {},
     "output_type": "display_data"
    }
   ],
   "source": [
    "sns.catplot(x=\"sex\", y=\"acc\", hue=\"hndns\", data=clean_data, kind=\"bar\")"
   ]
  },
  {
   "cell_type": "code",
   "execution_count": 75,
   "metadata": {},
   "outputs": [
    {
     "data": {
      "text/plain": [
       "<seaborn.axisgrid.FacetGrid at 0x2aabe156070>"
      ]
     },
     "execution_count": 75,
     "metadata": {},
     "output_type": "execute_result"
    },
    {
     "data": {
      "image/png": "[encoded data removed]",
      "text/plain": [
       "<Figure size 405.725x360 with 1 Axes>"
      ]
     },
     "metadata": {},
     "output_type": "display_data"
    }
   ],
   "source": [
    "sns.catplot(x=\"uhnd\", y=\"acc\", hue=\"udhnd\", data=clean_data, kind=\"bar\")"
   ]
  },
  {
   "cell_type": "markdown",
   "metadata": {},
   "source": [
    "# 4. Psychometric Fitting"
   ]
  },
  {
   "cell_type": "code",
   "execution_count": 76,
   "metadata": {},
   "outputs": [
    {
     "data": {
      "text/html": [
       "<div>\n",
       "<style scoped>\n",
       "    .dataframe tbody tr th:only-of-type {\n",
       "        vertical-align: middle;\n",
       "    }\n",
       "\n",
       "    .dataframe tbody tr th {\n",
       "        vertical-align: top;\n",
       "    }\n",
       "\n",
       "    .dataframe thead th {\n",
       "        text-align: right;\n",
       "    }\n",
       "</style>\n",
       "<table border=\"1\" class=\"dataframe\">\n",
       "  <thead>\n",
       "    <tr style=\"text-align: right;\">\n",
       "      <th></th>\n",
       "      <th>sbj</th>\n",
       "      <th>stm</th>\n",
       "      <th>rt</th>\n",
       "      <th>key</th>\n",
       "      <th>pos</th>\n",
       "      <th>uhnd</th>\n",
       "      <th>hndns</th>\n",
       "      <th>eye</th>\n",
       "      <th>sex</th>\n",
       "      <th>age</th>\n",
       "      <th>edu</th>\n",
       "      <th>lrt</th>\n",
       "    </tr>\n",
       "  </thead>\n",
       "  <tbody>\n",
       "    <tr>\n",
       "      <th>3</th>\n",
       "      <td>8101004202</td>\n",
       "      <td>5</td>\n",
       "      <td>925.6644</td>\n",
       "      <td>o</td>\n",
       "      <td>10.0</td>\n",
       "      <td>0</td>\n",
       "      <td>0</td>\n",
       "      <td>0</td>\n",
       "      <td>0</td>\n",
       "      <td>22.0</td>\n",
       "      <td>2.0</td>\n",
       "      <td>6.830512</td>\n",
       "    </tr>\n",
       "    <tr>\n",
       "      <th>5</th>\n",
       "      <td>8101004202</td>\n",
       "      <td>7</td>\n",
       "      <td>1163.9952</td>\n",
       "      <td>o</td>\n",
       "      <td>6.0</td>\n",
       "      <td>0</td>\n",
       "      <td>0</td>\n",
       "      <td>0</td>\n",
       "      <td>0</td>\n",
       "      <td>22.0</td>\n",
       "      <td>2.0</td>\n",
       "      <td>7.059614</td>\n",
       "    </tr>\n",
       "    <tr>\n",
       "      <th>6</th>\n",
       "      <td>8101004202</td>\n",
       "      <td>5</td>\n",
       "      <td>1023.1118</td>\n",
       "      <td>o</td>\n",
       "      <td>9.0</td>\n",
       "      <td>0</td>\n",
       "      <td>0</td>\n",
       "      <td>0</td>\n",
       "      <td>0</td>\n",
       "      <td>22.0</td>\n",
       "      <td>2.0</td>\n",
       "      <td>6.930604</td>\n",
       "    </tr>\n",
       "    <tr>\n",
       "      <th>8</th>\n",
       "      <td>8101004202</td>\n",
       "      <td>8</td>\n",
       "      <td>970.4250</td>\n",
       "      <td>o</td>\n",
       "      <td>10.0</td>\n",
       "      <td>0</td>\n",
       "      <td>0</td>\n",
       "      <td>0</td>\n",
       "      <td>0</td>\n",
       "      <td>22.0</td>\n",
       "      <td>2.0</td>\n",
       "      <td>6.877734</td>\n",
       "    </tr>\n",
       "    <tr>\n",
       "      <th>14</th>\n",
       "      <td>8101004202</td>\n",
       "      <td>6</td>\n",
       "      <td>1175.1443</td>\n",
       "      <td>p</td>\n",
       "      <td>13.0</td>\n",
       "      <td>0</td>\n",
       "      <td>0</td>\n",
       "      <td>0</td>\n",
       "      <td>0</td>\n",
       "      <td>22.0</td>\n",
       "      <td>2.0</td>\n",
       "      <td>7.069146</td>\n",
       "    </tr>\n",
       "  </tbody>\n",
       "</table>\n",
       "</div>"
      ],
      "text/plain": [
       "           sbj  stm         rt key   pos  uhnd  hndns  eye  sex   age  edu  \\\n",
       "3   8101004202    5   925.6644   o  10.0     0      0    0    0  22.0  2.0   \n",
       "5   8101004202    7  1163.9952   o   6.0     0      0    0    0  22.0  2.0   \n",
       "6   8101004202    5  1023.1118   o   9.0     0      0    0    0  22.0  2.0   \n",
       "8   8101004202    8   970.4250   o  10.0     0      0    0    0  22.0  2.0   \n",
       "14  8101004202    6  1175.1443   p  13.0     0      0    0    0  22.0  2.0   \n",
       "\n",
       "         lrt  \n",
       "3   6.830512  \n",
       "5   7.059614  \n",
       "6   6.930604  \n",
       "8   6.877734  \n",
       "14  7.069146  "
      ]
     },
     "execution_count": 76,
     "metadata": {},
     "output_type": "execute_result"
    }
   ],
   "source": [
    "data4 = data4.replace({'uhnd':{'r':0, 'l':1}, 'hndns':{'r':0, 'l':1}, 'eye':{'r':0, 'l':1}, 'sex':{'m':0, 'f':1},'stm':{'0.bmp':0, '10.bmp':2, '20.bmp':2, '30.bmp':3, '40.bmp':4, '50.bmp':5, '60.bmp':6, '70.bmp':7, '80.bmp':8} })\n",
    "data4.head()"
   ]
  },
  {
   "cell_type": "code",
   "execution_count": 77,
   "metadata": {},
   "outputs": [],
   "source": [
    "data4['choice'] = data4.key.apply(lambda x : 1 if x in ['q', 'o'] else 0)"
   ]
  },
  {
   "cell_type": "code",
   "execution_count": 78,
   "metadata": {},
   "outputs": [],
   "source": [
    "data4['vf'] = 0\n",
    "data4.loc[(data4.pos.isin([2, 8, 13])), 'vf'] = 1\n",
    "data4.loc[(data4.pos.isin([3, 4, 9])), 'vf'] = 2\n",
    "data4.loc[(data4.pos.isin([5, 10, 11])), 'vf'] = 3\n",
    "data4.loc[(data4.pos.isin([6, 7, 12])), 'vf'] = 4"
   ]
  },
  {
   "cell_type": "code",
   "execution_count": 79,
   "metadata": {},
   "outputs": [],
   "source": [
    "data4['ecc'] = 0\n",
    "data4.loc[((data4.pos< 8) & (data4.pos >1)), 'ecc'] = 1\n",
    "data4.loc[((data4.pos< 14) & (data4.pos >7)), 'ecc'] = 2"
   ]
  },
  {
   "cell_type": "code",
   "execution_count": 80,
   "metadata": {},
   "outputs": [],
   "source": [
    "data4 = pd.get_dummies(data4, columns = ['pos', 'vf', 'ecc'])"
   ]
  },
  {
   "cell_type": "code",
   "execution_count": 81,
   "metadata": {},
   "outputs": [
    {
     "data": {
      "text/plain": [
       "Index(['sbj', 'stm', 'rt', 'key', 'uhnd', 'hndns', 'eye', 'sex', 'age', 'edu',\n",
       "       'lrt', 'choice', 'pos_1.0', 'pos_2.0', 'pos_3.0', 'pos_4.0', 'pos_5.0',\n",
       "       'pos_6.0', 'pos_7.0', 'pos_8.0', 'pos_9.0', 'pos_10.0', 'pos_11.0',\n",
       "       'pos_12.0', 'pos_13.0', 'vf_0', 'vf_1', 'vf_2', 'vf_3', 'vf_4', 'ecc_0',\n",
       "       'ecc_1', 'ecc_2'],\n",
       "      dtype='object')"
      ]
     },
     "execution_count": 81,
     "metadata": {},
     "output_type": "execute_result"
    }
   ],
   "source": [
    "data4.columns"
   ]
  },
  {
   "cell_type": "code",
   "execution_count": 82,
   "metadata": {},
   "outputs": [
    {
     "data": {
      "text/html": [
       "<div>\n",
       "<style scoped>\n",
       "    .dataframe tbody tr th:only-of-type {\n",
       "        vertical-align: middle;\n",
       "    }\n",
       "\n",
       "    .dataframe tbody tr th {\n",
       "        vertical-align: top;\n",
       "    }\n",
       "\n",
       "    .dataframe thead th {\n",
       "        text-align: right;\n",
       "    }\n",
       "</style>\n",
       "<table border=\"1\" class=\"dataframe\">\n",
       "  <thead>\n",
       "    <tr style=\"text-align: right;\">\n",
       "      <th></th>\n",
       "      <th>sbj</th>\n",
       "      <th>stm</th>\n",
       "      <th>rt</th>\n",
       "      <th>key</th>\n",
       "      <th>uhnd</th>\n",
       "      <th>hndns</th>\n",
       "      <th>eye</th>\n",
       "      <th>sex</th>\n",
       "      <th>age</th>\n",
       "      <th>edu</th>\n",
       "      <th>...</th>\n",
       "      <th>pos_12.0</th>\n",
       "      <th>pos_13.0</th>\n",
       "      <th>vf_0</th>\n",
       "      <th>vf_1</th>\n",
       "      <th>vf_2</th>\n",
       "      <th>vf_3</th>\n",
       "      <th>vf_4</th>\n",
       "      <th>ecc_0</th>\n",
       "      <th>ecc_1</th>\n",
       "      <th>ecc_2</th>\n",
       "    </tr>\n",
       "  </thead>\n",
       "  <tbody>\n",
       "    <tr>\n",
       "      <th>3</th>\n",
       "      <td>8101004202</td>\n",
       "      <td>5</td>\n",
       "      <td>925.664400</td>\n",
       "      <td>o</td>\n",
       "      <td>0</td>\n",
       "      <td>0</td>\n",
       "      <td>0</td>\n",
       "      <td>0</td>\n",
       "      <td>22.0</td>\n",
       "      <td>2.0</td>\n",
       "      <td>...</td>\n",
       "      <td>0</td>\n",
       "      <td>0</td>\n",
       "      <td>0</td>\n",
       "      <td>0</td>\n",
       "      <td>0</td>\n",
       "      <td>1</td>\n",
       "      <td>0</td>\n",
       "      <td>0</td>\n",
       "      <td>0</td>\n",
       "      <td>1</td>\n",
       "    </tr>\n",
       "    <tr>\n",
       "      <th>5</th>\n",
       "      <td>8101004202</td>\n",
       "      <td>7</td>\n",
       "      <td>1163.995200</td>\n",
       "      <td>o</td>\n",
       "      <td>0</td>\n",
       "      <td>0</td>\n",
       "      <td>0</td>\n",
       "      <td>0</td>\n",
       "      <td>22.0</td>\n",
       "      <td>2.0</td>\n",
       "      <td>...</td>\n",
       "      <td>0</td>\n",
       "      <td>0</td>\n",
       "      <td>0</td>\n",
       "      <td>0</td>\n",
       "      <td>0</td>\n",
       "      <td>0</td>\n",
       "      <td>1</td>\n",
       "      <td>0</td>\n",
       "      <td>1</td>\n",
       "      <td>0</td>\n",
       "    </tr>\n",
       "    <tr>\n",
       "      <th>6</th>\n",
       "      <td>8101004202</td>\n",
       "      <td>5</td>\n",
       "      <td>1023.111800</td>\n",
       "      <td>o</td>\n",
       "      <td>0</td>\n",
       "      <td>0</td>\n",
       "      <td>0</td>\n",
       "      <td>0</td>\n",
       "      <td>22.0</td>\n",
       "      <td>2.0</td>\n",
       "      <td>...</td>\n",
       "      <td>0</td>\n",
       "      <td>0</td>\n",
       "      <td>0</td>\n",
       "      <td>0</td>\n",
       "      <td>1</td>\n",
       "      <td>0</td>\n",
       "      <td>0</td>\n",
       "      <td>0</td>\n",
       "      <td>0</td>\n",
       "      <td>1</td>\n",
       "    </tr>\n",
       "    <tr>\n",
       "      <th>8</th>\n",
       "      <td>8101004202</td>\n",
       "      <td>8</td>\n",
       "      <td>970.425000</td>\n",
       "      <td>o</td>\n",
       "      <td>0</td>\n",
       "      <td>0</td>\n",
       "      <td>0</td>\n",
       "      <td>0</td>\n",
       "      <td>22.0</td>\n",
       "      <td>2.0</td>\n",
       "      <td>...</td>\n",
       "      <td>0</td>\n",
       "      <td>0</td>\n",
       "      <td>0</td>\n",
       "      <td>0</td>\n",
       "      <td>0</td>\n",
       "      <td>1</td>\n",
       "      <td>0</td>\n",
       "      <td>0</td>\n",
       "      <td>0</td>\n",
       "      <td>1</td>\n",
       "    </tr>\n",
       "    <tr>\n",
       "      <th>14</th>\n",
       "      <td>8101004202</td>\n",
       "      <td>6</td>\n",
       "      <td>1175.144300</td>\n",
       "      <td>p</td>\n",
       "      <td>0</td>\n",
       "      <td>0</td>\n",
       "      <td>0</td>\n",
       "      <td>0</td>\n",
       "      <td>22.0</td>\n",
       "      <td>2.0</td>\n",
       "      <td>...</td>\n",
       "      <td>0</td>\n",
       "      <td>1</td>\n",
       "      <td>0</td>\n",
       "      <td>1</td>\n",
       "      <td>0</td>\n",
       "      <td>0</td>\n",
       "      <td>0</td>\n",
       "      <td>0</td>\n",
       "      <td>0</td>\n",
       "      <td>1</td>\n",
       "    </tr>\n",
       "    <tr>\n",
       "      <th>...</th>\n",
       "      <td>...</td>\n",
       "      <td>...</td>\n",
       "      <td>...</td>\n",
       "      <td>...</td>\n",
       "      <td>...</td>\n",
       "      <td>...</td>\n",
       "      <td>...</td>\n",
       "      <td>...</td>\n",
       "      <td>...</td>\n",
       "      <td>...</td>\n",
       "      <td>...</td>\n",
       "      <td>...</td>\n",
       "      <td>...</td>\n",
       "      <td>...</td>\n",
       "      <td>...</td>\n",
       "      <td>...</td>\n",
       "      <td>...</td>\n",
       "      <td>...</td>\n",
       "      <td>...</td>\n",
       "      <td>...</td>\n",
       "      <td>...</td>\n",
       "    </tr>\n",
       "    <tr>\n",
       "      <th>121690</th>\n",
       "      <td>8101000632</td>\n",
       "      <td>5</td>\n",
       "      <td>454.452038</td>\n",
       "      <td>w</td>\n",
       "      <td>1</td>\n",
       "      <td>0</td>\n",
       "      <td>0</td>\n",
       "      <td>0</td>\n",
       "      <td>28.0</td>\n",
       "      <td>2.0</td>\n",
       "      <td>...</td>\n",
       "      <td>0</td>\n",
       "      <td>1</td>\n",
       "      <td>0</td>\n",
       "      <td>1</td>\n",
       "      <td>0</td>\n",
       "      <td>0</td>\n",
       "      <td>0</td>\n",
       "      <td>0</td>\n",
       "      <td>0</td>\n",
       "      <td>1</td>\n",
       "    </tr>\n",
       "    <tr>\n",
       "      <th>121691</th>\n",
       "      <td>8101000632</td>\n",
       "      <td>7</td>\n",
       "      <td>345.216036</td>\n",
       "      <td>q</td>\n",
       "      <td>1</td>\n",
       "      <td>0</td>\n",
       "      <td>0</td>\n",
       "      <td>0</td>\n",
       "      <td>28.0</td>\n",
       "      <td>2.0</td>\n",
       "      <td>...</td>\n",
       "      <td>0</td>\n",
       "      <td>0</td>\n",
       "      <td>1</td>\n",
       "      <td>0</td>\n",
       "      <td>0</td>\n",
       "      <td>0</td>\n",
       "      <td>0</td>\n",
       "      <td>1</td>\n",
       "      <td>0</td>\n",
       "      <td>0</td>\n",
       "    </tr>\n",
       "    <tr>\n",
       "      <th>121692</th>\n",
       "      <td>8101000632</td>\n",
       "      <td>0</td>\n",
       "      <td>395.338058</td>\n",
       "      <td>w</td>\n",
       "      <td>1</td>\n",
       "      <td>0</td>\n",
       "      <td>0</td>\n",
       "      <td>0</td>\n",
       "      <td>28.0</td>\n",
       "      <td>2.0</td>\n",
       "      <td>...</td>\n",
       "      <td>0</td>\n",
       "      <td>0</td>\n",
       "      <td>0</td>\n",
       "      <td>0</td>\n",
       "      <td>0</td>\n",
       "      <td>1</td>\n",
       "      <td>0</td>\n",
       "      <td>0</td>\n",
       "      <td>0</td>\n",
       "      <td>1</td>\n",
       "    </tr>\n",
       "    <tr>\n",
       "      <th>121693</th>\n",
       "      <td>8101000632</td>\n",
       "      <td>7</td>\n",
       "      <td>416.251898</td>\n",
       "      <td>q</td>\n",
       "      <td>1</td>\n",
       "      <td>0</td>\n",
       "      <td>0</td>\n",
       "      <td>0</td>\n",
       "      <td>28.0</td>\n",
       "      <td>2.0</td>\n",
       "      <td>...</td>\n",
       "      <td>0</td>\n",
       "      <td>0</td>\n",
       "      <td>0</td>\n",
       "      <td>0</td>\n",
       "      <td>0</td>\n",
       "      <td>0</td>\n",
       "      <td>1</td>\n",
       "      <td>0</td>\n",
       "      <td>1</td>\n",
       "      <td>0</td>\n",
       "    </tr>\n",
       "    <tr>\n",
       "      <th>121694</th>\n",
       "      <td>8101000632</td>\n",
       "      <td>3</td>\n",
       "      <td>303.602934</td>\n",
       "      <td>q</td>\n",
       "      <td>1</td>\n",
       "      <td>0</td>\n",
       "      <td>0</td>\n",
       "      <td>0</td>\n",
       "      <td>28.0</td>\n",
       "      <td>2.0</td>\n",
       "      <td>...</td>\n",
       "      <td>0</td>\n",
       "      <td>0</td>\n",
       "      <td>0</td>\n",
       "      <td>0</td>\n",
       "      <td>0</td>\n",
       "      <td>0</td>\n",
       "      <td>1</td>\n",
       "      <td>0</td>\n",
       "      <td>1</td>\n",
       "      <td>0</td>\n",
       "    </tr>\n",
       "  </tbody>\n",
       "</table>\n",
       "<p>110294 rows × 33 columns</p>\n",
       "</div>"
      ],
      "text/plain": [
       "               sbj  stm           rt key  uhnd  hndns  eye  sex   age  edu  \\\n",
       "3       8101004202    5   925.664400   o     0      0    0    0  22.0  2.0   \n",
       "5       8101004202    7  1163.995200   o     0      0    0    0  22.0  2.0   \n",
       "6       8101004202    5  1023.111800   o     0      0    0    0  22.0  2.0   \n",
       "8       8101004202    8   970.425000   o     0      0    0    0  22.0  2.0   \n",
       "14      8101004202    6  1175.144300   p     0      0    0    0  22.0  2.0   \n",
       "...            ...  ...          ...  ..   ...    ...  ...  ...   ...  ...   \n",
       "121690  8101000632    5   454.452038   w     1      0    0    0  28.0  2.0   \n",
       "121691  8101000632    7   345.216036   q     1      0    0    0  28.0  2.0   \n",
       "121692  8101000632    0   395.338058   w     1      0    0    0  28.0  2.0   \n",
       "121693  8101000632    7   416.251898   q     1      0    0    0  28.0  2.0   \n",
       "121694  8101000632    3   303.602934   q     1      0    0    0  28.0  2.0   \n",
       "\n",
       "        ...  pos_12.0  pos_13.0  vf_0  vf_1  vf_2  vf_3  vf_4  ecc_0  ecc_1  \\\n",
       "3       ...         0         0     0     0     0     1     0      0      0   \n",
       "5       ...         0         0     0     0     0     0     1      0      1   \n",
       "6       ...         0         0     0     0     1     0     0      0      0   \n",
       "8       ...         0         0     0     0     0     1     0      0      0   \n",
       "14      ...         0         1     0     1     0     0     0      0      0   \n",
       "...     ...       ...       ...   ...   ...   ...   ...   ...    ...    ...   \n",
       "121690  ...         0         1     0     1     0     0     0      0      0   \n",
       "121691  ...         0         0     1     0     0     0     0      1      0   \n",
       "121692  ...         0         0     0     0     0     1     0      0      0   \n",
       "121693  ...         0         0     0     0     0     0     1      0      1   \n",
       "121694  ...         0         0     0     0     0     0     1      0      1   \n",
       "\n",
       "        ecc_2  \n",
       "3           1  \n",
       "5           0  \n",
       "6           1  \n",
       "8           1  \n",
       "14          1  \n",
       "...       ...  \n",
       "121690      1  \n",
       "121691      0  \n",
       "121692      1  \n",
       "121693      0  \n",
       "121694      0  \n",
       "\n",
       "[110294 rows x 33 columns]"
      ]
     },
     "execution_count": 82,
     "metadata": {},
     "output_type": "execute_result"
    }
   ],
   "source": [
    "data4"
   ]
  },
  {
   "cell_type": "code",
   "execution_count": 83,
   "metadata": {},
   "outputs": [],
   "source": [
    "def get_pse(model, x):\n",
    "    pred_probs = [i[1] for i in  model.predict_proba(x)]\n",
    "    index=-1\n",
    "    if [ i[0] for i in enumerate(pred_probs) if i[1]>0.5 ] !=[]:\n",
    "        index = [ i[0] for i in enumerate(pred_probs) if i[1]>0.5 ][0]\n",
    "    return x[index][0]"
   ]
  },
  {
   "cell_type": "code",
   "execution_count": 84,
   "metadata": {},
   "outputs": [
    {
     "data": {
      "text/plain": [
       "<Figure size 1080x720 with 0 Axes>"
      ]
     },
     "metadata": {},
     "output_type": "display_data"
    }
   ],
   "source": [
    "from sklearn.linear_model import LogisticRegression\n",
    "probs = []\n",
    "df = {'sbj':[], 'pos':[], 'vf':[], 'ecc':[], 'pse_pos':[],'pse_vf':[], 'pse_ecc':[] }\n",
    "x = [[80/(i+1),1] for i in range(90, 9 , -1)]\n",
    "plt.figure(figsize = (15,10))\n",
    "for sbj in data4.sbj.unique():\n",
    "    for i in range(1, 14):\n",
    "        X, y = data4[data4.sbj == sbj][['stm','pos_'+str(i)+'.0']].values, data4[data4.sbj == sbj]['choice']\n",
    "        clf = LogisticRegression(random_state=0).fit(X, y)\n",
    "        pse = get_pse(clf, x)\n",
    "        df['sbj'].append(sbj)\n",
    "        df['pos'].append(i)\n",
    "        df['vf'].append(np.nan)\n",
    "        df['ecc'].append(np.nan)\n",
    "        df['pse_pos'].append(pse*10)\n",
    "        df['pse_vf'].append(np.nan)\n",
    "        df['pse_ecc'].append(np.nan)\n",
    "        plt.plot(  [i[1] for i in  clf.predict_proba(x)], marker = '.', linestyle='solid', label = 'pos'+str(i))\n",
    "    plt.axhline(y=0.5, color='r', linestyle='-', linewidth=2)\n",
    "    plt.xlabel('morphing value')\n",
    "    plt.ylabel('probability of female response')\n",
    "    plt.title('PSE for different locations for subject ' + sbj)\n",
    "    plt.ylim([0,1])\n",
    "    plt.legend()\n",
    "    plt.savefig('pse_loc/'+sbj +'.png', dpi=300, bbox_inches='tight')\n",
    "    plt.clf();"
   ]
  },
  {
   "cell_type": "code",
   "execution_count": 85,
   "metadata": {},
   "outputs": [
    {
     "data": {
      "text/plain": [
       "81"
      ]
     },
     "execution_count": 85,
     "metadata": {},
     "output_type": "execute_result"
    }
   ],
   "source": [
    "len(range(90, 9 , -1))"
   ]
  },
  {
   "cell_type": "code",
   "execution_count": 86,
   "metadata": {},
   "outputs": [
    {
     "data": {
      "text/plain": [
       "<Figure size 1080x720 with 0 Axes>"
      ]
     },
     "metadata": {},
     "output_type": "display_data"
    }
   ],
   "source": [
    "from sklearn.linear_model import LogisticRegression\n",
    "probs = []\n",
    "x = [[80/(i+1),1] for i in range(90, 9 , -1)]\n",
    "plt.figure(figsize = (15,10))\n",
    "for sbj in data4.sbj.unique():\n",
    "    for i in range(0, 5):\n",
    "        X, y = data4[data4.sbj == sbj][['stm','vf_'+str(i)]].values, data4[data4.sbj == sbj]['choice']\n",
    "        clf = LogisticRegression(random_state=0).fit(X, y)\n",
    "        plt.plot(  [i[1] for i in  clf.predict_proba(x)], marker = '.', linestyle='solid', label = 'vf_'+str(i))\n",
    "        pse = get_pse(clf, x)\n",
    "        df['sbj'].append(sbj)\n",
    "        df['pos'].append(np.nan)\n",
    "        df['vf'].append(i)\n",
    "        df['ecc'].append(np.nan)\n",
    "        df['pse_pos'].append(np.nan)\n",
    "        df['pse_vf'].append(pse*10)\n",
    "        df['pse_ecc'].append(np.nan)\n",
    "    plt.axhline(y=0.5, color='r', linestyle='-', linewidth=2)\n",
    "    plt.xlabel('morphing value')\n",
    "    plt.ylabel('probability of female response')\n",
    "    plt.title('PSE for different visual fields for subject ' + sbj)\n",
    "    plt.ylim([0,1])\n",
    "    plt.legend()\n",
    "    plt.savefig('pse_vf/'+sbj +'.png', dpi=300, bbox_inches='tight')\n",
    "    plt.clf();"
   ]
  },
  {
   "cell_type": "code",
   "execution_count": 87,
   "metadata": {},
   "outputs": [
    {
     "data": {
      "text/plain": [
       "<Figure size 1080x720 with 0 Axes>"
      ]
     },
     "metadata": {},
     "output_type": "display_data"
    }
   ],
   "source": [
    "from sklearn.linear_model import LogisticRegression\n",
    "probs = []\n",
    "x = [[80/(i+1),1] for i in range(90, 9 , -1)]\n",
    "plt.figure(figsize = (15,10))\n",
    "for sbj in data4.sbj.unique():\n",
    "    for i in range(0, 3):\n",
    "        X, y = data4[data4.sbj == sbj][['stm','ecc_'+str(i)]].values, data4[data4.sbj == sbj]['choice']\n",
    "        clf = LogisticRegression(random_state=0).fit(X, y)\n",
    "        plt.plot(  [i[1] for i in  clf.predict_proba(x)], marker = '.', linestyle='solid', label = 'ecc_'+str(i))\n",
    "        pse = get_pse(clf, x)\n",
    "        df['sbj'].append(sbj)\n",
    "        df['pos'].append(np.nan)\n",
    "        df['vf'].append(np.nan)\n",
    "        df['ecc'].append(i)\n",
    "        df['pse_pos'].append(np.nan)\n",
    "        df['pse_vf'].append(np.nan)\n",
    "        df['pse_ecc'].append(pse*10)\n",
    "    plt.axhline(y=0.5, color='r', linestyle='-', linewidth=2)\n",
    "    plt.xlabel('morphing value')\n",
    "    plt.ylabel('probability of female response')\n",
    "    plt.title('PSE for different Eccentricity for subject ' + sbj)\n",
    "    plt.ylim([0,1])\n",
    "    plt.legend()\n",
    "    plt.savefig('pse_ecc/'+sbj +'.png', dpi=300, bbox_inches='tight')\n",
    "    plt.clf();"
   ]
  },
  {
   "cell_type": "code",
   "execution_count": 88,
   "metadata": {},
   "outputs": [
    {
     "data": {
      "text/html": [
       "<div>\n",
       "<style scoped>\n",
       "    .dataframe tbody tr th:only-of-type {\n",
       "        vertical-align: middle;\n",
       "    }\n",
       "\n",
       "    .dataframe tbody tr th {\n",
       "        vertical-align: top;\n",
       "    }\n",
       "\n",
       "    .dataframe thead th {\n",
       "        text-align: right;\n",
       "    }\n",
       "</style>\n",
       "<table border=\"1\" class=\"dataframe\">\n",
       "  <thead>\n",
       "    <tr style=\"text-align: right;\">\n",
       "      <th></th>\n",
       "      <th>sbj</th>\n",
       "      <th>pos</th>\n",
       "      <th>vf</th>\n",
       "      <th>ecc</th>\n",
       "      <th>pse_pos</th>\n",
       "      <th>pse_vf</th>\n",
       "      <th>pse_ecc</th>\n",
       "    </tr>\n",
       "  </thead>\n",
       "  <tbody>\n",
       "    <tr>\n",
       "      <th>0</th>\n",
       "      <td>8101004202</td>\n",
       "      <td>1.0</td>\n",
       "      <td>NaN</td>\n",
       "      <td>NaN</td>\n",
       "      <td>72.727273</td>\n",
       "      <td>NaN</td>\n",
       "      <td>NaN</td>\n",
       "    </tr>\n",
       "    <tr>\n",
       "      <th>1</th>\n",
       "      <td>8101004202</td>\n",
       "      <td>2.0</td>\n",
       "      <td>NaN</td>\n",
       "      <td>NaN</td>\n",
       "      <td>72.727273</td>\n",
       "      <td>NaN</td>\n",
       "      <td>NaN</td>\n",
       "    </tr>\n",
       "    <tr>\n",
       "      <th>2</th>\n",
       "      <td>8101004202</td>\n",
       "      <td>3.0</td>\n",
       "      <td>NaN</td>\n",
       "      <td>NaN</td>\n",
       "      <td>72.727273</td>\n",
       "      <td>NaN</td>\n",
       "      <td>NaN</td>\n",
       "    </tr>\n",
       "    <tr>\n",
       "      <th>3</th>\n",
       "      <td>8101004202</td>\n",
       "      <td>4.0</td>\n",
       "      <td>NaN</td>\n",
       "      <td>NaN</td>\n",
       "      <td>57.142857</td>\n",
       "      <td>NaN</td>\n",
       "      <td>NaN</td>\n",
       "    </tr>\n",
       "    <tr>\n",
       "      <th>4</th>\n",
       "      <td>8101004202</td>\n",
       "      <td>5.0</td>\n",
       "      <td>NaN</td>\n",
       "      <td>NaN</td>\n",
       "      <td>8.791209</td>\n",
       "      <td>NaN</td>\n",
       "      <td>NaN</td>\n",
       "    </tr>\n",
       "  </tbody>\n",
       "</table>\n",
       "</div>"
      ],
      "text/plain": [
       "          sbj  pos  vf  ecc    pse_pos  pse_vf  pse_ecc\n",
       "0  8101004202  1.0 NaN  NaN  72.727273     NaN      NaN\n",
       "1  8101004202  2.0 NaN  NaN  72.727273     NaN      NaN\n",
       "2  8101004202  3.0 NaN  NaN  72.727273     NaN      NaN\n",
       "3  8101004202  4.0 NaN  NaN  57.142857     NaN      NaN\n",
       "4  8101004202  5.0 NaN  NaN   8.791209     NaN      NaN"
      ]
     },
     "execution_count": 88,
     "metadata": {},
     "output_type": "execute_result"
    }
   ],
   "source": [
    "pse_df = pd.DataFrame(df)\n",
    "pse_df.head()"
   ]
  },
  {
   "cell_type": "code",
   "execution_count": 89,
   "metadata": {},
   "outputs": [
    {
     "name": "stdout",
     "output_type": "stream",
     "text": [
      "                 sum_sq     df         F    PR(>F)\n",
      "C(pos)     21387.039020   12.0  3.647814  0.000023\n",
      "Residual  406499.502002  832.0       NaN       NaN\n"
     ]
    }
   ],
   "source": [
    "pse_loc = pse_df[~pse_df.pos.isna()]\n",
    "model = ols('pse_pos ~ C(pos)', data=pse_loc).fit()\n",
    "table = sm.stats.anova_lm(model, typ=2) # Type 2 ANOVA DataFrame\n",
    "print(table)"
   ]
  },
  {
   "cell_type": "code",
   "execution_count": 90,
   "metadata": {},
   "outputs": [
    {
     "name": "stdout",
     "output_type": "stream",
     "text": [
      "                 sum_sq     df         F    PR(>F)\n",
      "C(vf)       5126.129265    4.0  2.990816  0.019051\n",
      "Residual  137116.554085  320.0       NaN       NaN\n"
     ]
    }
   ],
   "source": [
    "pse_vf = pse_df[~pse_df.vf.isna()]\n",
    "model = ols('pse_vf ~ C(vf)', data=pse_vf).fit()\n",
    "table = sm.stats.anova_lm(model, typ=2) # Type 2 ANOVA DataFrame\n",
    "print(table)"
   ]
  },
  {
   "cell_type": "code",
   "execution_count": 91,
   "metadata": {},
   "outputs": [
    {
     "name": "stdout",
     "output_type": "stream",
     "text": [
      "                sum_sq     df        F    PR(>F)\n",
      "C(ecc)     1358.428874    2.0  2.00557  0.137393\n",
      "Residual  65023.486507  192.0      NaN       NaN\n"
     ]
    }
   ],
   "source": [
    "pse_ecc = pse_df[~pse_df.ecc.isna()]\n",
    "model = ols('pse_ecc ~ C(ecc)', data=pse_ecc).fit()\n",
    "table = sm.stats.anova_lm(model, typ=2) # Type 2 ANOVA DataFrame\n",
    "print(table)"
   ]
  },
  {
   "cell_type": "code",
   "execution_count": 92,
   "metadata": {},
   "outputs": [],
   "source": [
    "def draw_bs_replicates(data,func,size):\n",
    "    \"\"\"creates a bootstrap sample, computes replicates and returns replicates array\"\"\"\n",
    "    # Create an empty array to store replicates\n",
    "    bs_replicates = np.empty(size)\n",
    "    \n",
    "    # Create bootstrap replicates as much as size\n",
    "    for i in range(size):\n",
    "        # Create a bootstrap sample\n",
    "        bs_sample = np.random.choice(data,size=len(data))\n",
    "        # Get bootstrap replicate and append to bs_replicates\n",
    "        bs_replicates[i] = func(bs_sample)\n",
    "    \n",
    "    return bs_replicates"
   ]
  },
  {
   "cell_type": "code",
   "execution_count": 93,
   "metadata": {},
   "outputs": [
    {
     "data": {
      "text/html": [
       "<div>\n",
       "<style scoped>\n",
       "    .dataframe tbody tr th:only-of-type {\n",
       "        vertical-align: middle;\n",
       "    }\n",
       "\n",
       "    .dataframe tbody tr th {\n",
       "        vertical-align: top;\n",
       "    }\n",
       "\n",
       "    .dataframe thead th {\n",
       "        text-align: right;\n",
       "    }\n",
       "</style>\n",
       "<table border=\"1\" class=\"dataframe\">\n",
       "  <thead>\n",
       "    <tr style=\"text-align: right;\">\n",
       "      <th></th>\n",
       "      <th>sbj</th>\n",
       "      <th>pos</th>\n",
       "      <th>vf</th>\n",
       "      <th>ecc</th>\n",
       "      <th>pse_pos</th>\n",
       "      <th>pse_vf</th>\n",
       "      <th>pse_ecc</th>\n",
       "    </tr>\n",
       "  </thead>\n",
       "  <tbody>\n",
       "    <tr>\n",
       "      <th>0</th>\n",
       "      <td>8101004202</td>\n",
       "      <td>1.0</td>\n",
       "      <td>NaN</td>\n",
       "      <td>NaN</td>\n",
       "      <td>72.727273</td>\n",
       "      <td>NaN</td>\n",
       "      <td>NaN</td>\n",
       "    </tr>\n",
       "    <tr>\n",
       "      <th>1</th>\n",
       "      <td>8101004202</td>\n",
       "      <td>2.0</td>\n",
       "      <td>NaN</td>\n",
       "      <td>NaN</td>\n",
       "      <td>72.727273</td>\n",
       "      <td>NaN</td>\n",
       "      <td>NaN</td>\n",
       "    </tr>\n",
       "    <tr>\n",
       "      <th>2</th>\n",
       "      <td>8101004202</td>\n",
       "      <td>3.0</td>\n",
       "      <td>NaN</td>\n",
       "      <td>NaN</td>\n",
       "      <td>72.727273</td>\n",
       "      <td>NaN</td>\n",
       "      <td>NaN</td>\n",
       "    </tr>\n",
       "    <tr>\n",
       "      <th>3</th>\n",
       "      <td>8101004202</td>\n",
       "      <td>4.0</td>\n",
       "      <td>NaN</td>\n",
       "      <td>NaN</td>\n",
       "      <td>57.142857</td>\n",
       "      <td>NaN</td>\n",
       "      <td>NaN</td>\n",
       "    </tr>\n",
       "    <tr>\n",
       "      <th>4</th>\n",
       "      <td>8101004202</td>\n",
       "      <td>5.0</td>\n",
       "      <td>NaN</td>\n",
       "      <td>NaN</td>\n",
       "      <td>8.791209</td>\n",
       "      <td>NaN</td>\n",
       "      <td>NaN</td>\n",
       "    </tr>\n",
       "    <tr>\n",
       "      <th>...</th>\n",
       "      <td>...</td>\n",
       "      <td>...</td>\n",
       "      <td>...</td>\n",
       "      <td>...</td>\n",
       "      <td>...</td>\n",
       "      <td>...</td>\n",
       "      <td>...</td>\n",
       "    </tr>\n",
       "    <tr>\n",
       "      <th>840</th>\n",
       "      <td>8101000632</td>\n",
       "      <td>9.0</td>\n",
       "      <td>NaN</td>\n",
       "      <td>NaN</td>\n",
       "      <td>72.727273</td>\n",
       "      <td>NaN</td>\n",
       "      <td>NaN</td>\n",
       "    </tr>\n",
       "    <tr>\n",
       "      <th>841</th>\n",
       "      <td>8101000632</td>\n",
       "      <td>10.0</td>\n",
       "      <td>NaN</td>\n",
       "      <td>NaN</td>\n",
       "      <td>8.791209</td>\n",
       "      <td>NaN</td>\n",
       "      <td>NaN</td>\n",
       "    </tr>\n",
       "    <tr>\n",
       "      <th>842</th>\n",
       "      <td>8101000632</td>\n",
       "      <td>11.0</td>\n",
       "      <td>NaN</td>\n",
       "      <td>NaN</td>\n",
       "      <td>72.727273</td>\n",
       "      <td>NaN</td>\n",
       "      <td>NaN</td>\n",
       "    </tr>\n",
       "    <tr>\n",
       "      <th>843</th>\n",
       "      <td>8101000632</td>\n",
       "      <td>12.0</td>\n",
       "      <td>NaN</td>\n",
       "      <td>NaN</td>\n",
       "      <td>8.791209</td>\n",
       "      <td>NaN</td>\n",
       "      <td>NaN</td>\n",
       "    </tr>\n",
       "    <tr>\n",
       "      <th>844</th>\n",
       "      <td>8101000632</td>\n",
       "      <td>13.0</td>\n",
       "      <td>NaN</td>\n",
       "      <td>NaN</td>\n",
       "      <td>8.791209</td>\n",
       "      <td>NaN</td>\n",
       "      <td>NaN</td>\n",
       "    </tr>\n",
       "  </tbody>\n",
       "</table>\n",
       "<p>845 rows × 7 columns</p>\n",
       "</div>"
      ],
      "text/plain": [
       "            sbj   pos  vf  ecc    pse_pos  pse_vf  pse_ecc\n",
       "0    8101004202   1.0 NaN  NaN  72.727273     NaN      NaN\n",
       "1    8101004202   2.0 NaN  NaN  72.727273     NaN      NaN\n",
       "2    8101004202   3.0 NaN  NaN  72.727273     NaN      NaN\n",
       "3    8101004202   4.0 NaN  NaN  57.142857     NaN      NaN\n",
       "4    8101004202   5.0 NaN  NaN   8.791209     NaN      NaN\n",
       "..          ...   ...  ..  ...        ...     ...      ...\n",
       "840  8101000632   9.0 NaN  NaN  72.727273     NaN      NaN\n",
       "841  8101000632  10.0 NaN  NaN   8.791209     NaN      NaN\n",
       "842  8101000632  11.0 NaN  NaN  72.727273     NaN      NaN\n",
       "843  8101000632  12.0 NaN  NaN   8.791209     NaN      NaN\n",
       "844  8101000632  13.0 NaN  NaN   8.791209     NaN      NaN\n",
       "\n",
       "[845 rows x 7 columns]"
      ]
     },
     "execution_count": 93,
     "metadata": {},
     "output_type": "execute_result"
    }
   ],
   "source": [
    "pse_loc"
   ]
  },
  {
   "cell_type": "code",
   "execution_count": 94,
   "metadata": {},
   "outputs": [],
   "source": [
    "pos_means = {}\n",
    "pos_intervals = {}\n",
    "for pos in pse_loc.pos.unique():\n",
    "    # Draw 300 bootstrap replicates\n",
    "    data = pse_loc[pse_loc.pos == pos]['pse_pos']\n",
    "    bs_replicates_pos = draw_bs_replicates(data,np.mean,1500)\n",
    "    pos_means[str(pos)]= np.mean(bs_replicates_pos)\n",
    "    pos_intervals[str(pos)] = np.percentile(bs_replicates_pos,[2.5,97.5])\n"
   ]
  },
  {
   "cell_type": "code",
   "execution_count": 95,
   "metadata": {},
   "outputs": [
    {
     "data": {
      "image/png": "[encoded data removed]",
      "text/plain": [
       "<Figure size 432x288 with 1 Axes>"
      ]
     },
     "metadata": {},
     "output_type": "display_data"
    }
   ],
   "source": [
    "fig, ax = plt.subplots()\n",
    "fig = plt.gcf()\n",
    "ax.errorbar( pos_means.keys(), pos_means.values(),\n",
    "            yerr=[i[1] - i[0] for i in pos_intervals.values()],\n",
    "            fmt='-o')\n",
    "ax.set_xlabel('locationsmean pse')\n",
    "ax.set_ylabel('mean pse')\n",
    "ax.set_title('mean of pse per each location')\n",
    "\n",
    "plt.show()"
   ]
  },
  {
   "cell_type": "code",
   "execution_count": 96,
   "metadata": {},
   "outputs": [],
   "source": [
    "vf_means = {}\n",
    "vf_intervals = {}\n",
    "for vf in pse_vf.vf.unique():\n",
    "    # Draw 300 bootstrap replicates\n",
    "    data = pse_vf[pse_vf.vf == vf]['pse_vf']\n",
    "    bs_replicates_vf = draw_bs_replicates(data,np.mean,1500)\n",
    "    vf_means[str(vf)]= np.mean(bs_replicates_vf)\n",
    "    vf_intervals[str(vf)] = np.percentile(bs_replicates_vf,[2.5,97.5])\n"
   ]
  },
  {
   "cell_type": "code",
   "execution_count": 97,
   "metadata": {},
   "outputs": [
    {
     "data": {
      "image/png": "[encoded data removed]",
      "text/plain": [
       "<Figure size 432x288 with 1 Axes>"
      ]
     },
     "metadata": {},
     "output_type": "display_data"
    }
   ],
   "source": [
    "fig, ax = plt.subplots()\n",
    "fig = plt.gcf()\n",
    "ax.errorbar( vf_means.keys(), vf_means.values(),\n",
    "            yerr=[i[1] - i[0] for i in vf_intervals.values()],\n",
    "            fmt='-o')\n",
    "ax.set_xlabel('visual fields')\n",
    "ax.set_ylabel('mean pse')\n",
    "ax.set_title('mean of pse per each visual fields')\n",
    "\n",
    "plt.show()"
   ]
  },
  {
   "cell_type": "code",
   "execution_count": 98,
   "metadata": {},
   "outputs": [],
   "source": [
    "ecc_means = {}\n",
    "ecc_intervals = {}\n",
    "for ecc in pse_ecc.ecc.unique():\n",
    "    # Draw 300 bootstrap replicates\n",
    "    data = pse_ecc[pse_ecc.ecc == ecc]['pse_ecc']\n",
    "    bs_replicates_ecc = draw_bs_replicates(data,np.mean,1500)\n",
    "    ecc_means[str(ecc)]= np.mean(bs_replicates_ecc)\n",
    "    ecc_intervals[str(ecc)] = np.percentile(bs_replicates_ecc,[2.5,97.5])\n"
   ]
  },
  {
   "cell_type": "code",
   "execution_count": 99,
   "metadata": {},
   "outputs": [
    {
     "data": {
      "image/png": "[encoded data removed]",
      "text/plain": [
       "<Figure size 432x288 with 1 Axes>"
      ]
     },
     "metadata": {},
     "output_type": "display_data"
    }
   ],
   "source": [
    "fig, ax = plt.subplots()\n",
    "fig = plt.gcf()\n",
    "ax.errorbar( ecc_means.keys(), ecc_means.values(),\n",
    "            yerr=[i[1] - i[0] for i in ecc_intervals.values()],\n",
    "            fmt='-o')\n",
    "ax.set_xlabel('Eccentricity')\n",
    "ax.set_ylabel('mean pse')\n",
    "ax.set_title('mean of pse per each Eccentricity')\n",
    "\n",
    "plt.show()"
   ]
  },
  {
   "cell_type": "markdown",
   "metadata": {},
   "source": [
    "# 5. Spread of PSEs"
   ]
  },
  {
   "cell_type": "code",
   "execution_count": 100,
   "metadata": {},
   "outputs": [],
   "source": [
    "pse_df['ecc'] = 0\n",
    "pse_df.loc[((pse_df.pos< 8) & (pse_df.pos >1)), 'ecc'] = 1\n",
    "pse_df.loc[((pse_df.pos< 14) & (pse_df.pos >7)), 'ecc'] = 2"
   ]
  },
  {
   "cell_type": "code",
   "execution_count": 101,
   "metadata": {},
   "outputs": [],
   "source": [
    "pse_df['vf'] = 0\n",
    "pse_df.loc[(pse_df.pos.isin([2, 8, 13])), 'vf'] = 1\n",
    "pse_df.loc[(pse_df.pos.isin([3, 4, 9])), 'vf'] = 2\n",
    "pse_df.loc[(pse_df.pos.isin([5, 10, 11])), 'vf'] = 3\n",
    "pse_df.loc[(pse_df.pos.isin([6, 7, 12])), 'vf'] = 4"
   ]
  },
  {
   "cell_type": "code",
   "execution_count": 102,
   "metadata": {},
   "outputs": [
    {
     "data": {
      "text/html": [
       "<div>\n",
       "<style scoped>\n",
       "    .dataframe tbody tr th:only-of-type {\n",
       "        vertical-align: middle;\n",
       "    }\n",
       "\n",
       "    .dataframe tbody tr th {\n",
       "        vertical-align: top;\n",
       "    }\n",
       "\n",
       "    .dataframe thead th {\n",
       "        text-align: right;\n",
       "    }\n",
       "</style>\n",
       "<table border=\"1\" class=\"dataframe\">\n",
       "  <thead>\n",
       "    <tr style=\"text-align: right;\">\n",
       "      <th></th>\n",
       "      <th>sbj</th>\n",
       "      <th>pos</th>\n",
       "      <th>vf</th>\n",
       "      <th>ecc</th>\n",
       "      <th>pse_pos</th>\n",
       "      <th>pse_vf</th>\n",
       "      <th>pse_ecc</th>\n",
       "    </tr>\n",
       "  </thead>\n",
       "  <tbody>\n",
       "    <tr>\n",
       "      <th>0</th>\n",
       "      <td>8101004202</td>\n",
       "      <td>1.0</td>\n",
       "      <td>0</td>\n",
       "      <td>0</td>\n",
       "      <td>72.727273</td>\n",
       "      <td>NaN</td>\n",
       "      <td>NaN</td>\n",
       "    </tr>\n",
       "    <tr>\n",
       "      <th>1</th>\n",
       "      <td>8101004202</td>\n",
       "      <td>2.0</td>\n",
       "      <td>1</td>\n",
       "      <td>1</td>\n",
       "      <td>72.727273</td>\n",
       "      <td>NaN</td>\n",
       "      <td>NaN</td>\n",
       "    </tr>\n",
       "    <tr>\n",
       "      <th>2</th>\n",
       "      <td>8101004202</td>\n",
       "      <td>3.0</td>\n",
       "      <td>2</td>\n",
       "      <td>1</td>\n",
       "      <td>72.727273</td>\n",
       "      <td>NaN</td>\n",
       "      <td>NaN</td>\n",
       "    </tr>\n",
       "    <tr>\n",
       "      <th>3</th>\n",
       "      <td>8101004202</td>\n",
       "      <td>4.0</td>\n",
       "      <td>2</td>\n",
       "      <td>1</td>\n",
       "      <td>57.142857</td>\n",
       "      <td>NaN</td>\n",
       "      <td>NaN</td>\n",
       "    </tr>\n",
       "    <tr>\n",
       "      <th>4</th>\n",
       "      <td>8101004202</td>\n",
       "      <td>5.0</td>\n",
       "      <td>3</td>\n",
       "      <td>1</td>\n",
       "      <td>8.791209</td>\n",
       "      <td>NaN</td>\n",
       "      <td>NaN</td>\n",
       "    </tr>\n",
       "  </tbody>\n",
       "</table>\n",
       "</div>"
      ],
      "text/plain": [
       "          sbj  pos  vf  ecc    pse_pos  pse_vf  pse_ecc\n",
       "0  8101004202  1.0   0    0  72.727273     NaN      NaN\n",
       "1  8101004202  2.0   1    1  72.727273     NaN      NaN\n",
       "2  8101004202  3.0   2    1  72.727273     NaN      NaN\n",
       "3  8101004202  4.0   2    1  57.142857     NaN      NaN\n",
       "4  8101004202  5.0   3    1   8.791209     NaN      NaN"
      ]
     },
     "execution_count": 102,
     "metadata": {},
     "output_type": "execute_result"
    }
   ],
   "source": [
    "pse_loc = pse_df[~pse_df.pos.isna()]\n",
    "pse_loc.head()"
   ]
  },
  {
   "cell_type": "code",
   "execution_count": 103,
   "metadata": {},
   "outputs": [
    {
     "name": "stdout",
     "output_type": "stream",
     "text": [
      "                sum_sq     df         F        PR(>F)\n",
      "C(vf)      4497.789445    4.0  13.35816  4.449534e-10\n",
      "Residual  26936.581250  320.0       NaN           NaN\n"
     ]
    }
   ],
   "source": [
    "vf_htrgn = {'vf':[],'pse_std':[]}\n",
    "for sbj in pse_loc.sbj.unique():\n",
    "    data = pse_loc[pse_loc.sbj == sbj]\n",
    "    for vf in pse_loc.vf.unique():\n",
    "        vf_htrgn['pse_std'].append(np.std(data[data.vf==vf]['pse_pos'].values))\n",
    "        vf_htrgn['vf'].append(vf)\n",
    "        \n",
    "vf_htrgn_df = pd.DataFrame(vf_htrgn)\n",
    "model = ols('pse_std ~ C(vf)', data=vf_htrgn_df).fit()\n",
    "table = sm.stats.anova_lm(model, typ=2) # Type 2 ANOVA DataFrame\n",
    "print(table)"
   ]
  },
  {
   "cell_type": "code",
   "execution_count": 104,
   "metadata": {},
   "outputs": [
    {
     "name": "stdout",
     "output_type": "stream",
     "text": [
      "                sum_sq     df          F        PR(>F)\n",
      "C(ecc)     7742.546316    2.0  52.622885  5.995321e-19\n",
      "Residual  14124.737710  192.0        NaN           NaN\n"
     ]
    }
   ],
   "source": [
    "ecc_htrgn = {'ecc':[],'pse_std':[]}\n",
    "for sbj in pse_loc.sbj.unique():\n",
    "    data = pse_loc[pse_loc.sbj == sbj]\n",
    "    for ecc in pse_loc.ecc.unique():\n",
    "        ecc_htrgn['pse_std'].append(np.std(data[data.ecc==ecc]['pse_pos'].values))\n",
    "        ecc_htrgn['ecc'].append(ecc)\n",
    "        \n",
    "ecc_htrgn_df = pd.DataFrame(ecc_htrgn)\n",
    "model = ols('pse_std ~ C(ecc)', data=ecc_htrgn_df).fit()\n",
    "table = sm.stats.anova_lm(model, typ=2) # Type 2 ANOVA DataFrame\n",
    "print(table)"
   ]
  },
  {
   "cell_type": "markdown",
   "metadata": {},
   "source": [
    "# 6. Reaction Time Correlation to Choice Complexity"
   ]
  },
  {
   "cell_type": "code",
   "execution_count": 105,
   "metadata": {},
   "outputs": [
    {
     "data": {
      "text/html": [
       "<div>\n",
       "<style scoped>\n",
       "    .dataframe tbody tr th:only-of-type {\n",
       "        vertical-align: middle;\n",
       "    }\n",
       "\n",
       "    .dataframe tbody tr th {\n",
       "        vertical-align: top;\n",
       "    }\n",
       "\n",
       "    .dataframe thead th {\n",
       "        text-align: right;\n",
       "    }\n",
       "</style>\n",
       "<table border=\"1\" class=\"dataframe\">\n",
       "  <thead>\n",
       "    <tr style=\"text-align: right;\">\n",
       "      <th></th>\n",
       "      <th>sbj</th>\n",
       "      <th>stm</th>\n",
       "      <th>rt</th>\n",
       "      <th>key</th>\n",
       "      <th>pos</th>\n",
       "      <th>uhnd</th>\n",
       "      <th>hndns</th>\n",
       "      <th>eye</th>\n",
       "      <th>sex</th>\n",
       "      <th>age</th>\n",
       "      <th>edu</th>\n",
       "      <th>lrt</th>\n",
       "      <th>acc</th>\n",
       "      <th>ecc</th>\n",
       "      <th>vf</th>\n",
       "      <th>udhnd</th>\n",
       "      <th>hrdns</th>\n",
       "    </tr>\n",
       "  </thead>\n",
       "  <tbody>\n",
       "    <tr>\n",
       "      <th>0</th>\n",
       "      <td>8101004202</td>\n",
       "      <td>50.bmp</td>\n",
       "      <td>925.6644</td>\n",
       "      <td>o</td>\n",
       "      <td>10.0</td>\n",
       "      <td>r</td>\n",
       "      <td>r</td>\n",
       "      <td>r</td>\n",
       "      <td>m</td>\n",
       "      <td>22.0</td>\n",
       "      <td>2.0</td>\n",
       "      <td>6.830512</td>\n",
       "      <td>1</td>\n",
       "      <td>2</td>\n",
       "      <td>3</td>\n",
       "      <td>1</td>\n",
       "      <td>30</td>\n",
       "    </tr>\n",
       "    <tr>\n",
       "      <th>1</th>\n",
       "      <td>8101004202</td>\n",
       "      <td>70.bmp</td>\n",
       "      <td>1163.9952</td>\n",
       "      <td>o</td>\n",
       "      <td>6.0</td>\n",
       "      <td>r</td>\n",
       "      <td>r</td>\n",
       "      <td>r</td>\n",
       "      <td>m</td>\n",
       "      <td>22.0</td>\n",
       "      <td>2.0</td>\n",
       "      <td>7.059614</td>\n",
       "      <td>1</td>\n",
       "      <td>1</td>\n",
       "      <td>4</td>\n",
       "      <td>1</td>\n",
       "      <td>10</td>\n",
       "    </tr>\n",
       "    <tr>\n",
       "      <th>2</th>\n",
       "      <td>8101004202</td>\n",
       "      <td>50.bmp</td>\n",
       "      <td>1023.1118</td>\n",
       "      <td>o</td>\n",
       "      <td>9.0</td>\n",
       "      <td>r</td>\n",
       "      <td>r</td>\n",
       "      <td>r</td>\n",
       "      <td>m</td>\n",
       "      <td>22.0</td>\n",
       "      <td>2.0</td>\n",
       "      <td>6.930604</td>\n",
       "      <td>1</td>\n",
       "      <td>2</td>\n",
       "      <td>2</td>\n",
       "      <td>1</td>\n",
       "      <td>30</td>\n",
       "    </tr>\n",
       "    <tr>\n",
       "      <th>3</th>\n",
       "      <td>8101004202</td>\n",
       "      <td>80.bmp</td>\n",
       "      <td>970.4250</td>\n",
       "      <td>o</td>\n",
       "      <td>10.0</td>\n",
       "      <td>r</td>\n",
       "      <td>r</td>\n",
       "      <td>r</td>\n",
       "      <td>m</td>\n",
       "      <td>22.0</td>\n",
       "      <td>2.0</td>\n",
       "      <td>6.877734</td>\n",
       "      <td>1</td>\n",
       "      <td>2</td>\n",
       "      <td>3</td>\n",
       "      <td>1</td>\n",
       "      <td>0</td>\n",
       "    </tr>\n",
       "    <tr>\n",
       "      <th>4</th>\n",
       "      <td>8101004202</td>\n",
       "      <td>60.bmp</td>\n",
       "      <td>1175.1443</td>\n",
       "      <td>p</td>\n",
       "      <td>13.0</td>\n",
       "      <td>r</td>\n",
       "      <td>r</td>\n",
       "      <td>r</td>\n",
       "      <td>m</td>\n",
       "      <td>22.0</td>\n",
       "      <td>2.0</td>\n",
       "      <td>7.069146</td>\n",
       "      <td>0</td>\n",
       "      <td>2</td>\n",
       "      <td>1</td>\n",
       "      <td>1</td>\n",
       "      <td>20</td>\n",
       "    </tr>\n",
       "  </tbody>\n",
       "</table>\n",
       "</div>"
      ],
      "text/plain": [
       "          sbj     stm         rt key   pos uhnd hndns eye sex   age  edu  \\\n",
       "0  8101004202  50.bmp   925.6644   o  10.0    r     r   r   m  22.0  2.0   \n",
       "1  8101004202  70.bmp  1163.9952   o   6.0    r     r   r   m  22.0  2.0   \n",
       "2  8101004202  50.bmp  1023.1118   o   9.0    r     r   r   m  22.0  2.0   \n",
       "3  8101004202  80.bmp   970.4250   o  10.0    r     r   r   m  22.0  2.0   \n",
       "4  8101004202  60.bmp  1175.1443   p  13.0    r     r   r   m  22.0  2.0   \n",
       "\n",
       "        lrt  acc  ecc  vf  udhnd  hrdns  \n",
       "0  6.830512    1    2   3      1     30  \n",
       "1  7.059614    1    1   4      1     10  \n",
       "2  6.930604    1    2   2      1     30  \n",
       "3  6.877734    1    2   3      1      0  \n",
       "4  7.069146    0    2   1      1     20  "
      ]
     },
     "execution_count": 105,
     "metadata": {},
     "output_type": "execute_result"
    }
   ],
   "source": [
    "clean_data['hrdns'] = clean_data.stm.apply(lambda x: np.abs(40 - np.abs(40 -int(x.split('.')[0]))))\n",
    "clean_data.head()"
   ]
  },
  {
   "cell_type": "code",
   "execution_count": 106,
   "metadata": {},
   "outputs": [
    {
     "name": "stdout",
     "output_type": "stream",
     "text": [
      "                sum_sq       df         F    PR(>F)\n",
      "C(hrdns)  5.545910e+05      3.0  3.878542  0.008744\n",
      "Residual  4.678285e+09  98153.0       NaN       NaN\n"
     ]
    }
   ],
   "source": [
    "model = ols('rt ~ C(hrdns)', data=clean_data).fit()\n",
    "table = sm.stats.anova_lm(model, typ=2) # Type 2 ANOVA DataFrame\n",
    "print(table)"
   ]
  },
  {
   "cell_type": "markdown",
   "metadata": {},
   "source": [
    "# 7.Representational Similarity Analysis (RSA)"
   ]
  },
  {
   "cell_type": "code",
   "execution_count": 107,
   "metadata": {},
   "outputs": [
    {
     "data": {
      "text/html": [
       "<div>\n",
       "<style scoped>\n",
       "    .dataframe tbody tr th:only-of-type {\n",
       "        vertical-align: middle;\n",
       "    }\n",
       "\n",
       "    .dataframe tbody tr th {\n",
       "        vertical-align: top;\n",
       "    }\n",
       "\n",
       "    .dataframe thead th {\n",
       "        text-align: right;\n",
       "    }\n",
       "</style>\n",
       "<table border=\"1\" class=\"dataframe\">\n",
       "  <thead>\n",
       "    <tr style=\"text-align: right;\">\n",
       "      <th></th>\n",
       "      <th>sbj</th>\n",
       "      <th>pos</th>\n",
       "      <th>vf</th>\n",
       "      <th>ecc</th>\n",
       "      <th>pse_pos</th>\n",
       "      <th>pse_vf</th>\n",
       "      <th>pse_ecc</th>\n",
       "    </tr>\n",
       "  </thead>\n",
       "  <tbody>\n",
       "    <tr>\n",
       "      <th>0</th>\n",
       "      <td>8101004202</td>\n",
       "      <td>1.0</td>\n",
       "      <td>0</td>\n",
       "      <td>0</td>\n",
       "      <td>72.727273</td>\n",
       "      <td>NaN</td>\n",
       "      <td>NaN</td>\n",
       "    </tr>\n",
       "    <tr>\n",
       "      <th>1</th>\n",
       "      <td>8101004202</td>\n",
       "      <td>2.0</td>\n",
       "      <td>1</td>\n",
       "      <td>1</td>\n",
       "      <td>72.727273</td>\n",
       "      <td>NaN</td>\n",
       "      <td>NaN</td>\n",
       "    </tr>\n",
       "    <tr>\n",
       "      <th>2</th>\n",
       "      <td>8101004202</td>\n",
       "      <td>3.0</td>\n",
       "      <td>2</td>\n",
       "      <td>1</td>\n",
       "      <td>72.727273</td>\n",
       "      <td>NaN</td>\n",
       "      <td>NaN</td>\n",
       "    </tr>\n",
       "    <tr>\n",
       "      <th>3</th>\n",
       "      <td>8101004202</td>\n",
       "      <td>4.0</td>\n",
       "      <td>2</td>\n",
       "      <td>1</td>\n",
       "      <td>57.142857</td>\n",
       "      <td>NaN</td>\n",
       "      <td>NaN</td>\n",
       "    </tr>\n",
       "    <tr>\n",
       "      <th>4</th>\n",
       "      <td>8101004202</td>\n",
       "      <td>5.0</td>\n",
       "      <td>3</td>\n",
       "      <td>1</td>\n",
       "      <td>8.791209</td>\n",
       "      <td>NaN</td>\n",
       "      <td>NaN</td>\n",
       "    </tr>\n",
       "    <tr>\n",
       "      <th>...</th>\n",
       "      <td>...</td>\n",
       "      <td>...</td>\n",
       "      <td>...</td>\n",
       "      <td>...</td>\n",
       "      <td>...</td>\n",
       "      <td>...</td>\n",
       "      <td>...</td>\n",
       "    </tr>\n",
       "    <tr>\n",
       "      <th>840</th>\n",
       "      <td>8101000632</td>\n",
       "      <td>9.0</td>\n",
       "      <td>2</td>\n",
       "      <td>2</td>\n",
       "      <td>72.727273</td>\n",
       "      <td>NaN</td>\n",
       "      <td>NaN</td>\n",
       "    </tr>\n",
       "    <tr>\n",
       "      <th>841</th>\n",
       "      <td>8101000632</td>\n",
       "      <td>10.0</td>\n",
       "      <td>3</td>\n",
       "      <td>2</td>\n",
       "      <td>8.791209</td>\n",
       "      <td>NaN</td>\n",
       "      <td>NaN</td>\n",
       "    </tr>\n",
       "    <tr>\n",
       "      <th>842</th>\n",
       "      <td>8101000632</td>\n",
       "      <td>11.0</td>\n",
       "      <td>3</td>\n",
       "      <td>2</td>\n",
       "      <td>72.727273</td>\n",
       "      <td>NaN</td>\n",
       "      <td>NaN</td>\n",
       "    </tr>\n",
       "    <tr>\n",
       "      <th>843</th>\n",
       "      <td>8101000632</td>\n",
       "      <td>12.0</td>\n",
       "      <td>4</td>\n",
       "      <td>2</td>\n",
       "      <td>8.791209</td>\n",
       "      <td>NaN</td>\n",
       "      <td>NaN</td>\n",
       "    </tr>\n",
       "    <tr>\n",
       "      <th>844</th>\n",
       "      <td>8101000632</td>\n",
       "      <td>13.0</td>\n",
       "      <td>1</td>\n",
       "      <td>2</td>\n",
       "      <td>8.791209</td>\n",
       "      <td>NaN</td>\n",
       "      <td>NaN</td>\n",
       "    </tr>\n",
       "  </tbody>\n",
       "</table>\n",
       "<p>845 rows × 7 columns</p>\n",
       "</div>"
      ],
      "text/plain": [
       "            sbj   pos  vf  ecc    pse_pos  pse_vf  pse_ecc\n",
       "0    8101004202   1.0   0    0  72.727273     NaN      NaN\n",
       "1    8101004202   2.0   1    1  72.727273     NaN      NaN\n",
       "2    8101004202   3.0   2    1  72.727273     NaN      NaN\n",
       "3    8101004202   4.0   2    1  57.142857     NaN      NaN\n",
       "4    8101004202   5.0   3    1   8.791209     NaN      NaN\n",
       "..          ...   ...  ..  ...        ...     ...      ...\n",
       "840  8101000632   9.0   2    2  72.727273     NaN      NaN\n",
       "841  8101000632  10.0   3    2   8.791209     NaN      NaN\n",
       "842  8101000632  11.0   3    2  72.727273     NaN      NaN\n",
       "843  8101000632  12.0   4    2   8.791209     NaN      NaN\n",
       "844  8101000632  13.0   1    2   8.791209     NaN      NaN\n",
       "\n",
       "[845 rows x 7 columns]"
      ]
     },
     "execution_count": 107,
     "metadata": {},
     "output_type": "execute_result"
    }
   ],
   "source": [
    "pse_loc"
   ]
  },
  {
   "cell_type": "code",
   "execution_count": 108,
   "metadata": {},
   "outputs": [
    {
     "name": "stderr",
     "output_type": "stream",
     "text": [
      "C:\\dev\\python38\\lib\\site-packages\\seaborn\\matrix.py:629: ClusterWarning: scipy.cluster: The symmetric non-negative hollow observation matrix looks suspiciously like an uncondensed distance matrix\n",
      "  linkage = hierarchy.linkage(self.array, method=self.method,\n"
     ]
    },
    {
     "data": {
      "image/png": "[encoded data removed]",
      "text/plain": [
       "<Figure size 1440x1080 with 4 Axes>"
      ]
     },
     "metadata": {},
     "output_type": "display_data"
    }
   ],
   "source": [
    "rda_dict = {}\n",
    "for sbj in pse_loc.sbj.unique():\n",
    "    rda_dict[sbj] = pse_loc[pse_loc.sbj == sbj].pse_pos.values\n",
    "dim = len(list(rda_dict.keys()))\n",
    "rsa_matrix = np.zeros((dim,dim))\n",
    "pse_vecs = list(rda_dict.values())\n",
    "for row in range(dim):\n",
    "    for col in range(dim):\n",
    "        rsa_matrix[row][col] = np.linalg.norm(pse_vecs[row] - pse_vecs[col])\n",
    "\n",
    "g = sns.clustermap(rsa_matrix, yticklabels=1, xticklabels=1)\n",
    "g.fig.set_figwidth(20)\n",
    "g.fig.set_figheight(15)"
   ]
  },
  {
   "cell_type": "code",
   "execution_count": 234,
   "metadata": {},
   "outputs": [],
   "source": [
    "cl1_loc = [42, 23, 31, 21, 64, 47, 63, 5, 37]\n",
    "cl2_loc = [i for i in range(65) if i not in cl1_loc]\n",
    "cl1_loc_sbj = [list(rda_dict.keys())[i] for i in cl1_loc]\n",
    "cl2_loc_sbj = [list(rda_dict.keys())[i] for i in cl2_loc]"
   ]
  },
  {
   "cell_type": "code",
   "execution_count": 235,
   "metadata": {},
   "outputs": [],
   "source": [
    "data4['cluster_loc'] = data4['sbj'].apply(lambda x : 1 if x in cl2_loc_sbj else 0)"
   ]
  },
  {
   "cell_type": "code",
   "execution_count": 236,
   "metadata": {},
   "outputs": [
    {
     "data": {
      "image/png": "[encoded data removed]",
      "text/plain": [
       "<Figure size 720x504 with 1 Axes>"
      ]
     },
     "metadata": {},
     "output_type": "display_data"
    }
   ],
   "source": [
    "from sklearn.tree import DecisionTreeRegressor\n",
    "params = ['sex','uhnd','hndns','eye','udhnd','pos_1.0','pos_2.0','pos_3.0','pos_4.0','pos_5.0','pos_6.0','pos_7.0','pos_8.0','pos_9.0','pos_10.0','pos_11.0','pos_12.0','pos_13.0',\n",
    "          'vf_0','vf_1','vf_2','vf_3','vf_4','ecc_0','ecc_1','ecc_2'] \n",
    "model = DecisionTreeRegressor() \n",
    "# fit the model \n",
    "model.fit(data4[params], np.array(data4['cluster_loc']))\n",
    "importance = model.feature_importances_\n",
    "plt.figure(figsize=(10, 7))\n",
    "plt.bar(params, importance)\n",
    "plt.xlabel('feature')\n",
    "plt.ylabel('percentage')\n",
    "plt.xticks(rotation=90);"
   ]
  },
  {
   "cell_type": "code",
   "execution_count": 109,
   "metadata": {},
   "outputs": [
    {
     "data": {
      "image/png": "[encoded data removed]",
      "text/plain": [
       "<Figure size 1440x1080 with 4 Axes>"
      ]
     },
     "metadata": {},
     "output_type": "display_data"
    }
   ],
   "source": [
    "rda_vf_dict = {}\n",
    "for sbj in pse_vf.sbj.unique():\n",
    "    rda_vf_dict[sbj] = pse_vf[pse_vf.sbj == sbj].pse_vf.values\n",
    "dim = len(list(rda_vf_dict.keys()))\n",
    "rsa_vf_matrix = np.zeros((dim,dim))\n",
    "pse_vecs = list(rda_vf_dict.values())\n",
    "for row in range(dim):\n",
    "    for col in range(dim):\n",
    "        rsa_vf_matrix[row][col] = np.linalg.norm(pse_vecs[row] - pse_vecs[col])\n",
    "\n",
    "g = sns.clustermap(rsa_vf_matrix, yticklabels=1, xticklabels=1)\n",
    "g.fig.set_figwidth(20)\n",
    "g.fig.set_figheight(15)"
   ]
  },
  {
   "cell_type": "code",
   "execution_count": 214,
   "metadata": {},
   "outputs": [],
   "source": [
    "cl1_vf = [21, 64, 40, 37, 23, 5, 31]\n",
    "cl2_vf = [i for i in range(65) if i not in cl1_vf]\n",
    "cl1_vf_sbj = [list(rda_dict.keys())[i] for i in cl1_vf]\n",
    "cl2_vf_sbj = [list(rda_dict.keys())[i] for i in cl2_vf]"
   ]
  },
  {
   "cell_type": "code",
   "execution_count": 216,
   "metadata": {},
   "outputs": [],
   "source": [
    "data4['udhnd'] = data4[['uhnd','hndns']].apply(lambda x: 1 if x.uhnd == x.hndns else 0, axis=1)\n",
    "data4['cluster_vf'] = data4['sbj'].apply(lambda x : 1 if x in cl2_vf_sbj else 0)"
   ]
  },
  {
   "cell_type": "code",
   "execution_count": 229,
   "metadata": {},
   "outputs": [
    {
     "data": {
      "image/png": "[encoded data removed]",
      "text/plain": [
       "<Figure size 720x504 with 1 Axes>"
      ]
     },
     "metadata": {},
     "output_type": "display_data"
    }
   ],
   "source": [
    "from sklearn.tree import DecisionTreeRegressor\n",
    "params = ['sex','uhnd','hndns','eye','udhnd','pos_1.0','pos_2.0','pos_3.0','pos_4.0','pos_5.0','pos_6.0','pos_7.0','pos_8.0','pos_9.0','pos_10.0','pos_11.0','pos_12.0','pos_13.0',\n",
    "          'vf_0','vf_1','vf_2','vf_3','vf_4','ecc_0','ecc_1','ecc_2'] \n",
    "model = DecisionTreeRegressor() \n",
    "# fit the model \n",
    "model.fit(data4[params], np.array(data4['cluster_vf']))\n",
    "importance = model.feature_importances_\n",
    "plt.figure(figsize=(10, 7))\n",
    "plt.bar(params, importance)\n",
    "plt.xlabel('feature')\n",
    "plt.ylabel('percentage')\n",
    "plt.xticks(rotation=90);"
   ]
  },
  {
   "cell_type": "code",
   "execution_count": 110,
   "metadata": {},
   "outputs": [
    {
     "data": {
      "image/png": "[encoded data removed]",
      "text/plain": [
       "<Figure size 1440x1080 with 4 Axes>"
      ]
     },
     "metadata": {},
     "output_type": "display_data"
    }
   ],
   "source": [
    "rda_ecc_dict = {}\n",
    "for sbj in pse_ecc.sbj.unique():\n",
    "    rda_ecc_dict[sbj] = pse_ecc[pse_ecc.sbj == sbj].pse_ecc.values\n",
    "dim = len(list(rda_ecc_dict.keys()))\n",
    "rsa_ecc_matrix = np.zeros((dim,dim))\n",
    "pse_vecs = list(rda_ecc_dict.values())\n",
    "for row in range(dim):\n",
    "    for col in range(dim):\n",
    "        rsa_ecc_matrix[row][col] = np.linalg.norm(pse_vecs[row] - pse_vecs[col])\n",
    "\n",
    "g = sns.clustermap(rsa_ecc_matrix, yticklabels=1, xticklabels=1)\n",
    "g.fig.set_figwidth(20)\n",
    "g.fig.set_figheight(15)"
   ]
  },
  {
   "cell_type": "code",
   "execution_count": 231,
   "metadata": {},
   "outputs": [],
   "source": [
    "cl1_ecc = [40, 23, 31, 5, 62, 64, 21, 35]\n",
    "cl2_ecc = [i for i in range(65) if i not in cl1_ecc]\n",
    "cl1_ecc_sbj = [list(rda_dict.keys())[i] for i in cl1_ecc]\n",
    "cl2_ecc_sbj = [list(rda_dict.keys())[i] for i in cl2_ecc]"
   ]
  },
  {
   "cell_type": "code",
   "execution_count": 232,
   "metadata": {},
   "outputs": [],
   "source": [
    "data4['cluster_ecc'] = data4['sbj'].apply(lambda x : 1 if x in cl2_ecc_sbj else 0)"
   ]
  },
  {
   "cell_type": "code",
   "execution_count": 233,
   "metadata": {},
   "outputs": [
    {
     "data": {
      "image/png": "[encoded data removed]",
      "text/plain": [
       "<Figure size 720x504 with 1 Axes>"
      ]
     },
     "metadata": {},
     "output_type": "display_data"
    }
   ],
   "source": [
    "from sklearn.tree import DecisionTreeRegressor\n",
    "params = ['sex','uhnd','hndns','eye','udhnd','pos_1.0','pos_2.0','pos_3.0','pos_4.0','pos_5.0','pos_6.0','pos_7.0','pos_8.0','pos_9.0','pos_10.0','pos_11.0','pos_12.0','pos_13.0',\n",
    "          'vf_0','vf_1','vf_2','vf_3','vf_4','ecc_0','ecc_1','ecc_2'] \n",
    "model = DecisionTreeRegressor() \n",
    "# fit the model \n",
    "model.fit(data4[params], np.array(data4['cluster_ecc']))\n",
    "importance = model.feature_importances_\n",
    "plt.figure(figsize=(10, 7))\n",
    "plt.bar(params, importance)\n",
    "plt.xlabel('feature')\n",
    "plt.ylabel('percentage')\n",
    "plt.xticks(rotation=90);"
   ]
  }
 ],
 "metadata": {
  "interpreter": {
   "hash": "1931afe8a8d7b0a461075628450608118a3125decaa10fc64be4d4dff92469b3"
  },
  "kernelspec": {
   "display_name": "Python 3.8.2 64-bit",
   "language": "python",
   "name": "python3"
  },
  "language_info": {
   "codemirror_mode": {
    "name": "ipython",
    "version": 3
   },
   "file_extension": ".py",
   "mimetype": "text/x-python",
   "name": "python",
   "nbconvert_exporter": "python",
   "pygments_lexer": "ipython3",
   "version": "3.8.2"
  },
  "orig_nbformat": 4
 },
 "nbformat": 4,
 "nbformat_minor": 2
}

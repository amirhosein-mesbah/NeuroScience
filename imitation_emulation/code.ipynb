{
 "cells": [
  {
   "cell_type": "code",
   "execution_count": 1,
   "metadata": {},
   "outputs": [],
   "source": [
    "import numpy as np\n",
    "import pandas as pd\n",
    "import glob\n",
    "import statsmodels.api as sm"
   ]
  },
  {
   "cell_type": "markdown",
   "metadata": {},
   "source": [
    "## Behavioral analysis"
   ]
  },
  {
   "cell_type": "code",
   "execution_count": 13,
   "metadata": {},
   "outputs": [],
   "source": [
    "def select_dep(x):\n",
    "    unav_action = x['unavAct']\n",
    "    if x['trType']==2:\n",
    "        if unav_action==2:\n",
    "            if x['choice']<unav_action:\n",
    "                return 1\n",
    "            else:\n",
    "                return 0\n",
    "        elif unav_action==3:\n",
    "            if x['choice']==1:\n",
    "                return 1\n",
    "            else:\n",
    "                return 0\n",
    "        else:\n",
    "            if x['choice']==2:\n",
    "                return 1\n",
    "            else:\n",
    "                return 0\n",
    "    \n",
    "def left_most(x):\n",
    "    observed_action = x['corrAct']\n",
    "    hidden_action = x['unavAct']\n",
    "    if observed_action ==1:\n",
    "        return 1\n",
    "    elif hidden_action==1:\n",
    "        return 0\n",
    "    elif observed_action!=1:\n",
    "        return -1\n",
    "    \n",
    "    \n",
    "        "
   ]
  },
  {
   "cell_type": "code",
   "execution_count": 14,
   "metadata": {},
   "outputs": [],
   "source": [
    "df_dirs = glob.glob(\"data\\study1\\*.xlsx\")\n",
    "action_beta = []\n",
    "token_beta = []\n",
    "for dir in df_dirs:\n",
    "    df =pd.read_excel(dir)\n",
    "    df= df.dropna(subset=['tokenShown']).reset_index(drop=True)\n",
    "    df['dependent'] = df.apply(lambda row: select_dep(row), axis=1)\n",
    "    df['switches'] = df['goalToken'].diff()\n",
    "    df['left_most'] = df.apply(lambda row: left_most(row), axis=1)\n",
    "    switch_indexes = df[(df.switches!=0) & (~ df.switches.isna())].index\n",
    "    df['past_action_score'] = 0\n",
    "    cum_sum =0 \n",
    "    for i in range(df.shape[0]):\n",
    "        if i in switch_indexes:\n",
    "            cum_sum=0\n",
    "        else:\n",
    "            cum_sum += df['left_most'][i]\n",
    "        if df['trType'][i]==2:\n",
    "            df.loc[i, 'past_action_score'] = cum_sum\n",
    "                \n",
    "    df['past_token_score']=0\n",
    "    color_map= [{'0':'pBlue', '1':'pRed','2':'pGreen'}, {'0':'pGreen', '1':'pBlue','2':'pRed'}, {'0':'pRed', '1':'pGreen','2':'pBlue'}]\n",
    "    prob_sum = 0\n",
    "    for i in range(df.shape[0]):\n",
    "        if i in switch_indexes:\n",
    "            prob_sum=0\n",
    "        else:\n",
    "            hidden_action = df['unavAct'][i]\n",
    "            left = 2 if hidden_action==1 else 1\n",
    "            right = 2 if hidden_action==3 else 3\n",
    "            shown_token = df['tokenShown'][i]\n",
    "            \n",
    "            p_left_shown_token = df[color_map[left-1][str(int(shown_token)-1)]][i]\n",
    "            p_right_shown_token = df[color_map[right-1][str(int(shown_token)-1)]][i]\n",
    "            \n",
    "            prob_sum += (p_left_shown_token - p_right_shown_token)\n",
    "        \n",
    "        if df['trType'][i]==2:\n",
    "            df.loc[i, 'past_token_score'] = prob_sum\n",
    "            \n",
    "    Binomial_model = sm.GLM(df[df.trType==2].dependent, df[df.trType==2].past_action_score, family=sm.families.Binomial())\n",
    "    Binomial_results = Binomial_model.fit()\n",
    "    action_beta.append(Binomial_results.params['past_action_score'])\n",
    "    \n",
    "    Binomial_model = sm.GLM(df[df.trType==2].dependent, df[df.trType==2].past_token_score, family=sm.families.Binomial())\n",
    "    Binomial_results = Binomial_model.fit()\n",
    "    token_beta.append(Binomial_results.params['past_token_score']) \n",
    "\n",
    "        \n",
    "    \n",
    "    \n",
    "    \n",
    "    \n"
   ]
  },
  {
   "cell_type": "code",
   "execution_count": 15,
   "metadata": {},
   "outputs": [
    {
     "data": {
      "text/plain": [
       "<AxesSubplot:xlabel='labels', ylabel='betas'>"
      ]
     },
     "execution_count": 15,
     "metadata": {},
     "output_type": "execute_result"
    },
    {
     "data": {
      "image/png": "[encoded data removed]",
      "text/plain": [
       "<Figure size 432x288 with 1 Axes>"
      ]
     },
     "metadata": {
      "needs_background": "light"
     },
     "output_type": "display_data"
    }
   ],
   "source": [
    "import seaborn as sns\n",
    "import matplotlib.pyplot as plt\n",
    "action_label = ['Action Learning' for i in range(len(action_beta))]\n",
    "token_label = ['Token Learning' for i in range(len(token_beta))]\n",
    "\n",
    "final_list = action_beta + token_beta\n",
    "final_label = action_label + token_label\n",
    "\n",
    "data = pd.DataFrame({'betas':final_list,\n",
    "                     'labels':final_label})\n",
    "sns.violinplot(x=\"labels\", y=\"betas\", data=data)\n",
    "\n"
   ]
  },
  {
   "cell_type": "code",
   "execution_count": 16,
   "metadata": {},
   "outputs": [
    {
     "name": "stdout",
     "output_type": "stream",
     "text": [
      "0.00019998000199980003\n"
     ]
    }
   ],
   "source": [
    "from mlxtend.evaluate import permutation_test\n",
    "\n",
    "p_value = permutation_test(action_beta, token_beta,\n",
    "                           method='approximate',\n",
    "                           num_rounds=10000,\n",
    "                           seed=0)\n",
    "print(p_value)"
   ]
  },
  {
   "cell_type": "code",
   "execution_count": 67,
   "metadata": {},
   "outputs": [
    {
     "name": "stdout",
     "output_type": "stream",
     "text": [
      "                 Generalized Linear Model Regression Results                  \n",
      "==============================================================================\n",
      "Dep. Variable:              dependent   No. Observations:                   80\n",
      "Model:                            GLM   Df Residuals:                       79\n",
      "Model Family:                Binomial   Df Model:                            0\n",
      "Link Function:                  logit   Scale:                          1.0000\n",
      "Method:                          IRLS   Log-Likelihood:                -55.418\n",
      "Date:                Mon, 20 Jun 2022   Deviance:                       110.84\n",
      "Time:                        19:38:41   Pearson chi2:                     80.0\n",
      "No. Iterations:                     3                                         \n",
      "Covariance Type:            nonrobust                                         \n",
      "====================================================================================\n",
      "                       coef    std err          z      P>|z|      [0.025      0.975]\n",
      "------------------------------------------------------------------------------------\n",
      "past_token_score    -0.0494      0.192     -0.258      0.797      -0.425       0.326\n",
      "====================================================================================\n"
     ]
    }
   ],
   "source": [
    "print(Binomial_results.summary())"
   ]
  },
  {
   "cell_type": "markdown",
   "metadata": {},
   "source": [
    "## Emulation Inference"
   ]
  },
  {
   "cell_type": "code",
   "execution_count": 17,
   "metadata": {},
   "outputs": [
    {
     "data": {
      "text/html": [
       "<div>\n",
       "<style scoped>\n",
       "    .dataframe tbody tr th:only-of-type {\n",
       "        vertical-align: middle;\n",
       "    }\n",
       "\n",
       "    .dataframe tbody tr th {\n",
       "        vertical-align: top;\n",
       "    }\n",
       "\n",
       "    .dataframe thead th {\n",
       "        text-align: right;\n",
       "    }\n",
       "</style>\n",
       "<table border=\"1\" class=\"dataframe\">\n",
       "  <thead>\n",
       "    <tr style=\"text-align: right;\">\n",
       "      <th></th>\n",
       "      <th>index</th>\n",
       "      <th>trialNb</th>\n",
       "      <th>runPos</th>\n",
       "      <th>runNb</th>\n",
       "      <th>trType</th>\n",
       "      <th>goalToken</th>\n",
       "      <th>tvCond</th>\n",
       "      <th>buCond</th>\n",
       "      <th>unavAct</th>\n",
       "      <th>corrAct</th>\n",
       "      <th>...</th>\n",
       "      <th>pBlue</th>\n",
       "      <th>pGoal</th>\n",
       "      <th>randn</th>\n",
       "      <th>isGoal</th>\n",
       "      <th>tokenShown</th>\n",
       "      <th>token_onset</th>\n",
       "      <th>outcome</th>\n",
       "      <th>fixation_iti_onset</th>\n",
       "      <th>miss</th>\n",
       "      <th>missed_onset</th>\n",
       "    </tr>\n",
       "  </thead>\n",
       "  <tbody>\n",
       "    <tr>\n",
       "      <th>0</th>\n",
       "      <td>0</td>\n",
       "      <td>1</td>\n",
       "      <td>1</td>\n",
       "      <td>4</td>\n",
       "      <td>1</td>\n",
       "      <td>1</td>\n",
       "      <td>1</td>\n",
       "      <td>2</td>\n",
       "      <td>1</td>\n",
       "      <td>3</td>\n",
       "      <td>...</td>\n",
       "      <td>0.5</td>\n",
       "      <td>0.3</td>\n",
       "      <td>0.880821</td>\n",
       "      <td>0.0</td>\n",
       "      <td>2.0</td>\n",
       "      <td>9.033105</td>\n",
       "      <td>0</td>\n",
       "      <td>10.034542</td>\n",
       "      <td>0</td>\n",
       "      <td>NaN</td>\n",
       "    </tr>\n",
       "    <tr>\n",
       "      <th>1</th>\n",
       "      <td>1</td>\n",
       "      <td>2</td>\n",
       "      <td>1</td>\n",
       "      <td>4</td>\n",
       "      <td>1</td>\n",
       "      <td>1</td>\n",
       "      <td>1</td>\n",
       "      <td>2</td>\n",
       "      <td>3</td>\n",
       "      <td>1</td>\n",
       "      <td>...</td>\n",
       "      <td>0.2</td>\n",
       "      <td>0.5</td>\n",
       "      <td>0.190481</td>\n",
       "      <td>1.0</td>\n",
       "      <td>1.0</td>\n",
       "      <td>25.010186</td>\n",
       "      <td>0</td>\n",
       "      <td>26.006287</td>\n",
       "      <td>0</td>\n",
       "      <td>NaN</td>\n",
       "    </tr>\n",
       "    <tr>\n",
       "      <th>2</th>\n",
       "      <td>2</td>\n",
       "      <td>3</td>\n",
       "      <td>1</td>\n",
       "      <td>4</td>\n",
       "      <td>1</td>\n",
       "      <td>1</td>\n",
       "      <td>1</td>\n",
       "      <td>2</td>\n",
       "      <td>2</td>\n",
       "      <td>1</td>\n",
       "      <td>...</td>\n",
       "      <td>0.2</td>\n",
       "      <td>0.5</td>\n",
       "      <td>0.714558</td>\n",
       "      <td>0.0</td>\n",
       "      <td>2.0</td>\n",
       "      <td>39.022731</td>\n",
       "      <td>0</td>\n",
       "      <td>40.022561</td>\n",
       "      <td>0</td>\n",
       "      <td>NaN</td>\n",
       "    </tr>\n",
       "    <tr>\n",
       "      <th>3</th>\n",
       "      <td>3</td>\n",
       "      <td>4</td>\n",
       "      <td>1</td>\n",
       "      <td>4</td>\n",
       "      <td>2</td>\n",
       "      <td>1</td>\n",
       "      <td>1</td>\n",
       "      <td>2</td>\n",
       "      <td>1</td>\n",
       "      <td>3</td>\n",
       "      <td>...</td>\n",
       "      <td>0.5</td>\n",
       "      <td>0.3</td>\n",
       "      <td>0.135449</td>\n",
       "      <td>0.0</td>\n",
       "      <td>3.0</td>\n",
       "      <td>51.579524</td>\n",
       "      <td>0</td>\n",
       "      <td>52.579051</td>\n",
       "      <td>0</td>\n",
       "      <td>NaN</td>\n",
       "    </tr>\n",
       "    <tr>\n",
       "      <th>4</th>\n",
       "      <td>4</td>\n",
       "      <td>5</td>\n",
       "      <td>1</td>\n",
       "      <td>4</td>\n",
       "      <td>1</td>\n",
       "      <td>1</td>\n",
       "      <td>1</td>\n",
       "      <td>2</td>\n",
       "      <td>2</td>\n",
       "      <td>1</td>\n",
       "      <td>...</td>\n",
       "      <td>0.2</td>\n",
       "      <td>0.5</td>\n",
       "      <td>0.452964</td>\n",
       "      <td>1.0</td>\n",
       "      <td>1.0</td>\n",
       "      <td>65.557423</td>\n",
       "      <td>0</td>\n",
       "      <td>66.562102</td>\n",
       "      <td>0</td>\n",
       "      <td>NaN</td>\n",
       "    </tr>\n",
       "  </tbody>\n",
       "</table>\n",
       "<p>5 rows × 37 columns</p>\n",
       "</div>"
      ],
      "text/plain": [
       "   index  trialNb  runPos  runNb  trType  goalToken  tvCond  buCond  unavAct  \\\n",
       "0      0        1       1      4       1          1       1       2        1   \n",
       "1      1        2       1      4       1          1       1       2        3   \n",
       "2      2        3       1      4       1          1       1       2        2   \n",
       "3      3        4       1      4       2          1       1       2        1   \n",
       "4      4        5       1      4       1          1       1       2        2   \n",
       "\n",
       "   corrAct  ...  pBlue  pGoal     randn  isGoal  tokenShown  token_onset  \\\n",
       "0        3  ...    0.5    0.3  0.880821     0.0         2.0     9.033105   \n",
       "1        1  ...    0.2    0.5  0.190481     1.0         1.0    25.010186   \n",
       "2        1  ...    0.2    0.5  0.714558     0.0         2.0    39.022731   \n",
       "3        3  ...    0.5    0.3  0.135449     0.0         3.0    51.579524   \n",
       "4        1  ...    0.2    0.5  0.452964     1.0         1.0    65.557423   \n",
       "\n",
       "   outcome  fixation_iti_onset  miss  missed_onset  \n",
       "0        0           10.034542     0           NaN  \n",
       "1        0           26.006287     0           NaN  \n",
       "2        0           40.022561     0           NaN  \n",
       "3        0           52.579051     0           NaN  \n",
       "4        0           66.562102     0           NaN  \n",
       "\n",
       "[5 rows x 37 columns]"
      ]
     },
     "execution_count": 17,
     "metadata": {},
     "output_type": "execute_result"
    }
   ],
   "source": [
    "df_dirs = glob.glob(\"data\\study1\\*.xlsx\")\n",
    "df = pd.read_excel(df_dirs[0])\n",
    "df.head()"
   ]
  },
  {
   "cell_type": "code",
   "execution_count": 7,
   "metadata": {},
   "outputs": [
    {
     "data": {
      "text/plain": [
       "Index(['index', 'trialNb', 'runPos', 'runNb', 'trType', 'goalToken', 'tvCond',\n",
       "       'buCond', 'unavAct', 'corrAct', 'bestAct', 'vertOrd', 'horizOrd',\n",
       "       'obsplay_onset', 'sm_onset', 'fixation1_onset', 'choose_onset',\n",
       "       'choice', 'choiceRT', 'isCorr', 'resp_onset', 'ch_fb_onset',\n",
       "       'video_onset', 'video_nb', 'fixation2_onset', 'pGreen', 'pRed', 'pBlue',\n",
       "       'pGoal', 'randn', 'isGoal', 'tokenShown', 'token_onset', 'outcome',\n",
       "       'fixation_iti_onset', 'miss', 'missed_onset'],\n",
       "      dtype='object')"
      ]
     },
     "execution_count": 7,
     "metadata": {},
     "output_type": "execute_result"
    }
   ],
   "source": [
    "df.columns"
   ]
  },
  {
   "cell_type": "code",
   "execution_count": 18,
   "metadata": {},
   "outputs": [],
   "source": [
    "import random\n",
    "random.shuffle(df_dirs)"
   ]
  },
  {
   "cell_type": "code",
   "execution_count": 23,
   "metadata": {},
   "outputs": [],
   "source": [
    "color_map = [{'0':'pBlue', '1':'pRed','2':'pGreen'}, {'0':'pGreen', '1':'pBlue','2':'pRed'}, {'0':'pRed', '1':'pGreen','2':'pBlue'}]\n",
    "color_values = {'green':1/3, 'blue':1/3, 'red':1/3}\n",
    "machine_values = [0, 0 , 0]\n",
    "gamma = 0.99\n",
    "df = pd.read_excel(df_dirs[0])\n",
    "df= df.dropna(subset=['tokenShown']).reset_index(drop=True)\n",
    "observable_trials = df[df.trType==1].reset_index(drop=True)\n",
    "for i in range(observable_trials.shape[0]):\n",
    "    hidden_action = observable_trials['unavAct'][i]\n",
    "    left = 2 if hidden_action==1 else 1\n",
    "    right = 2 if hidden_action==3 else 3\n",
    "    shown_token = observable_trials['tokenShown'][i]\n",
    "    selected_machine = observable_trials['corrAct'][i]\n",
    "    \n",
    "    p_prior_green = gamma * color_values['green'] + (1-gamma) * (color_values['blue'] + color_values['red'])/2\n",
    "    p_prior_red = gamma * color_values['red'] + (1-gamma) * (color_values['blue'] + color_values['green'])/2\n",
    "    p_prior_blue = gamma * color_values['blue'] + (1-gamma) * (color_values['green'] + color_values['red'])/2\n",
    "\n",
    "    p_evidence_green = 1 if (int(shown_token)-1) ==2 else 0\n",
    "    color_values['green'] = p_prior_green * p_evidence_green\n",
    "    \n",
    "    p_evidence_red = 1 if (int(shown_token)-1) ==1 else 0\n",
    "    color_values['red'] = p_prior_red * p_evidence_red\n",
    "    \n",
    "    p_evidence_blue = 1 if (int(shown_token)-1) ==0 else 0\n",
    "    color_values['blue'] = p_prior_blue * p_evidence_blue\n",
    "\n",
    "    machine_values[0] = observable_trials[color_map[0]['0']][i] * color_values['blue'] + observable_trials[color_map[0]['1']][i] * color_values['red'] +observable_trials[color_map[0]['2']][i] * color_values['green']\n",
    "    machine_values[1] = observable_trials[color_map[0]['0']][i] * color_values['blue'] + observable_trials[color_map[0]['1']][i] * color_values['red'] +observable_trials[color_map[0]['2']][i] * color_values['green']\n",
    "    machine_values[2] =  observable_trials[color_map[0]['0']][i] * color_values['blue'] + observable_trials[color_map[0]['1']][i] * color_values['red'] +observable_trials[color_map[0]['2']][i] * color_values['green']\n"
   ]
  },
  {
   "cell_type": "code",
   "execution_count": 25,
   "metadata": {},
   "outputs": [],
   "source": [
    "color_map = [{'0':'pBlue', '1':'pRed','2':'pGreen'}, {'0':'pGreen', '1':'pBlue','2':'pRed'}, {'0':'pRed', '1':'pGreen','2':'pBlue'}]\n",
    "color_values = {'green':1/3, 'blue':1/3, 'red':1/3}\n",
    "machine_values = [0, 0 , 0]\n",
    "gamma = 0.99\n",
    "for dir in df_dirs[:-5]:\n",
    "    df = pd.read_excel(dir)\n",
    "    df= df.dropna(subset=['tokenShown']).reset_index(drop=True)\n",
    "    observable_trials = df[df.trType==1].reset_index(drop=True)\n",
    "    for i in range(observable_trials.shape[0]):\n",
    "        hidden_action = observable_trials['unavAct'][i]\n",
    "        left = 2 if hidden_action==1 else 1\n",
    "        right = 2 if hidden_action==3 else 3\n",
    "        shown_token = observable_trials['tokenShown'][i]\n",
    "        selected_machine = observable_trials['corrAct'][i]\n",
    "        \n",
    "        p_prior_green = gamma * color_values['green'] + (1-gamma) * (color_values['blue'] + color_values['red'])/2\n",
    "        p_prior_red = gamma * color_values['red'] + (1-gamma) * (color_values['blue'] + color_values['green'])/2\n",
    "        p_prior_blue = gamma * color_values['blue'] + (1-gamma) * (color_values['green'] + color_values['red'])/2\n",
    "        \n",
    "        p_evidence_green = 1 if (int(shown_token)-1) ==2 else 0\n",
    "        color_values['green'] = p_prior_green * p_evidence_green\n",
    "        \n",
    "        p_evidence_red = 1 if (int(shown_token)-1) ==1 else 0\n",
    "        color_values['red'] = p_prior_red * p_evidence_red\n",
    "        \n",
    "        p_evidence_blue = 1 if (int(shown_token)-1) ==0 else 0\n",
    "        color_values['blue'] = p_prior_blue * p_evidence_blue\n",
    "\n",
    "        machine_values[0] = observable_trials[color_map[0]['0']][i] * color_values['blue'] + observable_trials[color_map[0]['1']][i] * color_values['red'] +observable_trials[color_map[0]['2']][i] * color_values['green']\n",
    "        machine_values[1] = observable_trials[color_map[0]['0']][i] * color_values['blue'] + observable_trials[color_map[0]['1']][i] * color_values['red'] +observable_trials[color_map[0]['2']][i] * color_values['green']\n",
    "        machine_values[2] =  observable_trials[color_map[0]['0']][i] * color_values['blue'] + observable_trials[color_map[0]['1']][i] * color_values['red'] +observable_trials[color_map[0]['2']][i] * color_values['green']\n",
    "\n",
    "predicted_action = []\n",
    "selected_action = []\n",
    "beta = 0.5\n",
    "for dir in df_dirs[-5:]:     \n",
    "    df = pd.read_excel(dir)  \n",
    "    play_trials = df[df.trType==2].dropna(subset=['choice']).reset_index(drop=True)\n",
    "    for i in range(play_trials.shape[0]):\n",
    "        hidden_action = play_trials['unavAct'][i]\n",
    "        left = 2 if hidden_action==1 else 1\n",
    "        right = 2 if hidden_action==3 else 3\n",
    "        \n",
    "        p_left = 1/(1+ np.exp(-beta *(machine_values[left-1] - machine_values[right-1])))\n",
    "        p_right = 1- p_left\n",
    "        \n",
    "        predicted_action.append(np.random.choice([left,right], p=[p_left, p_right]))\n",
    "        selected_action.append(int(play_trials['choice'][i]))\n",
    "    \n",
    "           \n",
    "\n"
   ]
  },
  {
   "cell_type": "code",
   "execution_count": 28,
   "metadata": {},
   "outputs": [
    {
     "data": {
      "text/plain": [
       "0.49624060150375937"
      ]
     },
     "execution_count": 28,
     "metadata": {},
     "output_type": "execute_result"
    }
   ],
   "source": [
    "count = 0\n",
    "for i in range(len(predicted_action)):\n",
    "    if predicted_action[i]==selected_action[i]:\n",
    "        count+=1\n",
    "    \n",
    "count/len(predicted_action)"
   ]
  },
  {
   "cell_type": "markdown",
   "metadata": {},
   "source": [
    "# Imitation RL"
   ]
  },
  {
   "cell_type": "code",
   "execution_count": 31,
   "metadata": {},
   "outputs": [],
   "source": [
    "color_map = [{'0':'pBlue', '1':'pRed','2':'pGreen'}, {'0':'pGreen', '1':'pBlue','2':'pRed'}, {'0':'pRed', '1':'pGreen','2':'pBlue'}]\n",
    "color_values = {'green':1/3, 'blue':1/3, 'red':1/3}\n",
    "machine_values = [0, 0 , 0]\n",
    "alpha = 0.6\n",
    "for dir in df_dirs[:-5]:\n",
    "    df = pd.read_excel(dir)\n",
    "    df= df.dropna(subset=['tokenShown']).reset_index(drop=True)\n",
    "    observable_trials = df[df.trType==1].reset_index(drop=True)\n",
    "    for i in range(observable_trials.shape[0]):\n",
    "        selected_machine = observable_trials['corrAct'][i]\n",
    "        machines = [0,1,2]\n",
    "        machines.remove(selected_machine-1)\n",
    "        machine_values[selected_machine-1] = machine_values[selected_machine-1] + alpha * (1- machine_values[selected_machine-1])\n",
    "        for m in range(len(machines)):\n",
    "            machine_values[m] = machine_values[m] +alpha * (-1-machine_values[m])\n",
    "       \n",
    "predicted_action = []\n",
    "selected_action = []\n",
    "beta = 0.5\n",
    "for dir in df_dirs[-5:]:     \n",
    "    df = pd.read_excel(dir)  \n",
    "    play_trials = df[df.trType==2].dropna(subset=['choice']).reset_index(drop=True)\n",
    "    for i in range(play_trials.shape[0]):\n",
    "        hidden_action = play_trials['unavAct'][i]\n",
    "        left = 2 if hidden_action==1 else 1\n",
    "        right = 2 if hidden_action==3 else 3\n",
    "        \n",
    "        p_left = 1/(1+ np.exp(-beta *(machine_values[left-1] - machine_values[right-1])))\n",
    "        p_right = 1- p_left\n",
    "        \n",
    "        predicted_action.append(np.random.choice([left,right], p=[p_left, p_right]))\n",
    "        selected_action.append(int(play_trials['choice'][i]))\n",
    "    \n",
    "           \n",
    "\n"
   ]
  },
  {
   "cell_type": "code",
   "execution_count": 32,
   "metadata": {},
   "outputs": [
    {
     "data": {
      "text/plain": [
       "0.5137844611528822"
      ]
     },
     "execution_count": 32,
     "metadata": {},
     "output_type": "execute_result"
    }
   ],
   "source": [
    "count = 0\n",
    "for i in range(len(predicted_action)):\n",
    "    if predicted_action[i]==selected_action[i]:\n",
    "        count+=1\n",
    "    \n",
    "count/len(predicted_action)"
   ]
  },
  {
   "cell_type": "code",
   "execution_count": 34,
   "metadata": {},
   "outputs": [],
   "source": [
    "color_map = [{'0':'pBlue', '1':'pRed','2':'pGreen'}, {'0':'pGreen', '1':'pBlue','2':'pRed'}, {'0':'pRed', '1':'pGreen','2':'pBlue'}]\n",
    "color_values = {'green':1/3, 'blue':1/3, 'red':1/3}\n",
    "machine_values = [0, 0 , 0]\n",
    "alpha = 0.5\n",
    "etta = 0.0001\n",
    "for dir in df_dirs[:-5]:\n",
    "    df = pd.read_excel(dir)\n",
    "    df= df.dropna(subset=['tokenShown']).reset_index(drop=True)\n",
    "    observable_trials = df[df.trType==1].reset_index(drop=True)\n",
    "    for i in range(observable_trials.shape[0]):\n",
    "        selected_machine = observable_trials['corrAct'][i]\n",
    "        machines = [0,1,2]\n",
    "        machines.remove(selected_machine-1)\n",
    "        alpha = etta * np.abs(1 - machine_values[selected_machine-1])  + (1-etta)*alpha\n",
    "        machine_values[selected_machine-1] = machine_values[selected_machine-1] + alpha * (1- machine_values[selected_machine-1])\n",
    "        for m in range(len(machines)):\n",
    "            machine_values[m] = machine_values[m] +alpha * (-1-machine_values[m])\n",
    "       \n",
    "predicted_action = []\n",
    "selected_action = []\n",
    "beta = 0.5\n",
    "for dir in df_dirs[-5:]:     \n",
    "    df = pd.read_excel(dir)  \n",
    "    play_trials = df[df.trType==2].dropna(subset=['choice']).reset_index(drop=True)\n",
    "    for i in range(play_trials.shape[0]):\n",
    "        hidden_action = play_trials['unavAct'][i]\n",
    "        left = 2 if hidden_action==1 else 1\n",
    "        right = 2 if hidden_action==3 else 3\n",
    "        \n",
    "        p_left = 1/(1+ np.exp(-beta *(machine_values[left-1] - machine_values[right-1])))\n",
    "        p_right = 1- p_left\n",
    "        \n",
    "        predicted_action.append(np.random.choice([left,right], p=[p_left, p_right]))\n",
    "        selected_action.append(int(play_trials['choice'][i]))\n",
    "    \n",
    "           \n",
    "\n"
   ]
  },
  {
   "cell_type": "code",
   "execution_count": 35,
   "metadata": {},
   "outputs": [
    {
     "data": {
      "text/plain": [
       "0.5388471177944862"
      ]
     },
     "execution_count": 35,
     "metadata": {},
     "output_type": "execute_result"
    }
   ],
   "source": [
    "count = 0\n",
    "for i in range(len(predicted_action)):\n",
    "    if predicted_action[i]==selected_action[i]:\n",
    "        count+=1\n",
    "    \n",
    "count/len(predicted_action)"
   ]
  },
  {
   "cell_type": "markdown",
   "metadata": {},
   "source": [
    "# Emulation RL"
   ]
  },
  {
   "cell_type": "code",
   "execution_count": 38,
   "metadata": {},
   "outputs": [],
   "source": [
    "color_map = [{'0':'pBlue', '1':'pRed','2':'pGreen'}, {'0':'pGreen', '1':'pBlue','2':'pRed'}, {'0':'pRed', '1':'pGreen','2':'pBlue'}]\n",
    "color_values = {'green':0, 'blue':0, 'red':0}\n",
    "machine_values = [0, 0 , 0]\n",
    "alpha = 0.3\n",
    "for dir in df_dirs[:-5]:\n",
    "    df = pd.read_excel(dir)\n",
    "    df= df.dropna(subset=['tokenShown']).reset_index(drop=True)\n",
    "    observable_trials = df[df.trType==1].reset_index(drop=True)\n",
    "    for i in range(observable_trials.shape[0]):\n",
    "        hidden_action = observable_trials['unavAct'][i]\n",
    "        left = 2 if hidden_action==1 else 1\n",
    "        right = 2 if hidden_action==3 else 3\n",
    "        shown_token = observable_trials['tokenShown'][i]\n",
    "        selected_machine = observable_trials['corrAct'][i]\n",
    "        \n",
    "        tpe_green = 1-color_values['green'] if (int(shown_token)-1) ==2 else -1-color_values['green']\n",
    "        color_values['green'] = color_values['green'] + alpha * tpe_green\n",
    "        \n",
    "        tpe_red = 1-color_values['red'] if (int(shown_token)-1) ==1 else -1-color_values['red']\n",
    "        color_values['red'] = color_values['red'] + alpha * tpe_red\n",
    "        \n",
    "        tpe_blue = -1-color_values['blue'] if (int(shown_token)-1) ==0 else -1-color_values['blue']\n",
    "        color_values['blue'] = color_values['blue'] + alpha * tpe_blue\n",
    "\n",
    "        machine_values[0] = observable_trials[color_map[0]['0']][i] * color_values['blue'] + observable_trials[color_map[0]['1']][i] * color_values['red'] +observable_trials[color_map[0]['2']][i] * color_values['green']\n",
    "        machine_values[1] = observable_trials[color_map[0]['0']][i] * color_values['blue'] + observable_trials[color_map[0]['1']][i] * color_values['red'] +observable_trials[color_map[0]['2']][i] * color_values['green']\n",
    "        machine_values[2] =  observable_trials[color_map[0]['0']][i] * color_values['blue'] + observable_trials[color_map[0]['1']][i] * color_values['red'] +observable_trials[color_map[0]['2']][i] * color_values['green']\n",
    "\n",
    "predicted_action = []\n",
    "selected_action = []\n",
    "beta = 0.5\n",
    "for dir in df_dirs[-5:]:     \n",
    "    df = pd.read_excel(dir)  \n",
    "    play_trials = df[df.trType==2].dropna(subset=['choice']).reset_index(drop=True)\n",
    "    for i in range(play_trials.shape[0]):\n",
    "        hidden_action = play_trials['unavAct'][i]\n",
    "        left = 2 if hidden_action==1 else 1\n",
    "        right = 2 if hidden_action==3 else 3\n",
    "        \n",
    "        p_left = 1/(1+ np.exp(-beta *(machine_values[left-1] - machine_values[right-1])))\n",
    "        p_right = 1- p_left\n",
    "        \n",
    "        predicted_action.append(np.random.choice([left,right], p=[p_left, p_right]))\n",
    "        selected_action.append(int(play_trials['choice'][i]))\n",
    "    \n",
    "           \n",
    "\n"
   ]
  },
  {
   "cell_type": "code",
   "execution_count": 39,
   "metadata": {},
   "outputs": [
    {
     "data": {
      "text/plain": [
       "0.5213032581453634"
      ]
     },
     "execution_count": 39,
     "metadata": {},
     "output_type": "execute_result"
    }
   ],
   "source": [
    "count = 0\n",
    "for i in range(len(predicted_action)):\n",
    "    if predicted_action[i]==selected_action[i]:\n",
    "        count+=1\n",
    "    \n",
    "count/len(predicted_action)"
   ]
  },
  {
   "cell_type": "code",
   "execution_count": 42,
   "metadata": {},
   "outputs": [],
   "source": [
    "color_map = [{'0':'pBlue', '1':'pRed','2':'pGreen'}, {'0':'pGreen', '1':'pBlue','2':'pRed'}, {'0':'pRed', '1':'pGreen','2':'pBlue'}]\n",
    "color_values = {'green':0, 'blue':0, 'red':0}\n",
    "machine_values = [0, 0 , 0]\n",
    "alpha = 0.3\n",
    "for dir in df_dirs[:-5]:\n",
    "    df = pd.read_excel(dir)\n",
    "    df= df.dropna(subset=['tokenShown']).reset_index(drop=True)\n",
    "    observable_trials = df[df.trType==1].reset_index(drop=True)\n",
    "    for i in range(observable_trials.shape[0]):\n",
    "        hidden_action = observable_trials['unavAct'][i]\n",
    "        left = 2 if hidden_action==1 else 1\n",
    "        right = 2 if hidden_action==3 else 3\n",
    "        shown_token = observable_trials['tokenShown'][i]\n",
    "        selected_machine = observable_trials['corrAct'][i]\n",
    "        \n",
    "        alpha = etta * np.abs(1 - machine_values[selected_machine-1])  + (1-etta)*alpha\n",
    "        \n",
    "        tpe_green = 1-color_values['green'] if (int(shown_token)-1) ==2 else -1-color_values['green']\n",
    "        color_values['green'] = color_values['green'] + alpha * tpe_green\n",
    "        \n",
    "        tpe_red = 1-color_values['red'] if (int(shown_token)-1) ==1 else -1-color_values['red']\n",
    "        color_values['red'] = color_values['red'] + alpha * tpe_red\n",
    "        \n",
    "        tpe_blue = -1-color_values['blue'] if (int(shown_token)-1) ==0 else -1-color_values['blue']\n",
    "        color_values['blue'] = color_values['blue'] + alpha * tpe_blue\n",
    "\n",
    "        machine_values[0] = observable_trials[color_map[0]['0']][i] * color_values['blue'] + observable_trials[color_map[0]['1']][i] * color_values['red'] +observable_trials[color_map[0]['2']][i] * color_values['green']\n",
    "        machine_values[1] = observable_trials[color_map[0]['0']][i] * color_values['blue'] + observable_trials[color_map[0]['1']][i] * color_values['red'] +observable_trials[color_map[0]['2']][i] * color_values['green']\n",
    "        machine_values[2] =  observable_trials[color_map[0]['0']][i] * color_values['blue'] + observable_trials[color_map[0]['1']][i] * color_values['red'] +observable_trials[color_map[0]['2']][i] * color_values['green']\n",
    "\n",
    "predicted_action = []\n",
    "selected_action = []\n",
    "beta = 0.5\n",
    "for dir in df_dirs[-5:]:     \n",
    "    df = pd.read_excel(dir)  \n",
    "    play_trials = df[df.trType==2].dropna(subset=['choice']).reset_index(drop=True)\n",
    "    for i in range(play_trials.shape[0]):\n",
    "        hidden_action = play_trials['unavAct'][i]\n",
    "        left = 2 if hidden_action==1 else 1\n",
    "        right = 2 if hidden_action==3 else 3\n",
    "        \n",
    "        p_left = 1/(1+ np.exp(-beta *(machine_values[left-1] - machine_values[right-1])))\n",
    "        p_right = 1- p_left\n",
    "        \n",
    "        predicted_action.append(np.random.choice([left,right], p=[p_left, p_right]))\n",
    "        selected_action.append(int(play_trials['choice'][i]))\n",
    "    \n",
    "           \n",
    "\n"
   ]
  },
  {
   "cell_type": "code",
   "execution_count": 43,
   "metadata": {},
   "outputs": [
    {
     "data": {
      "text/plain": [
       "0.5263157894736842"
      ]
     },
     "execution_count": 43,
     "metadata": {},
     "output_type": "execute_result"
    }
   ],
   "source": [
    "count = 0\n",
    "for i in range(len(predicted_action)):\n",
    "    if predicted_action[i]==selected_action[i]:\n",
    "        count+=1\n",
    "    \n",
    "count/len(predicted_action)"
   ]
  },
  {
   "cell_type": "markdown",
   "metadata": {},
   "source": [
    "# Arbitration"
   ]
  },
  {
   "cell_type": "code",
   "execution_count": 44,
   "metadata": {},
   "outputs": [],
   "source": [
    "color_map = [{'0':'pBlue', '1':'pRed','2':'pGreen'}, {'0':'pGreen', '1':'pBlue','2':'pRed'}, {'0':'pRed', '1':'pGreen','2':'pBlue'}]\n",
    "color_values = {'green':1/3, 'blue':1/3, 'red':1/3}\n",
    "machine_values_emulation = [0, 0 , 0]\n",
    "machine_values_imitation = [0, 0 , 0]\n",
    "\n",
    "gamma = 0.99\n",
    "delta = 0.05\n",
    "alpha = 0.05\n",
    "ape = 0.1\n",
    "entropy = 1\n",
    "for dir in df_dirs[:-5]:\n",
    "    df = pd.read_excel(dir)\n",
    "    df= df.dropna(subset=['tokenShown']).reset_index(drop=True)\n",
    "    observable_trials = df[df.trType==1].reset_index(drop=True)\n",
    "    for i in range(observable_trials.shape[0]):\n",
    "        hidden_action = observable_trials['unavAct'][i]\n",
    "        left = 2 if hidden_action==1 else 1\n",
    "        right = 2 if hidden_action==3 else 3\n",
    "        shown_token = observable_trials['tokenShown'][i]\n",
    "        selected_machine = observable_trials['corrAct'][i]\n",
    "        \n",
    "        p_prior_green = gamma * color_values['green'] + (1-gamma) * (color_values['blue'] + color_values['red'])/2\n",
    "        p_prior_red = gamma * color_values['red'] + (1-gamma) * (color_values['blue'] + color_values['green'])/2\n",
    "        p_prior_blue = gamma * color_values['blue'] + (1-gamma) * (color_values['green'] + color_values['red'])/2\n",
    "        \n",
    "        p_evidence_green = 1 if (int(shown_token)-1) ==2 else 0\n",
    "        color_values['green'] = p_prior_green * p_evidence_green\n",
    "        \n",
    "        p_evidence_red = 1 if (int(shown_token)-1) ==1 else 0\n",
    "        color_values['red'] = p_prior_red * p_evidence_red\n",
    "        \n",
    "        p_evidence_blue = 1 if (int(shown_token)-1) ==0 else 0\n",
    "        color_values['blue'] = p_prior_blue * p_evidence_blue\n",
    "\n",
    "        machine_values_emulation[0] = observable_trials[color_map[0]['0']][i] * color_values['blue'] + observable_trials[color_map[0]['1']][i] * color_values['red'] +observable_trials[color_map[0]['2']][i] * color_values['green']\n",
    "        machine_values_emulation[1] = observable_trials[color_map[0]['0']][i] * color_values['blue'] + observable_trials[color_map[0]['1']][i] * color_values['red'] +observable_trials[color_map[0]['2']][i] * color_values['green']\n",
    "        machine_values_emulation[2] =  observable_trials[color_map[0]['0']][i] * color_values['blue'] + observable_trials[color_map[0]['1']][i] * color_values['red'] +observable_trials[color_map[0]['2']][i] * color_values['green']\n",
    "\n",
    "        machines = [0,1,2]\n",
    "        machines.remove(selected_machine-1)\n",
    "        machine_values_imitation[selected_machine-1] = machine_values_imitation[selected_machine-1] + alpha * (1- machine_values_imitation[selected_machine-1])\n",
    "        for m in range(len(machines)):\n",
    "            machine_values_imitation[m] = machine_values_imitation[m] +alpha * (-1-machine_values_imitation[m])\n",
    "        \n",
    "        \n",
    "        \n",
    "        \n",
    "        \n",
    "predicted_action = []\n",
    "selected_action = []\n",
    "beta = 0.5\n",
    "for dir in df_dirs[-5:]:     \n",
    "    df = pd.read_excel(dir)  \n",
    "    play_trials = df[df.trType==2].dropna(subset=['choice']).reset_index(drop=True)\n",
    "    for i in range(play_trials.shape[0]):\n",
    "        hidden_action = play_trials['unavAct'][i]\n",
    "        left = 2 if hidden_action==1 else 1\n",
    "        right = 2 if hidden_action==3 else 3\n",
    "        \n",
    "        prev_entropy = entropy \n",
    "        entropy = -1 * np.sum(np.array(machine_values_emulation) * np.log2(np.array(machine_values_emulation)+0.001))\n",
    "        \n",
    "        R_em = 1 - (entropy - 0)/(10 - 0)\n",
    "        \n",
    "        ape = np.abs(1 - machine_values_imitation[selected_machine-1])\n",
    "        \n",
    "        prev_ape = np.abs(ape)\n",
    "        \n",
    "        R_im =  1 - (ape - 0)/(10 -0)\n",
    "        \n",
    "        omega = 1/(1+np.exp(-(R_em - R_im + delta)))\n",
    "        \n",
    "        p_em_left = 1/(1+ np.exp(-beta *(machine_values_emulation[left-1] - machine_values_emulation[right-1])))\n",
    "        p_im_left = 1/(1+ np.exp(-beta *(machine_values_imitation[left-1] - machine_values_imitation[right-1])))\n",
    "        p_left = omega*p_em_left + (1-omega)*p_im_left\n",
    "        \n",
    "        p_right = 1- p_left\n",
    "        \n",
    "        predicted_action.append(np.random.choice([left,right], p=[p_left, p_right]))\n",
    "        selected_action.append(int(play_trials['choice'][i]))\n",
    "    \n",
    "           \n",
    "\n"
   ]
  },
  {
   "cell_type": "code",
   "execution_count": 45,
   "metadata": {},
   "outputs": [
    {
     "data": {
      "text/plain": [
       "0.5463659147869674"
      ]
     },
     "execution_count": 45,
     "metadata": {},
     "output_type": "execute_result"
    }
   ],
   "source": [
    "count = 0\n",
    "for i in range(len(predicted_action)):\n",
    "    if predicted_action[i]==selected_action[i]:\n",
    "        count+=1\n",
    "    \n",
    "count/len(predicted_action)"
   ]
  },
  {
   "cell_type": "code",
   "execution_count": null,
   "metadata": {},
   "outputs": [],
   "source": []
  }
 ],
 "metadata": {
  "kernelspec": {
   "display_name": "Python 3.8.2 64-bit",
   "language": "python",
   "name": "python3"
  },
  "language_info": {
   "codemirror_mode": {
    "name": "ipython",
    "version": 3
   },
   "file_extension": ".py",
   "mimetype": "text/x-python",
   "name": "python",
   "nbconvert_exporter": "python",
   "pygments_lexer": "ipython3",
   "version": "3.8.2"
  },
  "orig_nbformat": 4,
  "vscode": {
   "interpreter": {
    "hash": "5c3183615832a26a6e752fe1c57826911e31ec709aa29e730b8e3637a0be59be"
   }
  }
 },
 "nbformat": 4,
 "nbformat_minor": 2
}
